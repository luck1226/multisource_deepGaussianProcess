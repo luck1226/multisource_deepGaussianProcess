{
 "cells": [
  {
   "cell_type": "code",
   "execution_count": 1,
   "metadata": {},
   "outputs": [],
   "source": [
    "import numpy as np\n",
    "import matplotlib.pyplot as plt\n",
    "\n",
    "import GPy\n",
    "from GPy.kern import Kern\n",
    "from GPy import Param, Model\n",
    "from deepRBF import deepRBF\n",
    "#from MFRBF import MFRBF"
   ]
  },
  {
   "cell_type": "code",
   "execution_count": 2,
   "metadata": {},
   "outputs": [],
   "source": [
    "from MFRBF import *"
   ]
  },
  {
   "cell_type": "code",
   "execution_count": 3,
   "metadata": {},
   "outputs": [],
   "source": [
    "def rmse(predictions, targets):\n",
    "    return np.sqrt(((predictions - targets) ** 2).mean())\n",
    "\n",
    "def compute_nll(y, mf, vf):\n",
    "    y = y.reshape((y.shape[0],))\n",
    "    ll = -0.5 * np.log(2 * np.pi * vf) - 0.5 * (y - mf)**2 / vf\n",
    "    nll = -ll\n",
    "    return np.mean(nll)"
   ]
  },
  {
   "cell_type": "code",
   "execution_count": 44,
   "metadata": {},
   "outputs": [],
   "source": [
    "def predict_eff(CovMtx, Y):\n",
    "    K_ee = CovMtx[1:,1:]\n",
    "    K_e = CovMtx[0,1:]\n",
    "    K_inv = np.linalg.inv(K_ee+0.00000001*np.eye(K_ee.shape[0]))\n",
    "    pred_mu = np.matmul(np.matmul(K_e, K_inv), Y)\n",
    "    pred_v = CovMtx[0,0] - np.matmul(np.matmul(K_e, K_inv), np.matrix.transpose(K_e))\n",
    "    return pred_mu, np.sqrt(pred_v)\n"
   ]
  },
  {
   "cell_type": "code",
   "execution_count": 90,
   "metadata": {},
   "outputs": [],
   "source": [
    "def f_high(x):\n",
    "    return (6.*x-2)**2*np.sin(12.*x-4.)\n",
    "\n",
    "def f_low(x):\n",
    "    return f_high(x)*0.5+10.*x\n",
    "\n",
    "\n",
    "num_cheap = 10\n",
    "num_expensive = 5\n",
    "\n",
    "np.random.seed(59)\n",
    "X1 = np.random.rand(num_cheap)[:,None]\n",
    "X2 = np.linspace(0,1,num_expensive)[:,None]\n",
    "#X2 = np.random.rand(num_expensive)[:,None]\n",
    "Yc = f_low(X1)\n",
    "\n",
    "Ye = f_high(X2) + 0.00001 * np.random.normal(0,1,num_expensive)[:,None]"
   ]
  },
  {
   "cell_type": "code",
   "execution_count": 91,
   "metadata": {},
   "outputs": [
    {
     "data": {
      "application/vnd.jupyter.widget-view+json": {
       "model_id": "aafbff86384041adb5dc1c348365cdbd",
       "version_major": 2,
       "version_minor": 0
      },
      "text/plain": [
       "HBox(children=(VBox(children=(IntProgress(value=0, max=1000), HTML(value=''))), Box(children=(HTML(value=''),)…"
      ]
     },
     "metadata": {},
     "output_type": "display_data"
    },
    {
     "name": "stdout",
     "output_type": "stream",
     "text": [
      "Optimization restart 1/10, f = 10.938363541462033\n",
      "Optimization restart 2/10, f = 22.02178802626361\n",
      "Optimization restart 3/10, f = 22.021788026247727\n",
      "Optimization restart 4/10, f = 22.021788026281335\n",
      "Optimization restart 5/10, f = 22.021788026247734\n",
      "Optimization restart 6/10, f = 22.02178802630892\n",
      "Optimization restart 7/10, f = 22.021788026256257\n",
      "Optimization restart 8/10, f = 22.021788026249773\n",
      "Optimization restart 9/10, f = 22.021788026250714\n",
      "Optimization restart 10/10, f = 22.021788026289627\n"
     ]
    },
    {
     "data": {
      "text/plain": [
       "{'dataplot': [<matplotlib.collections.PathCollection at 0x7fdcc0a4eb10>],\n",
       " 'gpmean': [[<matplotlib.lines.Line2D at 0x7fdcc0b42f90>]],\n",
       " 'gpconfidence': [<matplotlib.collections.PolyCollection at 0x7fdcc0b51410>]}"
      ]
     },
     "execution_count": 91,
     "metadata": {},
     "output_type": "execute_result"
    },
    {
     "data": {
      "image/png": "[encoded data removed]",
      "text/plain": [
       "<Figure size 432x288 with 1 Axes>"
      ]
     },
     "metadata": {
      "needs_background": "light"
     },
     "output_type": "display_data"
    }
   ],
   "source": [
    "K1 = GPy.kern.RBF(input_dim = 1, variance = 1, lengthscale = 0.1)\n",
    "m1 = GPy.models.GPRegression(X1, Yc, K1, noise_var = 0.0001)\n",
    "m1.optimize(messages=True)\n",
    "m1.optimize_restarts(num_restarts = 10)\n",
    "m1.plot()"
   ]
  },
  {
   "cell_type": "code",
   "execution_count": 92,
   "metadata": {},
   "outputs": [],
   "source": [
    "mu, v = m1.predict(X2, full_cov = True)\n",
    "\n",
    "deepKern = MFRBF(input_dim=1, variance = 0.8, lengthscale = 1, mu = mu, v=v)\n",
    "kRBF = GPy.kern.RBF(input_dim = 1)\n",
    "\n",
    "effKern = kRBF * deepKern"
   ]
  },
  {
   "cell_type": "code",
   "execution_count": 93,
   "metadata": {},
   "outputs": [
    {
     "data": {
      "text/plain": [
       "<paramz.optimization.optimization.opt_lbfgsb at 0x7fdcc0b90c50>"
      ]
     },
     "execution_count": 93,
     "metadata": {},
     "output_type": "execute_result"
    }
   ],
   "source": [
    "m2 = GPy.models.GPRegression(X2, Ye, effKern)\n",
    "m2.optimize()"
   ]
  },
  {
   "cell_type": "code",
   "execution_count": 94,
   "metadata": {},
   "outputs": [
    {
     "name": "stdout",
     "output_type": "stream",
     "text": [
      "Optimization restart 1/10, f = 16.520997096073643\n",
      "Optimization restart 2/10, f = 16.52099182192705\n",
      "Optimization restart 3/10, f = 15.26669059311561\n",
      "Optimization restart 4/10, f = 16.520991994490924\n",
      "Optimization restart 5/10, f = 15.266690537103068\n",
      "Optimization restart 6/10, f = 15.266690527812466\n",
      "Optimization restart 7/10, f = 15.266690653004597\n",
      "Optimization restart 8/10, f = 16.52099196774942\n",
      "Optimization restart 9/10, f = 16.520994437237334\n",
      "Optimization restart 10/10, f = 15.266726351739074\n"
     ]
    },
    {
     "data": {
      "text/plain": [
       "[<paramz.optimization.optimization.opt_lbfgsb at 0x7fdcc0b90c50>,\n",
       " <paramz.optimization.optimization.opt_lbfgsb at 0x7fdcc0b98f90>,\n",
       " <paramz.optimization.optimization.opt_lbfgsb at 0x7fdcc0b83c90>,\n",
       " <paramz.optimization.optimization.opt_lbfgsb at 0x7fdcc081f510>,\n",
       " <paramz.optimization.optimization.opt_lbfgsb at 0x7fdcbfd2e190>,\n",
       " <paramz.optimization.optimization.opt_lbfgsb at 0x7fdcc0b98990>,\n",
       " <paramz.optimization.optimization.opt_lbfgsb at 0x7fdcc0b90ed0>,\n",
       " <paramz.optimization.optimization.opt_lbfgsb at 0x7fdcc0b90310>,\n",
       " <paramz.optimization.optimization.opt_lbfgsb at 0x7fdcc0b6b710>,\n",
       " <paramz.optimization.optimization.opt_lbfgsb at 0x7fdcc080bad0>,\n",
       " <paramz.optimization.optimization.opt_lbfgsb at 0x7fdcc0b90890>]"
      ]
     },
     "execution_count": 94,
     "metadata": {},
     "output_type": "execute_result"
    }
   ],
   "source": [
    "m2.optimize_restarts(num_restarts = 10)"
   ]
  },
  {
   "cell_type": "code",
   "execution_count": 95,
   "metadata": {},
   "outputs": [
    {
     "name": "stdout",
     "output_type": "stream",
     "text": [
      "\n",
      "Name : GP regression\n",
      "Objective : 15.266690527812466\n",
      "Number of Parameters : 5\n",
      "Number of Optimization Parameters : 5\n",
      "Updates : True\n",
      "Parameters:\n",
      "  \u001b[1mGP_regression.         \u001b[0;0m  |                   value  |  constraints  |  priors\n",
      "  \u001b[1mmul.rbf.variance       \u001b[0;0m  |       6.497844893991252  |      +ve      |        \n",
      "  \u001b[1mmul.rbf.lengthscale    \u001b[0;0m  |       3.726014118160195  |      +ve      |        \n",
      "  \u001b[1mmul.MFRBF.variance     \u001b[0;0m  |      24.468279703543104  |               |        \n",
      "  \u001b[1mmul.MFRBF.lengtscale   \u001b[0;0m  |     -52.243711966154855  |               |        \n",
      "  \u001b[1mGaussian_noise.variance\u001b[0;0m  |  1.4866435423658696e-12  |      +ve      |        \n"
     ]
    }
   ],
   "source": [
    "print(m2)"
   ]
  },
  {
   "cell_type": "code",
   "execution_count": 96,
   "metadata": {},
   "outputs": [
    {
     "name": "stdout",
     "output_type": "stream",
     "text": [
      "6.497844893991252\n",
      "3.726014118160195\n",
      "24.468279703543104\n",
      "-52.243711966154855\n"
     ]
    }
   ],
   "source": [
    "print(m2.kern.rbf.variance[0])\n",
    "print(m2.kern.rbf.lengthscale[0])\n",
    "print(m2.kern.MFRBF.variance[0])\n",
    "print(m2.kern.MFRBF.lengthscale[0])"
   ]
  },
  {
   "cell_type": "code",
   "execution_count": 105,
   "metadata": {},
   "outputs": [],
   "source": [
    "#s1=0.8817598540664018 \n",
    "#l1=1.0049914242449915\n",
    "#s2=0.41618880973211025\n",
    "#l2=0.740372462046252 \n",
    "\n",
    "s1 = m2.kern.rbf.variance[0]\n",
    "l1 = m2.kern.rbf.lengthscale[0]\n",
    "s2 = m2.kern.MFRBF.variance[0]\n",
    "l2 = m2.kern.MFRBF.lengthscale[0]\n",
    "\n",
    "X_test = np.linspace(-0.1,1.1,99)[:,None]\n",
    "Y_test=[]\n",
    "Y_test_up=[]\n",
    "Y_test_down=[]\n",
    "\n",
    "for xx in X_test:\n",
    "    Xnew = np.vstack((xx,X2))\n",
    "    mu1, v1 = m1.predict(Xnew, full_cov = True)\n",
    "    kernMF = MFRBF(input_dim=1,variance = s2, lengthscale = l2, mu = mu1, v=v1)\n",
    "    kernRBF = GPy.kern.RBF(input_dim = 1, variance = s1, lengthscale = l1)\n",
    "    M1 = kernMF.K(Xnew)\n",
    "    M2 = kernRBF.K(Xnew)\n",
    "    GG = np.multiply(M1, M2)\n",
    "    \n",
    "    pred_mu, pred_v = predict_eff(GG, Ye)\n",
    "    \n",
    "    Y_test.append(pred_mu)\n",
    "    Y_test_up.append(pred_mu+1.96*pred_v)\n",
    "    Y_test_down.append(pred_mu-1.96*pred_v)"
   ]
  },
  {
   "cell_type": "code",
   "execution_count": 108,
   "metadata": {},
   "outputs": [],
   "source": [
    "X_plot = np.linspace(-0.1,1.1,200)[:,None]\n",
    "f_c=f_low(X_plot)\n",
    "f_e=f_high(X_plot)"
   ]
  },
  {
   "cell_type": "code",
   "execution_count": 110,
   "metadata": {},
   "outputs": [
    {
     "data": {
      "image/png": "[encoded data removed]",
      "text/plain": [
       "<Figure size 576x288 with 1 Axes>"
      ]
     },
     "metadata": {
      "needs_background": "light"
     },
     "output_type": "display_data"
    }
   ],
   "source": [
    "fig, ax = plt.subplots(figsize=(8,4))\n",
    "plt.plot(X2,Ye,'ro')\n",
    "plt.plot(X_plot,f_e,'r-.')\n",
    "#plt.plot(X_plot,f_c,'b.')\n",
    "plt.plot(X_test,Y_test,'k-',linewidth=2)\n",
    "plt.fill_between(np.array(X_test).flatten(),np.array(Y_test_up).flatten(),np.array(Y_test_down).flatten(),facecolor='g',alpha=0.3)\n",
    "plt.grid()\n",
    "plt.show()"
   ]
  },
  {
   "cell_type": "code",
   "execution_count": 111,
   "metadata": {},
   "outputs": [],
   "source": [
    "fig.savefig('linearA.pdf', bbox_inches='tight')"
   ]
  },
  {
   "cell_type": "code",
   "execution_count": 87,
   "metadata": {},
   "outputs": [
    {
     "data": {
      "text/plain": [
       "{'dataplot': [<matplotlib.collections.PathCollection at 0x7fdcbf9decd0>],\n",
       " 'gpmean': [[<matplotlib.lines.Line2D at 0x7fdcbf9eb410>]],\n",
       " 'gpconfidence': [<matplotlib.collections.PolyCollection at 0x7fdcbf9eb890>]}"
      ]
     },
     "execution_count": 87,
     "metadata": {},
     "output_type": "execute_result"
    },
    {
     "data": {
      "image/png": "[encoded data removed]",
      "text/plain": [
       "<Figure size 432x288 with 1 Axes>"
      ]
     },
     "metadata": {
      "needs_background": "light"
     },
     "output_type": "display_data"
    }
   ],
   "source": [
    "d_rbf = deepRBF(input_dim=X2.shape[1])\n",
    "m3 = GPy.models.GPRegression(X2, Ye,d_rbf)\n",
    "m3.optimize()\n",
    "m3.plot()"
   ]
  },
  {
   "cell_type": "code",
   "execution_count": null,
   "metadata": {},
   "outputs": [],
   "source": []
  }
 ],
 "metadata": {
  "kernelspec": {
   "display_name": "Python 3",
   "language": "python",
   "name": "python3"
  },
  "language_info": {
   "codemirror_mode": {
    "name": "ipython",
    "version": 3
   },
   "file_extension": ".py",
   "mimetype": "text/x-python",
   "name": "python",
   "nbconvert_exporter": "python",
   "pygments_lexer": "ipython3",
   "version": "3.7.6"
  }
 },
 "nbformat": 4,
 "nbformat_minor": 2
}
