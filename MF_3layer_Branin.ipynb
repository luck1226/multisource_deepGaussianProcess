{
 "cells": [
  {
   "cell_type": "code",
   "execution_count": 5,
   "metadata": {},
   "outputs": [],
   "source": [
    "import numpy as np\n",
    "\n",
    "from emukit.test_functions.multi_fidelity import multi_fidelity_branin_function\n",
    "from emukit.core import ContinuousParameter, ParameterSpace\n",
    "from emukit.core.initial_designs import LatinDesign\n",
    "\n",
    "from sklearn.metrics import mean_squared_error, r2_score"
   ]
  },
  {
   "cell_type": "code",
   "execution_count": 6,
   "metadata": {},
   "outputs": [],
   "source": [
    "from collections import namedtuple\n",
    "\n",
    "Function = namedtuple('Function', ['name', 'y_scale', 'noise_level', 'do_x_scaling', 'num_data', 'fcn'])\n",
    "\n",
    "branin = Function(name='branin', y_scale=1, noise_level=[0., 0., 0.], do_x_scaling=False, num_data=[80, 30, 10], \n",
    "                    fcn=multi_fidelity_branin_function)"
   ]
  },
  {
   "cell_type": "code",
   "execution_count": 7,
   "metadata": {},
   "outputs": [],
   "source": [
    "def generate_data(fcn_tuple, n_test_points):\n",
    "    \"\"\"\n",
    "    Generates train and test data for\n",
    "    \"\"\"\n",
    "    \n",
    "    # A different definition of the parameter space for the branin function was used in the paper\n",
    "    if fcn_tuple.name == 'branin':\n",
    "        fcn, space = fcn_tuple.fcn()\n",
    "        new_space = ParameterSpace([ContinuousParameter('x1', -5., 0.), ContinuousParameter('x2', 10., 15.)])\n",
    "    else:\n",
    "        fcn, space = fcn_tuple.fcn()\n",
    "        new_space = ParameterSpace(space._parameters[:-1])\n",
    "    \n",
    "    do_x_scaling = fcn_tuple.do_x_scaling\n",
    "    \n",
    "    \n",
    "    # Generate training data\n",
    "    \n",
    "    latin = LatinDesign(new_space)\n",
    "    X = [latin.get_samples(n) for n in fcn_tuple.num_data]\n",
    "    \n",
    "    # Scale X if required\n",
    "    if do_x_scaling:\n",
    "        scalings = X[0].std(axis=0)\n",
    "    else:\n",
    "        scalings = np.ones(X[0].shape[1])\n",
    "        \n",
    "    for x in X:\n",
    "        x /= scalings\n",
    "    \n",
    "    Y = []\n",
    "    for i, x in enumerate(X):\n",
    "        Y.append(fcn.f[i](x * scalings))\n",
    "    \n",
    "    y_scale = fcn_tuple.y_scale\n",
    "    \n",
    "    # scale y and add noise if required\n",
    "    noise_levels = fcn_tuple.noise_level\n",
    "    if any([n > 0 for n in noise_levels]):\n",
    "        for y, std_noise in zip(Y, noise_levels):\n",
    "            y /= y_scale + std_noise * np.random.randn(y.shape[0], 1)\n",
    "    \n",
    "    # Generate test data\n",
    "    x_test = latin.get_samples(n_test_points)\n",
    "    x_test /= scalings\n",
    "    y_test = fcn.f[-1](x_test * scalings)\n",
    "    y_test /= y_scale\n",
    "\n",
    "    i_highest_fidelity = (len(fcn_tuple.num_data) - 1) * np.ones((x_test.shape[0], 1))\n",
    "    x_test = np.concatenate([x_test, i_highest_fidelity], axis=1)\n",
    "    print(X[1].shape)\n",
    "    return x_test, y_test, X, Y"
   ]
  },
  {
   "cell_type": "code",
   "execution_count": 8,
   "metadata": {},
   "outputs": [],
   "source": [
    "def calculate_metrics(y_test, y_mean_prediction, y_var_prediction):\n",
    "    # R2\n",
    "    r2 = r2_score(y_test, y_mean_prediction)\n",
    "    # RMSE\n",
    "    rmse = np.sqrt(mean_squared_error(y_test, y_mean_prediction))\n",
    "    # Test log likelihood\n",
    "    mnll = -np.sum(scipy.stats.norm.logpdf(y_test, loc=y_mean_prediction, scale=np.sqrt(y_var_prediction)))/len(y_test)\n",
    "    return {'r2': r2, 'rmse': rmse, 'mnll': mnll}"
   ]
  },
  {
   "cell_type": "code",
   "execution_count": 282,
   "metadata": {},
   "outputs": [
    {
     "name": "stdout",
     "output_type": "stream",
     "text": [
      "(30, 2)\n"
     ]
    }
   ],
   "source": [
    "np.random.seed(123)\n",
    "\n",
    "x_test, y_test, X, Y = generate_data(branin, 1000)"
   ]
  },
  {
   "cell_type": "code",
   "execution_count": 283,
   "metadata": {},
   "outputs": [
    {
     "data": {
      "text/plain": [
       "((80, 2), (80, 1))"
      ]
     },
     "execution_count": 283,
     "metadata": {},
     "output_type": "execute_result"
    }
   ],
   "source": [
    "X[0].shape, Y[0].shape"
   ]
  },
  {
   "cell_type": "code",
   "execution_count": 284,
   "metadata": {},
   "outputs": [
    {
     "data": {
      "text/plain": [
       "((30, 2), (30, 1))"
      ]
     },
     "execution_count": 284,
     "metadata": {},
     "output_type": "execute_result"
    }
   ],
   "source": [
    "X[1].shape, Y[1].shape"
   ]
  },
  {
   "cell_type": "code",
   "execution_count": 285,
   "metadata": {},
   "outputs": [
    {
     "data": {
      "text/plain": [
       "((10, 2), (10, 1))"
      ]
     },
     "execution_count": 285,
     "metadata": {},
     "output_type": "execute_result"
    }
   ],
   "source": [
    "X[2].shape, Y[2].shape"
   ]
  },
  {
   "cell_type": "code",
   "execution_count": 286,
   "metadata": {},
   "outputs": [
    {
     "data": {
      "text/plain": [
       "((1000, 3), (1000, 1))"
      ]
     },
     "execution_count": 286,
     "metadata": {},
     "output_type": "execute_result"
    }
   ],
   "source": [
    "x_test.shape, y_test.shape"
   ]
  },
  {
   "cell_type": "code",
   "execution_count": 287,
   "metadata": {},
   "outputs": [
    {
     "name": "stdout",
     "output_type": "stream",
     "text": [
      "[[-4.8325 13.7975  2.    ]\n",
      " [-3.4175 11.2275  2.    ]\n",
      " [-3.4775 10.8875  2.    ]\n",
      " [-3.9025 10.4475  2.    ]\n",
      " [-3.1625 12.6675  2.    ]\n",
      " [-4.8425 13.0825  2.    ]\n",
      " [-0.3775 14.2025  2.    ]\n",
      " [-0.1925 13.4525  2.    ]\n",
      " [-2.2375 10.3825  2.    ]\n",
      " [-0.4875 14.5475  2.    ]\n",
      " [-0.0775 12.8175  2.    ]\n",
      " [-1.4775 13.6225  2.    ]\n",
      " [-3.9375 11.5375  2.    ]\n",
      " [-3.3725 12.7925  2.    ]\n",
      " [-0.3675 10.5075  2.    ]]\n"
     ]
    }
   ],
   "source": [
    "print(x_test[0:15])"
   ]
  },
  {
   "cell_type": "markdown",
   "metadata": {},
   "source": [
    "## Introduce AR1 model and fit all three fidelities of data"
   ]
  },
  {
   "cell_type": "code",
   "execution_count": 288,
   "metadata": {},
   "outputs": [
    {
     "name": "stdout",
     "output_type": "stream",
     "text": [
      "Optimization restart 1/10, f = -343.5485140738341\n",
      "Optimization restart 2/10, f = -343.5485147086077\n",
      "Optimization restart 3/10, f = -343.5485147440106\n",
      "Optimization restart 4/10, f = -343.54851440211814\n",
      "Optimization restart 5/10, f = -343.548513919607\n",
      "Optimization restart 6/10, f = -343.5485123853232\n",
      "Optimization restart 7/10, f = -343.5485110649246\n",
      "Optimization restart 8/10, f = -343.5485095239152\n",
      "Optimization restart 9/10, f = -343.54851309075843\n",
      "Optimization restart 10/10, f = -343.54851442071214\n",
      "Optimization restart 1/10, f = -347.6872849459901\n",
      "Optimization restart 2/10, f = -347.68732649413437\n",
      "Optimization restart 3/10, f = -346.0946025645288\n",
      "Optimization restart 4/10, f = -346.0948604673432\n",
      "Optimization restart 5/10, f = -347.6873290404436\n",
      "Optimization restart 6/10, f = -347.68710088828857\n",
      "Optimization restart 7/10, f = -347.68679223994127\n",
      "Optimization restart 8/10, f = -346.0948181943676\n",
      "Optimization restart 9/10, f = -346.0948440550005\n",
      "Optimization restart 10/10, f = -347.6873159393841\n"
     ]
    }
   ],
   "source": [
    "from emukit.examples.multi_fidelity_dgp.baseline_model_wrappers import LinearAutoRegressiveModel\n",
    "\n",
    "m1 =  LinearAutoRegressiveModel(X, Y)\n",
    "m1.optimize()"
   ]
  },
  {
   "cell_type": "code",
   "execution_count": 289,
   "metadata": {},
   "outputs": [
    {
     "name": "stdout",
     "output_type": "stream",
     "text": [
      "{'r2': 0.9970478911109587, 'rmse': 0.011164426415574706, 'mnll': -3.691304798717162}\n"
     ]
    }
   ],
   "source": [
    "y_mean, y_var = m1.predict(x_test)\n",
    "\n",
    "import scipy.stats\n",
    "\n",
    "print(calculate_metrics(y_test, y_mean, y_var))"
   ]
  },
  {
   "cell_type": "code",
   "execution_count": 290,
   "metadata": {},
   "outputs": [
    {
     "data": {
      "image/png": "[encoded data removed]",
      "text/plain": [
       "<Figure size 432x288 with 1 Axes>"
      ]
     },
     "metadata": {
      "needs_background": "light"
     },
     "output_type": "display_data"
    }
   ],
   "source": [
    "import matplotlib.pyplot as plt\n",
    "\n",
    "plt.scatter(y_mean,y_test)\n",
    "plt.plot([0, 1], [0, 1], '--k', transform=plt.gca().transAxes)\n",
    "plt.show()"
   ]
  },
  {
   "cell_type": "markdown",
   "metadata": {},
   "source": [
    "## To set up the data in three-layer structure\n",
    "### Cheap data, expensive data, high data"
   ]
  },
  {
   "cell_type": "code",
   "execution_count": 291,
   "metadata": {},
   "outputs": [
    {
     "data": {
      "text/plain": [
       "<paramz.optimization.optimization.opt_lbfgsb at 0x7fc5c85d4490>"
      ]
     },
     "execution_count": 291,
     "metadata": {},
     "output_type": "execute_result"
    }
   ],
   "source": [
    "X_branin_cheap = X[0]\n",
    "X_branin_expensive = X[1]\n",
    "X_branin_high = X[2]\n",
    "\n",
    "y_branin_cheap = Y[0]\n",
    "y_branin_expensive = Y[1]\n",
    "y_branin_high = Y[2]\n",
    "\n",
    "import GPy\n",
    "from GPy.kern import Kern\n",
    "from GPy import Param, Model\n",
    "\n",
    "m2 = GPy.models.GPRegression(X_branin_cheap, y_branin_cheap)\n",
    "m2.optimize()"
   ]
  },
  {
   "cell_type": "code",
   "execution_count": 292,
   "metadata": {},
   "outputs": [
    {
     "name": "stderr",
     "output_type": "stream",
     "text": [
      " /Users/felix/opt/anaconda3/lib/python3.7/site-packages/GPy/plotting/matplot_dep/plot_definitions.py:184: UserWarning:The following kwargs were not used by contour: 'label', 'linewidth'\n"
     ]
    },
    {
     "data": {
      "text/plain": [
       "{'dataplot': [<matplotlib.collections.PathCollection at 0x7fc5c85e7b10>],\n",
       " 'gpmean': [<matplotlib.contour.QuadContourSet at 0x7fc5c85e14d0>]}"
      ]
     },
     "execution_count": 292,
     "metadata": {},
     "output_type": "execute_result"
    },
    {
     "data": {
      "image/png": "[encoded data removed]",
      "text/plain": [
       "<Figure size 432x288 with 1 Axes>"
      ]
     },
     "metadata": {
      "needs_background": "light"
     },
     "output_type": "display_data"
    }
   ],
   "source": [
    "m2.plot()"
   ]
  },
  {
   "cell_type": "code",
   "execution_count": 293,
   "metadata": {},
   "outputs": [
    {
     "name": "stdout",
     "output_type": "stream",
     "text": [
      "\n",
      "Name : GP regression\n",
      "Objective : -205.71136382204776\n",
      "Number of Parameters : 3\n",
      "Number of Optimization Parameters : 3\n",
      "Updates : True\n",
      "Parameters:\n",
      "  \u001b[1mGP_regression.         \u001b[0;0m  |                   value  |  constraints  |  priors\n",
      "  \u001b[1mrbf.variance           \u001b[0;0m  |       0.545177655271929  |      +ve      |        \n",
      "  \u001b[1mrbf.lengthscale        \u001b[0;0m  |       1.716010624033931  |      +ve      |        \n",
      "  \u001b[1mGaussian_noise.variance\u001b[0;0m  |  1.2989771296387394e-05  |      +ve      |        \n"
     ]
    }
   ],
   "source": [
    "print(m2)"
   ]
  },
  {
   "cell_type": "code",
   "execution_count": 294,
   "metadata": {},
   "outputs": [
    {
     "data": {
      "text/plain": [
       "(0.545177655271929, 1.716010624033931)"
      ]
     },
     "execution_count": 294,
     "metadata": {},
     "output_type": "execute_result"
    }
   ],
   "source": [
    "m2.kern.variance[0], m2.kern.lengthscale[0]"
   ]
  },
  {
   "cell_type": "markdown",
   "metadata": {},
   "source": [
    "### predicting the expensive data using gp trained with cheap data"
   ]
  },
  {
   "cell_type": "code",
   "execution_count": 295,
   "metadata": {},
   "outputs": [],
   "source": [
    "muA, vA = m2.predict(X_branin_expensive, full_cov = True)"
   ]
  },
  {
   "cell_type": "markdown",
   "metadata": {},
   "source": [
    "### Set up the kernel matrix using posterior mean and covariance in mu_A and cov_A"
   ]
  },
  {
   "cell_type": "code",
   "execution_count": 296,
   "metadata": {},
   "outputs": [],
   "source": [
    "from MFRBF import MFRBF\n",
    "\n",
    "kMF_A = MFRBF(input_dim=X_branin_expensive.shape[1], variance = 5, lengthscale = 1, mu = muA, v=vA)"
   ]
  },
  {
   "cell_type": "code",
   "execution_count": 297,
   "metadata": {},
   "outputs": [
    {
     "data": {
      "text/plain": [
       "<paramz.optimization.optimization.opt_lbfgsb at 0x7fc5c833b310>"
      ]
     },
     "execution_count": 297,
     "metadata": {},
     "output_type": "execute_result"
    }
   ],
   "source": [
    "kRBF_A = GPy.kern.RBF(input_dim = X_branin_expensive.shape[1])\n",
    "\n",
    "k_A = kMF_A * kRBF_A\n",
    "\n",
    "m_A = GPy.models.GPRegression(X_branin_expensive, y_branin_expensive, k_A)\n",
    "\n",
    "m_A.optimize()"
   ]
  },
  {
   "cell_type": "code",
   "execution_count": 298,
   "metadata": {},
   "outputs": [
    {
     "name": "stdout",
     "output_type": "stream",
     "text": [
      "\n",
      "Name : GP regression\n",
      "Objective : -3.9207326763137806\n",
      "Number of Parameters : 5\n",
      "Number of Optimization Parameters : 5\n",
      "Updates : True\n",
      "Parameters:\n",
      "  \u001b[1mGP_regression.         \u001b[0;0m  |                value  |  constraints  |  priors\n",
      "  \u001b[1mmul.MFRBF.variance     \u001b[0;0m  |     4.21047386167465  |               |        \n",
      "  \u001b[1mmul.MFRBF.lengtscale   \u001b[0;0m  |   1.3485059767483227  |               |        \n",
      "  \u001b[1mmul.rbf.variance       \u001b[0;0m  |  0.12244379168648663  |      +ve      |        \n",
      "  \u001b[1mmul.rbf.lengthscale    \u001b[0;0m  |   4.1785243911768815  |      +ve      |        \n",
      "  \u001b[1mGaussian_noise.variance\u001b[0;0m  |  0.05819004252800335  |      +ve      |        \n"
     ]
    }
   ],
   "source": [
    "print(m_A)"
   ]
  },
  {
   "cell_type": "markdown",
   "metadata": {},
   "source": [
    "### Now it is going to get the posterior for x_high"
   ]
  },
  {
   "cell_type": "code",
   "execution_count": 299,
   "metadata": {},
   "outputs": [],
   "source": [
    "def predict_eff(CovMtx, Y):\n",
    "    len_expensive = Y.shape[0]\n",
    "    len_all = CovMtx.shape[0]\n",
    "    len_high = len_all-len_expensive\n",
    "    K_ee = CovMtx[len_high:,len_high:]\n",
    "    K_e = CovMtx[0:len_high,len_high:]\n",
    "    K_inv = np.linalg.inv(K_ee+0.000001*np.eye(len_expensive))\n",
    "    pred_mu = np.matmul(np.matmul(K_e, K_inv), Y)\n",
    "    pred_v = CovMtx[0:len_high,0:len_high] - np.matmul(np.matmul(K_e, K_inv), np.matrix.transpose(K_e))\n",
    "    return pred_mu, pred_v"
   ]
  },
  {
   "cell_type": "code",
   "execution_count": 300,
   "metadata": {},
   "outputs": [],
   "source": [
    "s1=m_A.kern.rbf.variance[0]\n",
    "l1=m_A.kern.rbf.lengthscale[0]\n",
    "s2=m_A.kern.MFRBF.variance[0]\n",
    "l2=m_A.kern.MFRBF.lengthscale[0]"
   ]
  },
  {
   "cell_type": "code",
   "execution_count": 301,
   "metadata": {},
   "outputs": [
    {
     "data": {
      "text/plain": [
       "(0.12244379168648663, 4.1785243911768815, 4.21047386167465, 1.3485059767483227)"
      ]
     },
     "execution_count": 301,
     "metadata": {},
     "output_type": "execute_result"
    }
   ],
   "source": [
    "s1, l1, s2, l2"
   ]
  },
  {
   "cell_type": "code",
   "execution_count": 302,
   "metadata": {},
   "outputs": [],
   "source": [
    "Xnew = np.vstack((X_branin_high,X_branin_expensive))"
   ]
  },
  {
   "cell_type": "code",
   "execution_count": 303,
   "metadata": {},
   "outputs": [
    {
     "data": {
      "text/plain": [
       "(40, 2)"
      ]
     },
     "execution_count": 303,
     "metadata": {},
     "output_type": "execute_result"
    }
   ],
   "source": [
    "Xnew.shape"
   ]
  },
  {
   "cell_type": "code",
   "execution_count": 304,
   "metadata": {},
   "outputs": [],
   "source": [
    "mu1, v1 = m2.predict(Xnew, full_cov = True)"
   ]
  },
  {
   "cell_type": "code",
   "execution_count": 305,
   "metadata": {},
   "outputs": [
    {
     "data": {
      "text/plain": [
       "((40, 1), (40, 40))"
      ]
     },
     "execution_count": 305,
     "metadata": {},
     "output_type": "execute_result"
    }
   ],
   "source": [
    "mu1.shape, v1.shape"
   ]
  },
  {
   "cell_type": "code",
   "execution_count": 306,
   "metadata": {},
   "outputs": [],
   "source": [
    "kMF_tmp = MFRBF(input_dim=X_branin_high.shape[1],variance = s2, lengthscale = l2, mu = mu1, v=v1)\n",
    "kRBF_tmp = GPy.kern.RBF(input_dim = X_branin_high.shape[1], variance = s1, lengthscale = l1)\n",
    "M1 = kMF_tmp.K(Xnew)\n",
    "M2 = kRBF_tmp.K(Xnew)\n",
    "GG = np.multiply(M1, M2)\n",
    "    \n",
    "pred_mu, pred_cov = predict_eff(GG, y_branin_expensive)"
   ]
  },
  {
   "cell_type": "code",
   "execution_count": 307,
   "metadata": {},
   "outputs": [
    {
     "data": {
      "text/plain": [
       "((10, 1), (10, 10))"
      ]
     },
     "execution_count": 307,
     "metadata": {},
     "output_type": "execute_result"
    }
   ],
   "source": [
    "pred_mu.shape, pred_cov.shape"
   ]
  },
  {
   "cell_type": "markdown",
   "metadata": {},
   "source": [
    "### Start of training the high layer (3rd layer)"
   ]
  },
  {
   "cell_type": "code",
   "execution_count": 308,
   "metadata": {},
   "outputs": [],
   "source": [
    "kMF_B = MFRBF(input_dim=X_branin_expensive.shape[1], variance = 2, lengthscale = 1, mu = pred_mu, v=pred_cov)"
   ]
  },
  {
   "cell_type": "code",
   "execution_count": 309,
   "metadata": {},
   "outputs": [
    {
     "data": {
      "text/plain": [
       "<paramz.optimization.optimization.opt_lbfgsb at 0x7fc5c8343c90>"
      ]
     },
     "execution_count": 309,
     "metadata": {},
     "output_type": "execute_result"
    }
   ],
   "source": [
    "kRBF_B = GPy.kern.RBF(input_dim = X_branin_expensive.shape[1])\n",
    "\n",
    "k_B = kMF_B * kRBF_B\n",
    "\n",
    "m_B = GPy.models.GPRegression(X_branin_high, y_branin_high, k_B)\n",
    "\n",
    "m_B.optimize()"
   ]
  },
  {
   "cell_type": "code",
   "execution_count": 310,
   "metadata": {},
   "outputs": [
    {
     "name": "stdout",
     "output_type": "stream",
     "text": [
      "\n",
      "Name : GP regression\n",
      "Objective : 2.7636396108071426\n",
      "Number of Parameters : 5\n",
      "Number of Optimization Parameters : 5\n",
      "Updates : True\n",
      "Parameters:\n",
      "  \u001b[1mGP_regression.         \u001b[0;0m  |                value  |  constraints  |  priors\n",
      "  \u001b[1mmul.MFRBF.variance     \u001b[0;0m  |  0.09530391472126265  |               |        \n",
      "  \u001b[1mmul.MFRBF.lengtscale   \u001b[0;0m  |   1.0476099026755166  |               |        \n",
      "  \u001b[1mmul.rbf.variance       \u001b[0;0m  |   0.1770554516053688  |      +ve      |        \n",
      "  \u001b[1mmul.rbf.lengthscale    \u001b[0;0m  |   1.6216686028992606  |      +ve      |        \n",
      "  \u001b[1mGaussian_noise.variance\u001b[0;0m  |  0.14319712547068372  |      +ve      |        \n"
     ]
    }
   ],
   "source": [
    "print(m_B)"
   ]
  },
  {
   "cell_type": "code",
   "execution_count": 311,
   "metadata": {},
   "outputs": [],
   "source": [
    "sb1=m_B.kern.rbf.variance[0]\n",
    "lb1=m_B.kern.rbf.lengthscale[0]\n",
    "sb2=m_B.kern.MFRBF.variance[0]\n",
    "lb2=m_B.kern.MFRBF.lengthscale[0]"
   ]
  },
  {
   "cell_type": "code",
   "execution_count": 312,
   "metadata": {},
   "outputs": [
    {
     "data": {
      "text/plain": [
       "(0.1770554516053688,\n",
       " 1.6216686028992606,\n",
       " 0.09530391472126265,\n",
       " 1.0476099026755166)"
      ]
     },
     "execution_count": 312,
     "metadata": {},
     "output_type": "execute_result"
    }
   ],
   "source": [
    "sb1, lb1, sb2, lb2"
   ]
  },
  {
   "cell_type": "markdown",
   "metadata": {},
   "source": [
    "## Final stage: prediction the high-level "
   ]
  },
  {
   "cell_type": "code",
   "execution_count": 313,
   "metadata": {},
   "outputs": [
    {
     "data": {
      "text/plain": [
       "(1000, 2)"
      ]
     },
     "execution_count": 313,
     "metadata": {},
     "output_type": "execute_result"
    }
   ],
   "source": [
    "X_test = x_test[:,0:2]\n",
    "X_test.shape\n",
    "#Y_test=[]\n",
    "#Y_test_std = []\n",
    "#Y_test_up=[]\n",
    "#Y_test_down=[]\n",
    "\n",
    "#for i in range(X_test.shape[0]):\n",
    "#    xx = X_test[i].reshape(1,2)\n",
    "#    Xnew = np.vstack((xx,X_currin_expensive))\n",
    "#    mu1, v1 = m4.predict(Xnew, full_cov = True)\n",
    "#    kernMF = MFRBF(input_dim=2,variance = s2, lengthscale = l2, mu = mu1, v=v1)\n",
    "#    kernRBF = GPy.kern.RBF(input_dim = 2, variance = s1, lengthscale = l1)\n",
    "#    M1 = kernMF.K(Xnew)\n",
    "#    M2 = kernRBF.K(Xnew)\n",
    "#    GG = np.multiply(M1, M2)\n",
    "    \n",
    "#    pred_mu, pred_std = predict_eff(GG, y_currin_expensive)\n",
    "    \n",
    "#    Y_test.append(pred_mu)\n",
    "#    Y_test_std.append(pred_std)\n",
    "#    Y_test_up.append(pred_mu+1.96*pred_std)\n",
    "#    Y_test_down.append(pred_mu-1.96*pred_std)"
   ]
  },
  {
   "cell_type": "code",
   "execution_count": 314,
   "metadata": {},
   "outputs": [
    {
     "data": {
      "text/plain": [
       "(1040, 2)"
      ]
     },
     "execution_count": 314,
     "metadata": {},
     "output_type": "execute_result"
    }
   ],
   "source": [
    "Xnew1 = np.vstack((X_test,X_branin_high,X_branin_expensive))\n",
    "Xnew1.shape"
   ]
  },
  {
   "cell_type": "code",
   "execution_count": 315,
   "metadata": {},
   "outputs": [],
   "source": [
    "mu12_1, cov12_1 = m2.predict(Xnew1,full_cov=True)"
   ]
  },
  {
   "cell_type": "code",
   "execution_count": 316,
   "metadata": {},
   "outputs": [
    {
     "data": {
      "text/plain": [
       "((1040, 1), (1040, 1040))"
      ]
     },
     "execution_count": 316,
     "metadata": {},
     "output_type": "execute_result"
    }
   ],
   "source": [
    "mu12_1.shape, cov12_1.shape"
   ]
  },
  {
   "cell_type": "code",
   "execution_count": 317,
   "metadata": {},
   "outputs": [],
   "source": [
    "kernMF12_1 = MFRBF(input_dim=2,variance = s2, lengthscale = l2, mu = mu12_1, v=cov12_1)\n",
    "kernRBF12_1 = GPy.kern.RBF(input_dim = 2, variance = s1, lengthscale = l1)\n",
    "\n",
    "M1_12_1 = kernMF12_1.K(Xnew1)\n",
    "M2_12_1 = kernRBF12_1.K(Xnew1)\n",
    "GG12_1 = np.multiply(M1_12_1, M2_12_1)\n",
    "    \n",
    "mu12_2, cov12_2 = predict_eff(GG12_1, y_branin_expensive)"
   ]
  },
  {
   "cell_type": "code",
   "execution_count": 318,
   "metadata": {},
   "outputs": [
    {
     "data": {
      "text/plain": [
       "((1010, 1), (1010, 1010))"
      ]
     },
     "execution_count": 318,
     "metadata": {},
     "output_type": "execute_result"
    }
   ],
   "source": [
    "mu12_2.shape, cov12_2.shape"
   ]
  },
  {
   "cell_type": "code",
   "execution_count": 319,
   "metadata": {},
   "outputs": [],
   "source": [
    "Xnew2 = np.vstack((X_test,X_branin_high))\n",
    "\n",
    "kernMF12_2 = MFRBF(input_dim=2,variance = sb2, lengthscale = lb2, mu = mu12_2, v=cov12_2)\n",
    "kernRBF12_2 = GPy.kern.RBF(input_dim = 2, variance = sb1, lengthscale = lb1)\n",
    "\n",
    "M1_12_2 = kernMF12_2.K(Xnew2)\n",
    "M2_12_2 = kernRBF12_2.K(Xnew2)\n",
    "GG12_2 = np.multiply(M1_12_2, M2_12_2)\n",
    "    \n",
    "mu12_3, cov12_3 = predict_eff(GG12_2, y_branin_high)"
   ]
  },
  {
   "cell_type": "code",
   "execution_count": 320,
   "metadata": {},
   "outputs": [
    {
     "data": {
      "text/plain": [
       "((1000, 1), (1000, 1000))"
      ]
     },
     "execution_count": 320,
     "metadata": {},
     "output_type": "execute_result"
    }
   ],
   "source": [
    "mu12_3.shape, cov12_3.shape"
   ]
  },
  {
   "cell_type": "code",
   "execution_count": 321,
   "metadata": {},
   "outputs": [
    {
     "data": {
      "text/plain": [
       "(1010, 1010)"
      ]
     },
     "execution_count": 321,
     "metadata": {},
     "output_type": "execute_result"
    }
   ],
   "source": [
    "GG12_2.shape"
   ]
  },
  {
   "cell_type": "code",
   "execution_count": 322,
   "metadata": {},
   "outputs": [
    {
     "data": {
      "image/png": "[encoded data removed]",
      "text/plain": [
       "<Figure size 432x288 with 1 Axes>"
      ]
     },
     "metadata": {
      "needs_background": "light"
     },
     "output_type": "display_data"
    }
   ],
   "source": [
    "plt.scatter(mu12_3,y_test)\n",
    "plt.plot([0, 1], [0, 1], '--k', transform=plt.gca().transAxes)\n",
    "plt.show()"
   ]
  },
  {
   "cell_type": "code",
   "execution_count": 323,
   "metadata": {},
   "outputs": [],
   "source": [
    "var12_3 = np.diagonal(cov12_3)"
   ]
  },
  {
   "cell_type": "code",
   "execution_count": 324,
   "metadata": {},
   "outputs": [
    {
     "name": "stdout",
     "output_type": "stream",
     "text": [
      "{'r2': 0.8120230348342923, 'rmse': 0.08908868453460315, 'mnll': 8313.501592334334}\n"
     ]
    }
   ],
   "source": [
    "print(calculate_metrics(y_test, mu12_3, var12_3))"
   ]
  },
  {
   "cell_type": "code",
   "execution_count": 235,
   "metadata": {},
   "outputs": [],
   "source": [
    "#var12_3[var12_3>0]"
   ]
  },
  {
   "cell_type": "code",
   "execution_count": null,
   "metadata": {},
   "outputs": [],
   "source": []
  }
 ],
 "metadata": {
  "kernelspec": {
   "display_name": "Python 3",
   "language": "python",
   "name": "python3"
  },
  "language_info": {
   "codemirror_mode": {
    "name": "ipython",
    "version": 3
   },
   "file_extension": ".py",
   "mimetype": "text/x-python",
   "name": "python",
   "nbconvert_exporter": "python",
   "pygments_lexer": "ipython3",
   "version": "3.7.6"
  }
 },
 "nbformat": 4,
 "nbformat_minor": 4
}
