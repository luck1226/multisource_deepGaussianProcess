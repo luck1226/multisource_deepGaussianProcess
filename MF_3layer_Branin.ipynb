{
 "cells": [
  {
   "cell_type": "code",
   "execution_count": 1,
   "metadata": {},
   "outputs": [],
   "source": [
    "import numpy as np\n",
    "\n",
    "from emukit.test_functions.multi_fidelity import multi_fidelity_branin_function\n",
    "from emukit.core import ContinuousParameter, ParameterSpace\n",
    "from emukit.core.initial_designs import LatinDesign\n",
    "\n",
    "from sklearn.metrics import mean_squared_error, r2_score"
   ]
  },
  {
   "cell_type": "code",
   "execution_count": 2,
   "metadata": {},
   "outputs": [],
   "source": [
    "from collections import namedtuple\n",
    "\n",
    "Function = namedtuple('Function', ['name', 'y_scale', 'noise_level', 'do_x_scaling', 'num_data', 'fcn'])\n",
    "\n",
    "branin = Function(name='branin', y_scale=1, noise_level=[0., 0., 0.], do_x_scaling=True, num_data=[80, 30, 10], \n",
    "                    fcn=multi_fidelity_branin_function)"
   ]
  },
  {
   "cell_type": "code",
   "execution_count": 3,
   "metadata": {},
   "outputs": [],
   "source": [
    "def generate_data(fcn_tuple, n_test_points):\n",
    "    \"\"\"\n",
    "    Generates train and test data for\n",
    "    \"\"\"\n",
    "    \n",
    "    # A different definition of the parameter space for the branin function was used in the paper\n",
    "    if fcn_tuple.name == 'branin':\n",
    "        fcn, space = fcn_tuple.fcn()\n",
    "        new_space = ParameterSpace([ContinuousParameter('x1', -5., 0.), ContinuousParameter('x2', 10., 15.)])\n",
    "    else:\n",
    "        fcn, space = fcn_tuple.fcn()\n",
    "        new_space = ParameterSpace(space._parameters[:-1])\n",
    "    \n",
    "    do_x_scaling = fcn_tuple.do_x_scaling\n",
    "    \n",
    "    \n",
    "    # Generate training data\n",
    "    \n",
    "    latin = LatinDesign(new_space)\n",
    "    X = [latin.get_samples(n) for n in fcn_tuple.num_data]\n",
    "    \n",
    "    # Scale X if required\n",
    "    if do_x_scaling:\n",
    "        scalings = X[0].std(axis=0)\n",
    "    else:\n",
    "        scalings = np.ones(X[0].shape[1])\n",
    "        \n",
    "    for x in X:\n",
    "        x /= scalings\n",
    "    \n",
    "    Y = []\n",
    "    for i, x in enumerate(X):\n",
    "        Y.append(fcn.f[i](x * scalings))\n",
    "    \n",
    "    y_scale = fcn_tuple.y_scale\n",
    "    \n",
    "    # scale y and add noise if required\n",
    "    noise_levels = fcn_tuple.noise_level\n",
    "    if any([n > 0 for n in noise_levels]):\n",
    "        for y, std_noise in zip(Y, noise_levels):\n",
    "            y /= y_scale + std_noise * np.random.randn(y.shape[0], 1)\n",
    "    \n",
    "    # Generate test data\n",
    "    x_test = latin.get_samples(n_test_points)\n",
    "    x_test /= scalings\n",
    "    y_test = fcn.f[-1](x_test * scalings)\n",
    "    y_test /= y_scale\n",
    "\n",
    "    i_highest_fidelity = (len(fcn_tuple.num_data) - 1) * np.ones((x_test.shape[0], 1))\n",
    "    x_test = np.concatenate([x_test, i_highest_fidelity], axis=1)\n",
    "    print(X[1].shape)\n",
    "    return x_test, y_test, X, Y"
   ]
  },
  {
   "cell_type": "code",
   "execution_count": 4,
   "metadata": {},
   "outputs": [],
   "source": [
    "def calculate_metrics(y_test, y_mean_prediction, y_var_prediction):\n",
    "    # R2\n",
    "    r2 = r2_score(y_test, y_mean_prediction)\n",
    "    # RMSE\n",
    "    rmse = np.sqrt(mean_squared_error(y_test, y_mean_prediction))\n",
    "    # Test log likelihood\n",
    "    mnll = -np.sum(scipy.stats.norm.logpdf(y_test, loc=y_mean_prediction, scale=np.sqrt(y_var_prediction)))/len(y_test)\n",
    "    return {'r2': r2, 'rmse': rmse, 'mnll': mnll}"
   ]
  },
  {
   "cell_type": "code",
   "execution_count": 5,
   "metadata": {},
   "outputs": [
    {
     "name": "stdout",
     "output_type": "stream",
     "text": [
      "(30, 2)\n"
     ]
    }
   ],
   "source": [
    "np.random.seed(123)\n",
    "\n",
    "x_test, y_test, X, Y = generate_data(branin, 1000)"
   ]
  },
  {
   "cell_type": "code",
   "execution_count": 6,
   "metadata": {},
   "outputs": [
    {
     "data": {
      "text/plain": [
       "((80, 2), (80, 1))"
      ]
     },
     "execution_count": 6,
     "metadata": {},
     "output_type": "execute_result"
    }
   ],
   "source": [
    "X[0].shape, Y[0].shape"
   ]
  },
  {
   "cell_type": "code",
   "execution_count": 7,
   "metadata": {},
   "outputs": [
    {
     "data": {
      "text/plain": [
       "((30, 2), (30, 1))"
      ]
     },
     "execution_count": 7,
     "metadata": {},
     "output_type": "execute_result"
    }
   ],
   "source": [
    "X[1].shape, Y[1].shape"
   ]
  },
  {
   "cell_type": "code",
   "execution_count": 8,
   "metadata": {},
   "outputs": [
    {
     "data": {
      "text/plain": [
       "((10, 2), (10, 1))"
      ]
     },
     "execution_count": 8,
     "metadata": {},
     "output_type": "execute_result"
    }
   ],
   "source": [
    "X[2].shape, Y[2].shape"
   ]
  },
  {
   "cell_type": "code",
   "execution_count": 9,
   "metadata": {},
   "outputs": [
    {
     "data": {
      "text/plain": [
       "((1000, 3), (1000, 1))"
      ]
     },
     "execution_count": 9,
     "metadata": {},
     "output_type": "execute_result"
    }
   ],
   "source": [
    "x_test.shape, y_test.shape"
   ]
  },
  {
   "cell_type": "markdown",
   "metadata": {},
   "source": [
    "## Introduce AR1 model and fit all three fidelities of data"
   ]
  },
  {
   "cell_type": "code",
   "execution_count": 10,
   "metadata": {},
   "outputs": [
    {
     "name": "stdout",
     "output_type": "stream",
     "text": [
      "Optimization restart 1/10, f = -343.54851478061636\n",
      "Optimization restart 2/10, f = -343.54851421991737\n",
      "Optimization restart 3/10, f = -343.54851379477043\n",
      "Optimization restart 4/10, f = -343.5485140736503\n",
      "Optimization restart 5/10, f = -343.54851484370505\n",
      "Optimization restart 6/10, f = -343.5485129266566\n",
      "Optimization restart 7/10, f = -343.548514632576\n",
      "Optimization restart 8/10, f = -343.54851482110473\n",
      "Optimization restart 9/10, f = -343.5485143000823\n",
      "Optimization restart 10/10, f = -343.5485145483598\n",
      "Optimization restart 1/10, f = -347.687322782058\n",
      "Optimization restart 2/10, f = -346.0948566770535\n",
      "Optimization restart 3/10, f = -346.0943137372061\n",
      "Optimization restart 4/10, f = -346.09485375136603\n",
      "Optimization restart 5/10, f = -347.6873154158653\n",
      "Optimization restart 6/10, f = -347.68726426278704\n",
      "Optimization restart 7/10, f = -346.09449310893876\n",
      "Optimization restart 8/10, f = -347.6873223809099\n",
      "Optimization restart 9/10, f = -346.09486079272983\n",
      "Optimization restart 10/10, f = -346.0948487346742\n"
     ]
    }
   ],
   "source": [
    "from emukit.examples.multi_fidelity_dgp.baseline_model_wrappers import LinearAutoRegressiveModel\n",
    "\n",
    "m1 =  LinearAutoRegressiveModel(X, Y)\n",
    "m1.optimize()"
   ]
  },
  {
   "cell_type": "code",
   "execution_count": 11,
   "metadata": {},
   "outputs": [
    {
     "name": "stdout",
     "output_type": "stream",
     "text": [
      "<emukit.examples.multi_fidelity_dgp.baseline_model_wrappers.LinearAutoRegressiveModel object at 0x7feb81ed0210>\n"
     ]
    }
   ],
   "source": [
    "print(m1)"
   ]
  },
  {
   "cell_type": "code",
   "execution_count": 12,
   "metadata": {},
   "outputs": [
    {
     "name": "stdout",
     "output_type": "stream",
     "text": [
      "{'r2': 0.9970473797268822, 'rmse': 0.011165393362065644, 'mnll': -3.6910726704047354}\n"
     ]
    }
   ],
   "source": [
    "y_mean, y_var = m1.predict(x_test)\n",
    "\n",
    "import scipy.stats\n",
    "\n",
    "print(calculate_metrics(y_test, y_mean, y_var))"
   ]
  },
  {
   "cell_type": "code",
   "execution_count": 13,
   "metadata": {},
   "outputs": [
    {
     "data": {
      "image/png": "[encoded data removed]",
      "text/plain": [
       "<Figure size 432x288 with 1 Axes>"
      ]
     },
     "metadata": {
      "needs_background": "light"
     },
     "output_type": "display_data"
    }
   ],
   "source": [
    "import matplotlib.pyplot as plt\n",
    "\n",
    "plt.scatter(y_mean,y_test)\n",
    "plt.plot([0, 1], [0, 1], '--k', transform=plt.gca().transAxes)\n",
    "plt.show()"
   ]
  },
  {
   "cell_type": "markdown",
   "metadata": {},
   "source": [
    "## To set up the data in three-layer structure\n",
    "### Cheap data, expensive data, high data"
   ]
  },
  {
   "cell_type": "code",
   "execution_count": 14,
   "metadata": {},
   "outputs": [
    {
     "data": {
      "text/plain": [
       "<paramz.optimization.optimization.opt_lbfgsb at 0x7feb82cf2810>"
      ]
     },
     "execution_count": 14,
     "metadata": {},
     "output_type": "execute_result"
    }
   ],
   "source": [
    "X_branin_cheap = X[0]\n",
    "X_branin_expensive = X[1]\n",
    "X_branin_high = X[2]\n",
    "\n",
    "y_branin_cheap = Y[0]\n",
    "y_branin_expensive = Y[1]\n",
    "y_branin_high = Y[2]\n",
    "\n",
    "import GPy\n",
    "from GPy.kern import Kern\n",
    "from GPy import Param, Model\n",
    "\n",
    "m2 = GPy.models.GPRegression(X_branin_cheap, y_branin_cheap)\n",
    "m2.optimize()"
   ]
  },
  {
   "cell_type": "code",
   "execution_count": 15,
   "metadata": {},
   "outputs": [
    {
     "name": "stdout",
     "output_type": "stream",
     "text": [
      "Optimization restart 1/10, f = -205.71136382413408\n",
      "Optimization restart 2/10, f = -205.71136382035337\n",
      "Optimization restart 3/10, f = -205.711363809418\n",
      "Optimization restart 4/10, f = -205.71136380789278\n",
      "Optimization restart 5/10, f = -205.71136382399732\n",
      "Optimization restart 6/10, f = -205.71136382422594\n",
      "Optimization restart 7/10, f = -205.711363823625\n",
      "Optimization restart 8/10, f = -205.71136382397088\n",
      "Optimization restart 9/10, f = -205.71136382406513\n",
      "Optimization restart 10/10, f = -205.711363824077\n"
     ]
    },
    {
     "data": {
      "text/plain": [
       "[<paramz.optimization.optimization.opt_lbfgsb at 0x7feb82cf2810>,\n",
       " <paramz.optimization.optimization.opt_lbfgsb at 0x7feb8113cbd0>,\n",
       " <paramz.optimization.optimization.opt_lbfgsb at 0x7feb8113c210>,\n",
       " <paramz.optimization.optimization.opt_lbfgsb at 0x7feb82cb3550>,\n",
       " <paramz.optimization.optimization.opt_lbfgsb at 0x7feb82cf27d0>,\n",
       " <paramz.optimization.optimization.opt_lbfgsb at 0x7feb82cf2590>,\n",
       " <paramz.optimization.optimization.opt_lbfgsb at 0x7feb82cf2750>,\n",
       " <paramz.optimization.optimization.opt_lbfgsb at 0x7feb82cf2ed0>,\n",
       " <paramz.optimization.optimization.opt_lbfgsb at 0x7feb82cf2210>,\n",
       " <paramz.optimization.optimization.opt_lbfgsb at 0x7feb82cf2350>,\n",
       " <paramz.optimization.optimization.opt_lbfgsb at 0x7feb82cf2290>]"
      ]
     },
     "execution_count": 15,
     "metadata": {},
     "output_type": "execute_result"
    }
   ],
   "source": [
    "m2.optimize_restarts(num_restarts = 10)"
   ]
  },
  {
   "cell_type": "code",
   "execution_count": 16,
   "metadata": {},
   "outputs": [
    {
     "name": "stderr",
     "output_type": "stream",
     "text": [
      " /Users/felix/opt/anaconda3/lib/python3.7/site-packages/GPy/plotting/matplot_dep/plot_definitions.py:184: UserWarning:The following kwargs were not used by contour: 'label', 'linewidth'\n"
     ]
    },
    {
     "data": {
      "text/plain": [
       "{'dataplot': [<matplotlib.collections.PathCollection at 0x7feb82988b90>],\n",
       " 'gpmean': [<matplotlib.contour.QuadContourSet at 0x7feb82988f10>]}"
      ]
     },
     "execution_count": 16,
     "metadata": {},
     "output_type": "execute_result"
    },
    {
     "data": {
      "image/png": "[encoded data removed]",
      "text/plain": [
       "<Figure size 432x288 with 1 Axes>"
      ]
     },
     "metadata": {
      "needs_background": "light"
     },
     "output_type": "display_data"
    }
   ],
   "source": [
    "m2.plot()"
   ]
  },
  {
   "cell_type": "code",
   "execution_count": 17,
   "metadata": {},
   "outputs": [
    {
     "name": "stdout",
     "output_type": "stream",
     "text": [
      "\n",
      "Name : GP regression\n",
      "Objective : -205.71136382422594\n",
      "Number of Parameters : 3\n",
      "Number of Optimization Parameters : 3\n",
      "Updates : True\n",
      "Parameters:\n",
      "  \u001b[1mGP_regression.         \u001b[0;0m  |                   value  |  constraints  |  priors\n",
      "  \u001b[1mrbf.variance           \u001b[0;0m  |         0.5451773250428  |      +ve      |        \n",
      "  \u001b[1mrbf.lengthscale        \u001b[0;0m  |      1.1889797959410553  |      +ve      |        \n",
      "  \u001b[1mGaussian_noise.variance\u001b[0;0m  |  1.2989753306542085e-05  |      +ve      |        \n"
     ]
    }
   ],
   "source": [
    "print(m2)"
   ]
  },
  {
   "cell_type": "code",
   "execution_count": 18,
   "metadata": {},
   "outputs": [
    {
     "data": {
      "text/plain": [
       "(0.5451773250428, 1.1889797959410553)"
      ]
     },
     "execution_count": 18,
     "metadata": {},
     "output_type": "execute_result"
    }
   ],
   "source": [
    "m2.kern.variance[0], m2.kern.lengthscale[0]"
   ]
  },
  {
   "cell_type": "markdown",
   "metadata": {},
   "source": [
    "### predicting the expensive data using gp trained with cheap data"
   ]
  },
  {
   "cell_type": "code",
   "execution_count": 19,
   "metadata": {},
   "outputs": [],
   "source": [
    "muA, vA = m2.predict(X_branin_expensive, full_cov = True)"
   ]
  },
  {
   "cell_type": "markdown",
   "metadata": {},
   "source": [
    "### Set up the kernel matrix using posterior mean and covariance in mu_A and cov_A"
   ]
  },
  {
   "cell_type": "code",
   "execution_count": 20,
   "metadata": {},
   "outputs": [],
   "source": [
    "from MFRBF import MFRBF\n",
    "\n",
    "kMF_A = MFRBF(input_dim=X_branin_expensive.shape[1], variance = 5, lengthscale = 1, mu = muA, v=vA)"
   ]
  },
  {
   "cell_type": "code",
   "execution_count": 21,
   "metadata": {},
   "outputs": [
    {
     "data": {
      "text/plain": [
       "<paramz.optimization.optimization.opt_lbfgsb at 0x7feb82be7390>"
      ]
     },
     "execution_count": 21,
     "metadata": {},
     "output_type": "execute_result"
    }
   ],
   "source": [
    "kRBF_A = GPy.kern.RBF(input_dim = X_branin_expensive.shape[1])\n",
    "\n",
    "k_A = kMF_A * kRBF_A\n",
    "\n",
    "#k_A = kMF_A\n",
    "\n",
    "m_A = GPy.models.GPRegression(X_branin_expensive, y_branin_expensive, k_A)\n",
    "\n",
    "m_A.optimize()"
   ]
  },
  {
   "cell_type": "code",
   "execution_count": 22,
   "metadata": {},
   "outputs": [
    {
     "name": "stdout",
     "output_type": "stream",
     "text": [
      "Optimization restart 1/2, f = -49.26713076526018\n",
      "Optimization restart 2/2, f = -49.26713576664055\n"
     ]
    },
    {
     "data": {
      "text/plain": [
       "[<paramz.optimization.optimization.opt_lbfgsb at 0x7feb82be7390>,\n",
       " <paramz.optimization.optimization.opt_lbfgsb at 0x7feb82bec490>,\n",
       " <paramz.optimization.optimization.opt_lbfgsb at 0x7feb82bf3910>]"
      ]
     },
     "execution_count": 22,
     "metadata": {},
     "output_type": "execute_result"
    }
   ],
   "source": [
    "m_A.optimize_restarts(num_restarts = 2)"
   ]
  },
  {
   "cell_type": "code",
   "execution_count": 23,
   "metadata": {},
   "outputs": [
    {
     "name": "stdout",
     "output_type": "stream",
     "text": [
      "\n",
      "Name : GP regression\n",
      "Objective : -49.26713576664055\n",
      "Number of Parameters : 5\n",
      "Number of Optimization Parameters : 5\n",
      "Updates : True\n",
      "Parameters:\n",
      "  \u001b[1mGP_regression.         \u001b[0;0m  |                   value  |  constraints  |  priors\n",
      "  \u001b[1mmul.MFRBF.variance     \u001b[0;0m  |     -28.600360281921535  |               |        \n",
      "  \u001b[1mmul.MFRBF.lengtscale   \u001b[0;0m  |      410.14187480880884  |               |        \n",
      "  \u001b[1mmul.rbf.variance       \u001b[0;0m  |  0.00022880013951042495  |      +ve      |        \n",
      "  \u001b[1mmul.rbf.lengthscale    \u001b[0;0m  |      1.3423152791936723  |      +ve      |        \n",
      "  \u001b[1mGaussian_noise.variance\u001b[0;0m  |  2.4383429850055676e-05  |      +ve      |        \n"
     ]
    }
   ],
   "source": [
    "print(m_A)"
   ]
  },
  {
   "cell_type": "markdown",
   "metadata": {},
   "source": [
    "### Now it is going to get the posterior for x_high"
   ]
  },
  {
   "cell_type": "code",
   "execution_count": 24,
   "metadata": {},
   "outputs": [],
   "source": [
    "def predict_eff(CovMtx, Y):\n",
    "    len_expensive = Y.shape[0]\n",
    "    len_all = CovMtx.shape[0]\n",
    "    len_high = len_all-len_expensive\n",
    "    K_ee = CovMtx[len_high:,len_high:]\n",
    "    K_e = CovMtx[0:len_high,len_high:]\n",
    "    K_inv = np.linalg.inv(K_ee+0.000001*np.eye(len_expensive))\n",
    "    pred_mu = np.matmul(np.matmul(K_e, K_inv), Y)\n",
    "    pred_v = CovMtx[0:len_high,0:len_high] - np.matmul(np.matmul(K_e, K_inv), np.matrix.transpose(K_e))\n",
    "    return pred_mu, pred_v"
   ]
  },
  {
   "cell_type": "code",
   "execution_count": 25,
   "metadata": {},
   "outputs": [],
   "source": [
    "s1=m_A.kern.rbf.variance[0]\n",
    "l1=m_A.kern.rbf.lengthscale[0]\n",
    "s2=m_A.kern.MFRBF.variance[0]\n",
    "l2=m_A.kern.MFRBF.lengthscale[0]\n",
    "\n",
    "#s2 = m_A.MFRBF.variance[0]\n",
    "#l2 = m_A.MFRBF.lengthscale[0]"
   ]
  },
  {
   "cell_type": "code",
   "execution_count": 26,
   "metadata": {},
   "outputs": [
    {
     "data": {
      "text/plain": [
       "(0.00022880013951042495,\n",
       " 1.3423152791936723,\n",
       " -28.600360281921535,\n",
       " 410.14187480880884)"
      ]
     },
     "execution_count": 26,
     "metadata": {},
     "output_type": "execute_result"
    }
   ],
   "source": [
    "s1, l1, s2, l2\n",
    "#s2, l2"
   ]
  },
  {
   "cell_type": "code",
   "execution_count": 27,
   "metadata": {},
   "outputs": [],
   "source": [
    "Xnew = np.vstack((X_branin_high,X_branin_expensive))"
   ]
  },
  {
   "cell_type": "code",
   "execution_count": 28,
   "metadata": {},
   "outputs": [
    {
     "data": {
      "text/plain": [
       "(40, 2)"
      ]
     },
     "execution_count": 28,
     "metadata": {},
     "output_type": "execute_result"
    }
   ],
   "source": [
    "Xnew.shape"
   ]
  },
  {
   "cell_type": "code",
   "execution_count": 29,
   "metadata": {},
   "outputs": [],
   "source": [
    "mu1, v1 = m2.predict(Xnew, full_cov = True)"
   ]
  },
  {
   "cell_type": "code",
   "execution_count": 30,
   "metadata": {},
   "outputs": [
    {
     "data": {
      "text/plain": [
       "((40, 1), (40, 40))"
      ]
     },
     "execution_count": 30,
     "metadata": {},
     "output_type": "execute_result"
    }
   ],
   "source": [
    "mu1.shape, v1.shape"
   ]
  },
  {
   "cell_type": "code",
   "execution_count": 31,
   "metadata": {},
   "outputs": [],
   "source": [
    "kMF_tmp = MFRBF(input_dim=X_branin_high.shape[1],variance = s2, lengthscale = l2, mu = mu1, v=v1)\n",
    "kRBF_tmp = GPy.kern.RBF(input_dim = X_branin_high.shape[1], variance = s1, lengthscale = l1)\n",
    "M1 = kMF_tmp.K(Xnew)\n",
    "M2 = kRBF_tmp.K(Xnew)\n",
    "GG = np.multiply(M1, M2)\n",
    "#GG = M1\n",
    "\n",
    "\n",
    "pred_mu, pred_cov = predict_eff(GG, y_branin_expensive)"
   ]
  },
  {
   "cell_type": "code",
   "execution_count": 32,
   "metadata": {},
   "outputs": [
    {
     "data": {
      "text/plain": [
       "((10, 1), (10, 10))"
      ]
     },
     "execution_count": 32,
     "metadata": {},
     "output_type": "execute_result"
    }
   ],
   "source": [
    "pred_mu.shape, pred_cov.shape"
   ]
  },
  {
   "cell_type": "markdown",
   "metadata": {},
   "source": [
    "### Start of training the high layer (3rd layer)"
   ]
  },
  {
   "cell_type": "code",
   "execution_count": 33,
   "metadata": {},
   "outputs": [],
   "source": [
    "kMF_B = MFRBF(input_dim=X_branin_expensive.shape[1], variance = 2, lengthscale = 1, mu = pred_mu, v=pred_cov)"
   ]
  },
  {
   "cell_type": "code",
   "execution_count": 34,
   "metadata": {},
   "outputs": [
    {
     "data": {
      "text/plain": [
       "<paramz.optimization.optimization.opt_lbfgsb at 0x7feb82be71d0>"
      ]
     },
     "execution_count": 34,
     "metadata": {},
     "output_type": "execute_result"
    }
   ],
   "source": [
    "kRBF_B = GPy.kern.RBF(input_dim = X_branin_expensive.shape[1])\n",
    "\n",
    "k_B = kMF_B * kRBF_B\n",
    "\n",
    "#k_B = kMF_B\n",
    "\n",
    "m_B = GPy.models.GPRegression(X_branin_high, y_branin_high, k_B)\n",
    "\n",
    "m_B.optimize()"
   ]
  },
  {
   "cell_type": "code",
   "execution_count": 35,
   "metadata": {},
   "outputs": [
    {
     "name": "stdout",
     "output_type": "stream",
     "text": [
      "Optimization restart 1/2, f = -10.749521391711289\n",
      "Optimization restart 2/2, f = -10.74952252595792\n"
     ]
    },
    {
     "data": {
      "text/plain": [
       "[<paramz.optimization.optimization.opt_lbfgsb at 0x7feb82be71d0>,\n",
       " <paramz.optimization.optimization.opt_lbfgsb at 0x7feb82c29710>,\n",
       " <paramz.optimization.optimization.opt_lbfgsb at 0x7feb82c0da50>]"
      ]
     },
     "execution_count": 35,
     "metadata": {},
     "output_type": "execute_result"
    }
   ],
   "source": [
    "m_B.optimize_restarts(num_restarts = 2)"
   ]
  },
  {
   "cell_type": "code",
   "execution_count": 36,
   "metadata": {},
   "outputs": [
    {
     "name": "stdout",
     "output_type": "stream",
     "text": [
      "\n",
      "Name : GP regression\n",
      "Objective : -10.74952252595792\n",
      "Number of Parameters : 5\n",
      "Number of Optimization Parameters : 5\n",
      "Updates : True\n",
      "Parameters:\n",
      "  \u001b[1mGP_regression.         \u001b[0;0m  |                   value  |  constraints  |  priors\n",
      "  \u001b[1mmul.MFRBF.variance     \u001b[0;0m  |        9.69602194912737  |               |        \n",
      "  \u001b[1mmul.MFRBF.lengtscale   \u001b[0;0m  |      -6484.334043180886  |               |        \n",
      "  \u001b[1mmul.rbf.variance       \u001b[0;0m  |    0.015025699092768689  |      +ve      |        \n",
      "  \u001b[1mmul.rbf.lengthscale    \u001b[0;0m  |       3.288455428327399  |      +ve      |        \n",
      "  \u001b[1mGaussian_noise.variance\u001b[0;0m  |  5.562684646268137e-309  |      +ve      |        \n"
     ]
    }
   ],
   "source": [
    "print(m_B)"
   ]
  },
  {
   "cell_type": "code",
   "execution_count": 37,
   "metadata": {},
   "outputs": [],
   "source": [
    "sb1=m_B.kern.rbf.variance[0]\n",
    "lb1=m_B.kern.rbf.lengthscale[0]\n",
    "sb2=m_B.kern.MFRBF.variance[0]\n",
    "lb2=m_B.kern.MFRBF.lengthscale[0]\n",
    "\n",
    "#sb2 = m_B.MFRBF.variance[0]\n",
    "#lb2 = m_B.MFRBF.lengthscale[0]"
   ]
  },
  {
   "cell_type": "code",
   "execution_count": 38,
   "metadata": {},
   "outputs": [
    {
     "data": {
      "text/plain": [
       "(0.015025699092768689, 3.288455428327399, 9.69602194912737, -6484.334043180886)"
      ]
     },
     "execution_count": 38,
     "metadata": {},
     "output_type": "execute_result"
    }
   ],
   "source": [
    "sb1, lb1, sb2, lb2\n",
    "#sb2, lb2"
   ]
  },
  {
   "cell_type": "markdown",
   "metadata": {},
   "source": [
    "## Final stage: prediction the high-level "
   ]
  },
  {
   "cell_type": "code",
   "execution_count": 39,
   "metadata": {},
   "outputs": [
    {
     "data": {
      "text/plain": [
       "(1000, 2)"
      ]
     },
     "execution_count": 39,
     "metadata": {},
     "output_type": "execute_result"
    }
   ],
   "source": [
    "X_test = x_test[:,0:2]\n",
    "X_test.shape\n",
    "#Y_test=[]\n",
    "#Y_test_std = []\n",
    "#Y_test_up=[]\n",
    "#Y_test_down=[]\n",
    "\n",
    "#for i in range(X_test.shape[0]):\n",
    "#    xx = X_test[i].reshape(1,2)\n",
    "#    Xnew = np.vstack((xx,X_currin_expensive))\n",
    "#    mu1, v1 = m4.predict(Xnew, full_cov = True)\n",
    "#    kernMF = MFRBF(input_dim=2,variance = s2, lengthscale = l2, mu = mu1, v=v1)\n",
    "#    kernRBF = GPy.kern.RBF(input_dim = 2, variance = s1, lengthscale = l1)\n",
    "#    M1 = kernMF.K(Xnew)\n",
    "#    M2 = kernRBF.K(Xnew)\n",
    "#    GG = np.multiply(M1, M2)\n",
    "    \n",
    "#    pred_mu, pred_std = predict_eff(GG, y_currin_expensive)\n",
    "    \n",
    "#    Y_test.append(pred_mu)\n",
    "#    Y_test_std.append(pred_std)\n",
    "#    Y_test_up.append(pred_mu+1.96*pred_std)\n",
    "#    Y_test_down.append(pred_mu-1.96*pred_std)"
   ]
  },
  {
   "cell_type": "code",
   "execution_count": 40,
   "metadata": {},
   "outputs": [
    {
     "data": {
      "text/plain": [
       "(1040, 2)"
      ]
     },
     "execution_count": 40,
     "metadata": {},
     "output_type": "execute_result"
    }
   ],
   "source": [
    "Xnew1 = np.vstack((X_test,X_branin_high,X_branin_expensive))\n",
    "Xnew1.shape"
   ]
  },
  {
   "cell_type": "code",
   "execution_count": 41,
   "metadata": {},
   "outputs": [],
   "source": [
    "mu12_1, cov12_1 = m2.predict(Xnew1,full_cov=True)"
   ]
  },
  {
   "cell_type": "code",
   "execution_count": 42,
   "metadata": {},
   "outputs": [
    {
     "data": {
      "text/plain": [
       "((1040, 1), (1040, 1040))"
      ]
     },
     "execution_count": 42,
     "metadata": {},
     "output_type": "execute_result"
    }
   ],
   "source": [
    "mu12_1.shape, cov12_1.shape"
   ]
  },
  {
   "cell_type": "code",
   "execution_count": 43,
   "metadata": {},
   "outputs": [],
   "source": [
    "kernMF12_1 = MFRBF(input_dim=2,variance = s2, lengthscale = l2, mu = mu12_1, v=cov12_1)\n",
    "kernRBF12_1 = GPy.kern.RBF(input_dim = 2, variance = s1, lengthscale = l1)\n",
    "\n",
    "M1_12_1 = kernMF12_1.K(Xnew1)\n",
    "M2_12_1 = kernRBF12_1.K(Xnew1)\n",
    "GG12_1 = np.multiply(M1_12_1, M2_12_1)\n",
    "#GG12_1 = M1_12_1 \n",
    "    \n",
    "mu12_2, cov12_2 = predict_eff(GG12_1, y_branin_expensive)"
   ]
  },
  {
   "cell_type": "code",
   "execution_count": 44,
   "metadata": {},
   "outputs": [
    {
     "data": {
      "text/plain": [
       "((1010, 1), (1010, 1010))"
      ]
     },
     "execution_count": 44,
     "metadata": {},
     "output_type": "execute_result"
    }
   ],
   "source": [
    "mu12_2.shape, cov12_2.shape"
   ]
  },
  {
   "cell_type": "code",
   "execution_count": 45,
   "metadata": {},
   "outputs": [],
   "source": [
    "Xnew2 = np.vstack((X_test,X_branin_high))\n",
    "\n",
    "kernMF12_2 = MFRBF(input_dim=2,variance = sb2, lengthscale = lb2, mu = mu12_2, v=cov12_2)\n",
    "kernRBF12_2 = GPy.kern.RBF(input_dim = 2, variance = sb1, lengthscale = lb1)\n",
    "\n",
    "M1_12_2 = kernMF12_2.K(Xnew2)\n",
    "M2_12_2 = kernRBF12_2.K(Xnew2)\n",
    "GG12_2 = np.multiply(M1_12_2, M2_12_2)\n",
    " \n",
    "#GG12_2 = M1_12_2\n",
    "    \n",
    "mu12_3, cov12_3 = predict_eff(GG12_2, y_branin_high)"
   ]
  },
  {
   "cell_type": "code",
   "execution_count": 46,
   "metadata": {},
   "outputs": [
    {
     "data": {
      "text/plain": [
       "((1000, 1), (1000, 1000))"
      ]
     },
     "execution_count": 46,
     "metadata": {},
     "output_type": "execute_result"
    }
   ],
   "source": [
    "mu12_3.shape, cov12_3.shape"
   ]
  },
  {
   "cell_type": "code",
   "execution_count": 47,
   "metadata": {},
   "outputs": [
    {
     "data": {
      "text/plain": [
       "(1010, 1010)"
      ]
     },
     "execution_count": 47,
     "metadata": {},
     "output_type": "execute_result"
    }
   ],
   "source": [
    "GG12_2.shape"
   ]
  },
  {
   "cell_type": "code",
   "execution_count": 48,
   "metadata": {},
   "outputs": [
    {
     "data": {
      "image/png": "[encoded data removed]",
      "text/plain": [
       "<Figure size 432x288 with 1 Axes>"
      ]
     },
     "metadata": {
      "needs_background": "light"
     },
     "output_type": "display_data"
    }
   ],
   "source": [
    "plt.scatter(mu12_3,y_test)\n",
    "plt.plot([0, 1], [0, 1], '--k', transform=plt.gca().transAxes)\n",
    "plt.show()"
   ]
  },
  {
   "cell_type": "code",
   "execution_count": 49,
   "metadata": {},
   "outputs": [],
   "source": [
    "var12_3 = np.diagonal(cov12_3)"
   ]
  },
  {
   "cell_type": "code",
   "execution_count": 50,
   "metadata": {},
   "outputs": [
    {
     "data": {
      "text/plain": [
       "(1000, 1)"
      ]
     },
     "execution_count": 50,
     "metadata": {},
     "output_type": "execute_result"
    }
   ],
   "source": [
    "mu12_3.shape"
   ]
  },
  {
   "cell_type": "code",
   "execution_count": 51,
   "metadata": {},
   "outputs": [
    {
     "data": {
      "text/plain": [
       "(1000,)"
      ]
     },
     "execution_count": 51,
     "metadata": {},
     "output_type": "execute_result"
    }
   ],
   "source": [
    "var12_3.shape"
   ]
  },
  {
   "cell_type": "code",
   "execution_count": 52,
   "metadata": {},
   "outputs": [],
   "source": [
    "var12_3=np.array(var12_3).reshape(-1,1)"
   ]
  },
  {
   "cell_type": "code",
   "execution_count": 53,
   "metadata": {},
   "outputs": [
    {
     "name": "stdout",
     "output_type": "stream",
     "text": [
      "{'r2': 0.9660870106367009, 'rmse': 0.037840186327824245, 'mnll': -2.925042939810082}\n"
     ]
    }
   ],
   "source": [
    "print(calculate_metrics(y_test, mu12_3, var12_3))"
   ]
  },
  {
   "cell_type": "code",
   "execution_count": null,
   "metadata": {},
   "outputs": [],
   "source": []
  }
 ],
 "metadata": {
  "kernelspec": {
   "display_name": "Python 3",
   "language": "python",
   "name": "python3"
  },
  "language_info": {
   "codemirror_mode": {
    "name": "ipython",
    "version": 3
   },
   "file_extension": ".py",
   "mimetype": "text/x-python",
   "name": "python",
   "nbconvert_exporter": "python",
   "pygments_lexer": "ipython3",
   "version": "3.7.6"
  }
 },
 "nbformat": 4,
 "nbformat_minor": 4
}
