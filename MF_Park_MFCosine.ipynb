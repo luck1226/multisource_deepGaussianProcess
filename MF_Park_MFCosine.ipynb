{
 "cells": [
  {
   "cell_type": "code",
   "execution_count": 1,
   "metadata": {},
   "outputs": [],
   "source": [
    "from emukit.test_functions.multi_fidelity import multi_fidelity_park_function\n",
    "from emukit.examples.multi_fidelity_dgp.baseline_model_wrappers import LinearAutoRegressiveModel\n",
    "\n",
    "import numpy as np\n",
    "from sklearn.metrics import mean_squared_error, r2_score"
   ]
  },
  {
   "cell_type": "code",
   "execution_count": 2,
   "metadata": {},
   "outputs": [],
   "source": [
    "from collections import namedtuple\n",
    "\n",
    "Function = namedtuple('Function', ['name', 'y_scale', 'noise_level', 'do_x_scaling', 'num_data', 'fcn'])\n",
    "\n",
    "park = Function(name='park', y_scale=1, noise_level=[0., 0.], do_x_scaling=False, num_data=[30, 5], \n",
    "                    fcn=multi_fidelity_park_function)"
   ]
  },
  {
   "cell_type": "code",
   "execution_count": 3,
   "metadata": {},
   "outputs": [],
   "source": [
    "def generate_data(fcn_tuple, n_test_points):\n",
    "    \"\"\"\n",
    "    Generates train and test data for\n",
    "    \"\"\"\n",
    "    \n",
    "    # A different definition of the parameter space for the branin function was used in the paper\n",
    "    if fcn_tuple.name == 'branin':\n",
    "        fcn, space = fcn_tuple.fcn()\n",
    "        new_space = ParameterSpace([ContinuousParameter('x1', -5., 0.), ContinuousParameter('x2', 10., 15.)])\n",
    "    else:\n",
    "        fcn, space = fcn_tuple.fcn()\n",
    "        new_space = ParameterSpace(space._parameters[:-1])\n",
    "    \n",
    "    do_x_scaling = fcn_tuple.do_x_scaling\n",
    "    \n",
    "    \n",
    "    # Generate training data\n",
    "    \n",
    "    latin = LatinDesign(new_space)\n",
    "    X = [latin.get_samples(n) for n in fcn_tuple.num_data]\n",
    "    \n",
    "    # Scale X if required\n",
    "    if do_x_scaling:\n",
    "        scalings = X[0].std(axis=0)\n",
    "    else:\n",
    "        scalings = np.ones(X[0].shape[1])\n",
    "        \n",
    "    for x in X:\n",
    "        x /= scalings\n",
    "    \n",
    "    Y = []\n",
    "    for i, x in enumerate(X):\n",
    "        Y.append(fcn.f[i](x * scalings))\n",
    "    \n",
    "    y_scale = fcn_tuple.y_scale\n",
    "    \n",
    "    # scale y and add noise if required\n",
    "    noise_levels = fcn_tuple.noise_level\n",
    "    if any([n > 0 for n in noise_levels]):\n",
    "        for y, std_noise in zip(Y, noise_levels):\n",
    "            y /= y_scale + std_noise * np.random.randn(y.shape[0], 1)\n",
    "    \n",
    "    # Generate test data\n",
    "    x_test = latin.get_samples(n_test_points)\n",
    "    x_test /= scalings\n",
    "    y_test = fcn.f[-1](x_test * scalings)\n",
    "    y_test /= y_scale\n",
    "\n",
    "    i_highest_fidelity = (len(fcn_tuple.num_data) - 1) * np.ones((x_test.shape[0], 1))\n",
    "    x_test = np.concatenate([x_test, i_highest_fidelity], axis=1)\n",
    "    print(X[1].shape)\n",
    "    return x_test, y_test, X, Y"
   ]
  },
  {
   "cell_type": "code",
   "execution_count": 4,
   "metadata": {},
   "outputs": [],
   "source": [
    "def calculate_metrics(y_test, y_mean_prediction, y_var_prediction):\n",
    "    # R2\n",
    "    r2 = r2_score(y_test, y_mean_prediction)\n",
    "    # RMSE\n",
    "    rmse = np.sqrt(mean_squared_error(y_test, y_mean_prediction))\n",
    "    # Test log likelihood\n",
    "    mnll = -np.sum(scipy.stats.norm.logpdf(y_test, loc=y_mean_prediction, scale=np.sqrt(y_var_prediction)))/len(y_test)\n",
    "    return {'r2': r2, 'rmse': rmse, 'mnll': mnll}"
   ]
  },
  {
   "cell_type": "code",
   "execution_count": 5,
   "metadata": {},
   "outputs": [],
   "source": [
    "from emukit.core import ContinuousParameter, ParameterSpace\n",
    "from emukit.core.initial_designs import LatinDesign"
   ]
  },
  {
   "cell_type": "code",
   "execution_count": 6,
   "metadata": {},
   "outputs": [
    {
     "name": "stdout",
     "output_type": "stream",
     "text": [
      "(5, 4)\n"
     ]
    }
   ],
   "source": [
    "np.random.seed(123)\n",
    "\n",
    "x_test, y_test, X, Y = generate_data(park, 1000)\n",
    "\n",
    "#m1 =  LinearAutoRegressiveModel(X, Y)\n",
    "#m1.optimize()\n",
    "\n",
    "#print(X[0])"
   ]
  },
  {
   "cell_type": "code",
   "execution_count": 7,
   "metadata": {},
   "outputs": [],
   "source": [
    "#y_mean, y_var = m1.predict(x_test)"
   ]
  },
  {
   "cell_type": "code",
   "execution_count": 8,
   "metadata": {},
   "outputs": [],
   "source": [
    "import scipy.stats\n",
    "\n",
    "#print(calculate_metrics(y_test, y_mean, y_var))"
   ]
  },
  {
   "cell_type": "code",
   "execution_count": 9,
   "metadata": {},
   "outputs": [],
   "source": [
    "import matplotlib.pyplot as plt\n",
    "\n",
    "#plt.scatter(y_mean,y_test)\n",
    "#plt.plot([0, 1], [0, 1], '--k', transform=plt.gca().transAxes)\n",
    "#plt.xlim([0,55])\n",
    "#plt.ylim([0,55])\n",
    "#plt.show()"
   ]
  },
  {
   "cell_type": "code",
   "execution_count": 10,
   "metadata": {},
   "outputs": [],
   "source": [
    "#from emukit.examples.multi_fidelity_dgp.multi_fidelity_deep_gp import MultiFidelityDeepGP"
   ]
  },
  {
   "cell_type": "code",
   "execution_count": 11,
   "metadata": {},
   "outputs": [],
   "source": [
    "#mf_dgp_fix_lf_mean = MultiFidelityDeepGP(X, Y, n_iter=500)\n",
    "#mf_dgp_fix_lf_mean.optimize()"
   ]
  },
  {
   "cell_type": "code",
   "execution_count": 12,
   "metadata": {},
   "outputs": [],
   "source": [
    "#y_mean_dgp, y_var_dgp = mf_dgp_fix_lf_mean.predict(x_test)"
   ]
  },
  {
   "cell_type": "code",
   "execution_count": 13,
   "metadata": {},
   "outputs": [],
   "source": [
    "#print(calculate_metrics(y_test, y_mean_dgp, y_var_dgp))"
   ]
  },
  {
   "cell_type": "code",
   "execution_count": 14,
   "metadata": {},
   "outputs": [],
   "source": [
    "#plt.scatter(y_mean_dgp,y_test)\n",
    "#plt.plot([0, 1], [0, 1], '--k', transform=plt.gca().transAxes)\n",
    "#plt.show()"
   ]
  },
  {
   "cell_type": "code",
   "execution_count": 15,
   "metadata": {},
   "outputs": [],
   "source": [
    "from MFRBF import MFCosine"
   ]
  },
  {
   "cell_type": "code",
   "execution_count": 16,
   "metadata": {},
   "outputs": [
    {
     "data": {
      "text/plain": [
       "<paramz.optimization.optimization.opt_lbfgsb at 0x7f9e3e6c3310>"
      ]
     },
     "execution_count": 16,
     "metadata": {},
     "output_type": "execute_result"
    }
   ],
   "source": [
    "X_currin_cheap = X[0]\n",
    "X_currin_expensive = X[1]\n",
    "\n",
    "y_currin_cheap = Y[0]\n",
    "y_currin_expensive = Y[1]\n",
    "\n",
    "import GPy\n",
    "from GPy.kern import Kern\n",
    "from GPy import Param, Model\n",
    "\n",
    "m4 = GPy.models.GPRegression(X_currin_cheap, y_currin_cheap)\n",
    "m4.optimize()"
   ]
  },
  {
   "cell_type": "code",
   "execution_count": 17,
   "metadata": {},
   "outputs": [
    {
     "name": "stderr",
     "output_type": "stream",
     "text": [
      " /Users/felix/opt/anaconda3/lib/python3.7/site-packages/paramz/transformations.py:111: RuntimeWarning:overflow encountered in expm1\n"
     ]
    },
    {
     "name": "stdout",
     "output_type": "stream",
     "text": [
      "Optimization restart 1/10, f = 15.164136779936381\n",
      "Optimization restart 2/10, f = 11.327812270884518\n",
      "Optimization restart 3/10, f = 15.164136769326074\n",
      "Optimization restart 4/10, f = 11.327812275005002\n",
      "Optimization restart 5/10, f = 15.164136798498742\n",
      "Optimization restart 6/10, f = 15.16413679238006\n",
      "Optimization restart 7/10, f = 11.327812272051723\n",
      "Optimization restart 8/10, f = 15.164136782912358\n",
      "Optimization restart 9/10, f = 15.164136775904332\n",
      "Optimization restart 10/10, f = 15.164136827158323\n"
     ]
    },
    {
     "data": {
      "text/plain": [
       "[<paramz.optimization.optimization.opt_lbfgsb at 0x7f9e3e6c3310>,\n",
       " <paramz.optimization.optimization.opt_lbfgsb at 0x7f9e3e6ab190>,\n",
       " <paramz.optimization.optimization.opt_lbfgsb at 0x7f9e3e6ab550>,\n",
       " <paramz.optimization.optimization.opt_lbfgsb at 0x7f9e3e6c6f10>,\n",
       " <paramz.optimization.optimization.opt_lbfgsb at 0x7f9e3e6ab8d0>,\n",
       " <paramz.optimization.optimization.opt_lbfgsb at 0x7f9e3e6ab390>,\n",
       " <paramz.optimization.optimization.opt_lbfgsb at 0x7f9e3e6ab110>,\n",
       " <paramz.optimization.optimization.opt_lbfgsb at 0x7f9e3e6ab1d0>,\n",
       " <paramz.optimization.optimization.opt_lbfgsb at 0x7f9e3e6ab590>,\n",
       " <paramz.optimization.optimization.opt_lbfgsb at 0x7f9e3e6ab4d0>,\n",
       " <paramz.optimization.optimization.opt_lbfgsb at 0x7f9e3e6ab0d0>]"
      ]
     },
     "execution_count": 17,
     "metadata": {},
     "output_type": "execute_result"
    }
   ],
   "source": [
    "m4.optimize_restarts(num_restarts = 10)"
   ]
  },
  {
   "cell_type": "code",
   "execution_count": 18,
   "metadata": {},
   "outputs": [
    {
     "data": {
      "text/plain": [
       "<paramz.optimization.optimization.opt_lbfgsb at 0x7f9e3e6c6650>"
      ]
     },
     "execution_count": 18,
     "metadata": {},
     "output_type": "execute_result"
    }
   ],
   "source": [
    "mu_currin, v_currin = m4.predict(X_currin_expensive, full_cov = True)\n",
    "\n",
    "kern_currin = MFCosine(input_dim=X_currin_expensive.shape[1], variance = 10, lengthscale = 1, mu = mu_currin, v=v_currin)\n",
    "#k_currin_1 = deepKern.K(X_currin_expensive)\n",
    "\n",
    "k_currin_rbf = GPy.kern.RBF(input_dim = X_currin_expensive.shape[1])\n",
    "\n",
    "k_currin = kern_currin * k_currin_rbf\n",
    "\n",
    "m_currin = GPy.models.GPRegression(X_currin_expensive, y_currin_expensive, k_currin)\n",
    "\n",
    "m_currin.optimize()"
   ]
  },
  {
   "cell_type": "code",
   "execution_count": 19,
   "metadata": {},
   "outputs": [
    {
     "name": "stdout",
     "output_type": "stream",
     "text": [
      "Optimization restart 1/10, f = 5.344081262597668\n",
      "Optimization restart 2/10, f = 16.52549806285959\n",
      "Optimization restart 3/10, f = 5.3442356201158825\n",
      "Optimization restart 4/10, f = 15.618456877441634\n",
      "Optimization restart 5/10, f = 16.525497862880606\n",
      "Optimization restart 6/10, f = 5.344194321841946\n",
      "Optimization restart 7/10, f = 16.30572835014911\n",
      "Optimization restart 8/10, f = 15.618456984928471\n",
      "Optimization restart 9/10, f = 5.344081625953349\n",
      "Optimization restart 10/10, f = 15.618456942849551\n"
     ]
    },
    {
     "data": {
      "text/plain": [
       "[<paramz.optimization.optimization.opt_lbfgsb at 0x7f9e3e6c6650>,\n",
       " <paramz.optimization.optimization.opt_lbfgsb at 0x7f9e3e69b450>,\n",
       " <paramz.optimization.optimization.opt_lbfgsb at 0x7f9e3b8d0310>,\n",
       " <paramz.optimization.optimization.opt_lbfgsb at 0x7f9e3b984f90>,\n",
       " <paramz.optimization.optimization.opt_lbfgsb at 0x7f9e3e6c3c90>,\n",
       " <paramz.optimization.optimization.opt_lbfgsb at 0x7f9e3e6ca7d0>,\n",
       " <paramz.optimization.optimization.opt_lbfgsb at 0x7f9e3b984990>,\n",
       " <paramz.optimization.optimization.opt_lbfgsb at 0x7f9e3e6ab050>,\n",
       " <paramz.optimization.optimization.opt_lbfgsb at 0x7f9e3e6c3110>,\n",
       " <paramz.optimization.optimization.opt_lbfgsb at 0x7f9e3e6abd90>,\n",
       " <paramz.optimization.optimization.opt_lbfgsb at 0x7f9e3e6caed0>]"
      ]
     },
     "execution_count": 19,
     "metadata": {},
     "output_type": "execute_result"
    }
   ],
   "source": [
    "m_currin.optimize_restarts(num_restarts = 10)"
   ]
  },
  {
   "cell_type": "code",
   "execution_count": 20,
   "metadata": {},
   "outputs": [],
   "source": [
    "X_test = x_test[:,0:4]"
   ]
  },
  {
   "cell_type": "code",
   "execution_count": 21,
   "metadata": {},
   "outputs": [],
   "source": [
    "def predict_eff(CovMtx, Y):\n",
    "    K_ee = CovMtx[1:,1:]\n",
    "    K_e = CovMtx[0,1:]\n",
    "    K_inv = np.linalg.inv(K_ee+0.0001*np.eye(K_ee.shape[0]))\n",
    "    pred_mu = np.matmul(np.matmul(K_e, K_inv), Y)\n",
    "    pred_v = CovMtx[0,0] - np.matmul(np.matmul(K_e, K_inv), np.matrix.transpose(K_e))\n",
    "    return pred_mu, pred_v\n"
   ]
  },
  {
   "cell_type": "code",
   "execution_count": 22,
   "metadata": {},
   "outputs": [
    {
     "name": "stdout",
     "output_type": "stream",
     "text": [
      "{'r2': 0.9619879580842212, 'rmse': 0.9503604961233149, 'mnll': 25.064673830066063}\n"
     ]
    }
   ],
   "source": [
    "s1=m_currin.kern.rbf.variance[0]\n",
    "l1=m_currin.kern.rbf.lengthscale[0]\n",
    "s2=m_currin.kern.MFCosine.variance[0]\n",
    "l2=m_currin.kern.MFCosine.lengthscale[0]\n",
    "\n",
    "\n",
    "Y_test=[]\n",
    "Y_test_cov = []\n",
    "Y_test_up=[]\n",
    "Y_test_down=[]\n",
    "\n",
    "for i in range(X_test.shape[0]):\n",
    "    xx = X_test[i].reshape(1,4)\n",
    "    Xnew = np.vstack((xx,X_currin_expensive))\n",
    "    mu1, v1 = m4.predict(Xnew, full_cov = True)\n",
    "    kernMF = MFCosine(input_dim=2,variance = s2, lengthscale = l2, mu = mu1, v=v1)\n",
    "    kernRBF = GPy.kern.RBF(input_dim = 2, variance = s1, lengthscale = l1)\n",
    "    M1 = kernMF.K(Xnew)\n",
    "    M2 = kernRBF.K(Xnew)\n",
    "    GG = np.multiply(M1, M2)\n",
    "    \n",
    "    pred_mu, pred_var = predict_eff(GG, y_currin_expensive)\n",
    "    \n",
    "    Y_test.append(pred_mu)\n",
    "    Y_test_cov.append(pred_var)\n",
    "    #Y_test_up.append(pred_mu+1.96*pred_std)\n",
    "    #Y_test_down.append(pred_mu-1.96*pred_std)\n",
    "    \n",
    "mfgp_mean = np.array(Y_test).reshape(-1,1)\n",
    "mfgp_var = np.array(Y_test_cov).reshape(-1,1)\n",
    "print(calculate_metrics(y_test, mfgp_mean, mfgp_var))    "
   ]
  },
  {
   "cell_type": "code",
   "execution_count": 23,
   "metadata": {},
   "outputs": [
    {
     "data": {
      "image/png": "[encoded data removed]",
      "text/plain": [
       "<Figure size 432x288 with 1 Axes>"
      ]
     },
     "metadata": {
      "needs_background": "light"
     },
     "output_type": "display_data"
    }
   ],
   "source": [
    "plt.scatter(mfgp_mean,y_test)\n",
    "plt.plot([0, 1], [0, 1], '--k', transform=plt.gca().transAxes)\n",
    "plt.show()"
   ]
  },
  {
   "cell_type": "code",
   "execution_count": 24,
   "metadata": {},
   "outputs": [
    {
     "data": {
      "text/plain": [
       "(1000, 4)"
      ]
     },
     "execution_count": 24,
     "metadata": {},
     "output_type": "execute_result"
    }
   ],
   "source": [
    "xx_test = x_test[:,0:4]\n",
    "xx_test.shape"
   ]
  },
  {
   "cell_type": "code",
   "execution_count": 25,
   "metadata": {},
   "outputs": [],
   "source": [
    "def predict_eff_new(CovMtx, Y):\n",
    "    len_expensive = Y.shape[0]\n",
    "    len_all = CovMtx.shape[0]\n",
    "    len_high = len_all-len_expensive\n",
    "    K_ee = CovMtx[len_high:,len_high:]\n",
    "    K_e = CovMtx[0:len_high,len_high:]\n",
    "    K_inv = np.linalg.inv(K_ee+0.000001*np.eye(len_expensive))\n",
    "    pred_mu = np.matmul(np.matmul(K_e, K_inv), Y)\n",
    "    pred_v = CovMtx[0:len_high,0:len_high] - np.matmul(np.matmul(K_e, K_inv), np.matrix.transpose(K_e))\n",
    "    return pred_mu, pred_v"
   ]
  },
  {
   "cell_type": "code",
   "execution_count": 26,
   "metadata": {},
   "outputs": [
    {
     "data": {
      "text/plain": [
       "((1005, 1), (1005, 1005))"
      ]
     },
     "execution_count": 26,
     "metadata": {},
     "output_type": "execute_result"
    }
   ],
   "source": [
    "Xnew1 = np.vstack((xx_test,X_currin_expensive))\n",
    "mu_new, v_new = m4.predict(Xnew1, full_cov = True)\n",
    "\n",
    "mu_new.shape, v_new.shape"
   ]
  },
  {
   "cell_type": "code",
   "execution_count": 27,
   "metadata": {},
   "outputs": [],
   "source": [
    "kernMF_new = MFCosine(input_dim=2, variance = s2, lengthscale = l2, mu = mu_new, v=v_new)\n",
    "kernRBF_new = GPy.kern.RBF(input_dim = 2, variance = s1, lengthscale = l1)\n",
    "\n",
    "M1_new = kernMF_new.K(Xnew1)\n",
    "M2_new = kernRBF_new.K(Xnew1)\n",
    "GG_new = np.multiply(M1_new, M2_new)\n",
    "\n",
    "M1_new.shape, M2_new.shape\n",
    "\n",
    "pred_mu_new, pred_var_new = predict_eff_new(GG_new, y_currin_expensive)"
   ]
  },
  {
   "cell_type": "code",
   "execution_count": 28,
   "metadata": {},
   "outputs": [
    {
     "data": {
      "text/plain": [
       "((1000, 1), (1000, 1000))"
      ]
     },
     "execution_count": 28,
     "metadata": {},
     "output_type": "execute_result"
    }
   ],
   "source": [
    "pred_mu_new.shape, pred_var_new.shape"
   ]
  },
  {
   "cell_type": "code",
   "execution_count": 29,
   "metadata": {},
   "outputs": [
    {
     "data": {
      "text/plain": [
       "(1000, 1)"
      ]
     },
     "execution_count": 29,
     "metadata": {},
     "output_type": "execute_result"
    }
   ],
   "source": [
    "new_var = np.diagonal(pred_var_new).reshape(-1,1)\n",
    "new_var.shape"
   ]
  },
  {
   "cell_type": "code",
   "execution_count": 30,
   "metadata": {},
   "outputs": [
    {
     "name": "stdout",
     "output_type": "stream",
     "text": [
      "{'r2': 0.9621959028116648, 'rmse': 0.9477574595672088, 'mnll': 25.800055224468387}\n"
     ]
    }
   ],
   "source": [
    "print(calculate_metrics(y_test, pred_mu_new, new_var)) "
   ]
  },
  {
   "cell_type": "code",
   "execution_count": null,
   "metadata": {},
   "outputs": [],
   "source": []
  }
 ],
 "metadata": {
  "kernelspec": {
   "display_name": "Python 3",
   "language": "python",
   "name": "python3"
  },
  "language_info": {
   "codemirror_mode": {
    "name": "ipython",
    "version": 3
   },
   "file_extension": ".py",
   "mimetype": "text/x-python",
   "name": "python",
   "nbconvert_exporter": "python",
   "pygments_lexer": "ipython3",
   "version": "3.7.6"
  }
 },
 "nbformat": 4,
 "nbformat_minor": 2
}
