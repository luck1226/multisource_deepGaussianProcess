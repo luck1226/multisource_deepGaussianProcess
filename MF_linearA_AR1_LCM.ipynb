{
 "cells": [
  {
   "cell_type": "code",
   "execution_count": 1,
   "metadata": {},
   "outputs": [],
   "source": [
    "from emukit.examples.multi_fidelity_dgp.baseline_model_wrappers import LinearAutoRegressiveModel\n",
    "import numpy as np\n",
    "\n",
    "import matplotlib.pyplot as plt\n",
    "\n",
    "def f_high(x):\n",
    "    return (6.*x-2)**2*np.sin(12.*x-4.)\n",
    "\n",
    "def f_low(x):\n",
    "    return f_high(x)*0.5+10.*x\n",
    "\n",
    "\n",
    "num_cheap = 10\n",
    "num_expensive = 5\n",
    "\n",
    "np.random.seed(59)\n",
    "X1 = np.random.rand(num_cheap)[:,None]\n",
    "X2 = np.linspace(0,1,num_expensive)[:,None]\n",
    "#X2 = np.random.rand(num_expensive)[:,None]\n",
    "Yc = f_low(X1)\n",
    "\n",
    "Ye = f_high(X2) + 0.00001 * np.random.normal(0,1,num_expensive)[:,None]"
   ]
  },
  {
   "cell_type": "code",
   "execution_count": 2,
   "metadata": {},
   "outputs": [],
   "source": [
    "X=[]\n",
    "X.append(X1)\n",
    "X.append(X2)\n",
    "\n",
    "Y=[]\n",
    "Y.append(Yc)\n",
    "Y.append(Ye)"
   ]
  },
  {
   "cell_type": "code",
   "execution_count": 3,
   "metadata": {},
   "outputs": [
    {
     "name": "stdout",
     "output_type": "stream",
     "text": [
      "Optimization restart 1/10, f = 23.5692596615659\n",
      "Optimization restart 2/10, f = 22.950878767617148\n",
      "Optimization restart 3/10, f = 44.16518320632445\n",
      "Optimization restart 4/10, f = 44.16518235507947\n",
      "Optimization restart 5/10, f = 25.781610402569505\n",
      "Optimization restart 6/10, f = 20.841694775429275\n",
      "Optimization restart 7/10, f = 20.841694773260393\n",
      "Optimization restart 8/10, f = 44.165182161449145\n",
      "Optimization restart 9/10, f = 20.841694772128392\n",
      "Optimization restart 10/10, f = 23.558228689798934\n",
      "Optimization restart 1/10, f = 20.573476952952554\n"
     ]
    },
    {
     "name": "stderr",
     "output_type": "stream",
     "text": [
      " /Users/felix/opt/anaconda3/lib/python3.7/site-packages/paramz/transformations.py:111: RuntimeWarning:overflow encountered in expm1\n"
     ]
    },
    {
     "name": "stdout",
     "output_type": "stream",
     "text": [
      "Optimization restart 2/10, f = 38.402110027755484\n",
      "Optimization restart 3/10, f = 38.40211002190935\n",
      "Optimization restart 4/10, f = 38.402110027750155\n",
      "Optimization restart 5/10, f = 38.402110667367616\n"
     ]
    },
    {
     "name": "stderr",
     "output_type": "stream",
     "text": [
      " /Users/felix/opt/anaconda3/lib/python3.7/site-packages/GPy/kern/src/stationary.py:243: RuntimeWarning:invalid value encountered in true_divide\n"
     ]
    },
    {
     "name": "stdout",
     "output_type": "stream",
     "text": [
      "Optimization restart 6/10, f = 30.74351295474945\n",
      "Optimization restart 7/10, f = 21.208605230739906\n",
      "Optimization restart 8/10, f = 38.402110021688166\n",
      "Optimization restart 9/10, f = 38.40211002170528\n",
      "Optimization restart 10/10, f = 25.645998238220628\n"
     ]
    }
   ],
   "source": [
    "m1 =  LinearAutoRegressiveModel(X, Y)\n",
    "m1.optimize()"
   ]
  },
  {
   "cell_type": "code",
   "execution_count": 4,
   "metadata": {},
   "outputs": [],
   "source": [
    "X_test = np.linspace(0,1,99)[:,None]\n",
    "\n",
    "tmp = [1.]*99\n",
    "tmp = np.array(tmp).reshape(-1,1)\n",
    "#tmp.shape\n",
    "\n",
    "X_test = np.hstack((X_test,tmp))\n",
    "\n",
    "y_mean, y_var = m1.predict(X_test)"
   ]
  },
  {
   "cell_type": "code",
   "execution_count": 5,
   "metadata": {},
   "outputs": [],
   "source": [
    "y_up = y_mean+1.96*np.sqrt(y_var)\n",
    "y_down = y_mean - 1.96*np.sqrt(y_var)\n",
    "\n",
    "X_plot = np.linspace(0,1,200)[:,None]\n",
    "f_c=f_low(X_plot)\n",
    "f_e=f_high(X_plot)"
   ]
  },
  {
   "cell_type": "code",
   "execution_count": 6,
   "metadata": {},
   "outputs": [
    {
     "data": {
      "image/png": "[encoded data removed]",
      "text/plain": [
       "<Figure size 576x288 with 1 Axes>"
      ]
     },
     "metadata": {
      "needs_background": "light"
     },
     "output_type": "display_data"
    }
   ],
   "source": [
    "fig, ax = plt.subplots(figsize=(8, 4))\n",
    "plt.plot(X2,Ye,'ro')\n",
    "plt.plot(X_plot,f_e,'r-.')\n",
    "#plt.plot(X_plot,f_c,'b.')\n",
    "plt.plot(X_test[:,0],y_mean,'k-',linewidth=2)\n",
    "plt.fill_between(np.array(X_test[:,0]).flatten(),np.array(y_up).flatten(),np.array(y_down).flatten(),facecolor='g',alpha=0.3)\n",
    "plt.grid()\n",
    "plt.show()"
   ]
  },
  {
   "cell_type": "code",
   "execution_count": 8,
   "metadata": {},
   "outputs": [],
   "source": [
    "fig.savefig('linearA_AR1.pdf', bbox_inches='tight')"
   ]
  },
  {
   "cell_type": "code",
   "execution_count": 9,
   "metadata": {},
   "outputs": [
    {
     "name": "stdout",
     "output_type": "stream",
     "text": [
      "Populating the interactive namespace from numpy and matplotlib\n"
     ]
    }
   ],
   "source": [
    "%pylab inline\n",
    "import pylab as pb\n",
    "pylab.ion()\n",
    "import GPy"
   ]
  },
  {
   "cell_type": "code",
   "execution_count": 12,
   "metadata": {},
   "outputs": [
    {
     "data": {
      "text/plain": [
       "<paramz.optimization.optimization.opt_lbfgsb at 0x7ff7d47730d0>"
      ]
     },
     "execution_count": 12,
     "metadata": {},
     "output_type": "execute_result"
    }
   ],
   "source": [
    "K1 = GPy.kern.Bias(1)\n",
    "K2 = GPy.kern.Linear(1)\n",
    "K3 = GPy.kern.Matern32(1)\n",
    "lcm = GPy.util.multioutput.LCM(input_dim=1,num_outputs=2,kernels_list=[K1,K2,K3])\n",
    "\n",
    "m = GPy.models.GPCoregionalizedRegression([X1,X2],[Yc,Ye],kernel=lcm)\n",
    "m['.*ICM.*var'].unconstrain()\n",
    "m['.*ICM0.*var'].constrain_fixed(1.)\n",
    "m['.*ICM0.*W'].constrain_fixed(0)\n",
    "m['.*ICM1.*var'].constrain_fixed(1.)\n",
    "m['.*ICM1.*W'].constrain_fixed(0)\n",
    "m.optimize()"
   ]
  },
  {
   "cell_type": "code",
   "execution_count": 13,
   "metadata": {},
   "outputs": [],
   "source": [
    "#m.optimize_restarts(num_restarts = 2)"
   ]
  },
  {
   "cell_type": "code",
   "execution_count": 14,
   "metadata": {},
   "outputs": [],
   "source": [
    "Xt1 = np.random.rand(100)[:,None]*1.2\n",
    "Xt2 = np.random.rand(100)[:,None]*1.2\n",
    "\n",
    "Yt1 = f_low(Xt1)\n",
    "Yt2 = f_high(Xt2)"
   ]
  },
  {
   "cell_type": "code",
   "execution_count": 15,
   "metadata": {},
   "outputs": [
    {
     "data": {
      "image/png": "[encoded data removed]",
      "text/plain": [
       "<Figure size 576x288 with 1 Axes>"
      ]
     },
     "metadata": {
      "needs_background": "light"
     },
     "output_type": "display_data"
    }
   ],
   "source": [
    "#fig = pb.figure(figsize=(8,4))\n",
    "fig, ax = plt.subplots(figsize=(8, 4))\n",
    "m.plot(fixed_inputs=[(1,1)],which_data_rows=slice(num_cheap,num_cheap+num_expensive),ax=ax)\n",
    "plt.plot(X2,Ye,'ro')\n",
    "plt.plot(X_plot,f_e,'r-.')\n",
    "plt.grid()"
   ]
  },
  {
   "cell_type": "code",
   "execution_count": 16,
   "metadata": {},
   "outputs": [],
   "source": [
    "fig.savefig('linearA_LCM.pdf', bbox_inches='tight')"
   ]
  },
  {
   "cell_type": "code",
   "execution_count": null,
   "metadata": {},
   "outputs": [],
   "source": []
  }
 ],
 "metadata": {
  "kernelspec": {
   "display_name": "Python 3",
   "language": "python",
   "name": "python3"
  },
  "language_info": {
   "codemirror_mode": {
    "name": "ipython",
    "version": 3
   },
   "file_extension": ".py",
   "mimetype": "text/x-python",
   "name": "python",
   "nbconvert_exporter": "python",
   "pygments_lexer": "ipython3",
   "version": "3.7.6"
  }
 },
 "nbformat": 4,
 "nbformat_minor": 4
}
