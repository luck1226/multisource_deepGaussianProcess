{
 "cells": [
  {
   "cell_type": "code",
   "execution_count": 20,
   "metadata": {},
   "outputs": [],
   "source": [
    "from emukit.test_functions.multi_fidelity import (multi_fidelity_park_function,multi_fidelity_borehole_function)\n",
    "from emukit.examples.multi_fidelity_dgp.baseline_model_wrappers import LinearAutoRegressiveModel\n",
    "\n",
    "import numpy as np\n",
    "from sklearn.metrics import mean_squared_error, r2_score"
   ]
  },
  {
   "cell_type": "code",
   "execution_count": 21,
   "metadata": {},
   "outputs": [],
   "source": [
    "from collections import namedtuple\n",
    "\n",
    "Function = namedtuple('Function', ['name', 'y_scale', 'noise_level', 'do_x_scaling', 'num_data', 'fcn'])\n",
    "\n",
    "park = Function(name='park', y_scale=1, noise_level=[0., 0.], do_x_scaling=False, num_data=[30, 5], \n",
    "                    fcn=multi_fidelity_park_function)\n",
    "\n",
    "borehole = Function(name='borehole', y_scale=100, noise_level=[0.05, 0.1], do_x_scaling=True, num_data=[60, 5], \n",
    "                    fcn=multi_fidelity_borehole_function)"
   ]
  },
  {
   "cell_type": "code",
   "execution_count": 22,
   "metadata": {},
   "outputs": [],
   "source": [
    "def generate_data(fcn_tuple, n_test_points):\n",
    "    \"\"\"\n",
    "    Generates train and test data for\n",
    "    \"\"\"\n",
    "    \n",
    "    # A different definition of the parameter space for the branin function was used in the paper\n",
    "    if fcn_tuple.name == 'branin':\n",
    "        fcn, space = fcn_tuple.fcn()\n",
    "        new_space = ParameterSpace([ContinuousParameter('x1', -5., 0.), ContinuousParameter('x2', 10., 15.)])\n",
    "    else:\n",
    "        fcn, space = fcn_tuple.fcn()\n",
    "        new_space = ParameterSpace(space._parameters[:-1])\n",
    "    \n",
    "    do_x_scaling = fcn_tuple.do_x_scaling\n",
    "    \n",
    "    \n",
    "    # Generate training data\n",
    "    \n",
    "    latin = LatinDesign(new_space)\n",
    "    X = [latin.get_samples(n) for n in fcn_tuple.num_data]\n",
    "    \n",
    "    # Scale X if required\n",
    "    if do_x_scaling:\n",
    "        scalings = X[0].std(axis=0)\n",
    "    else:\n",
    "        scalings = np.ones(X[0].shape[1])\n",
    "        \n",
    "    for x in X:\n",
    "        x /= scalings\n",
    "    \n",
    "    Y = []\n",
    "    for i, x in enumerate(X):\n",
    "        Y.append(fcn.f[i](x * scalings))\n",
    "    \n",
    "    y_scale = fcn_tuple.y_scale\n",
    "    \n",
    "    # scale y and add noise if required\n",
    "    noise_levels = fcn_tuple.noise_level\n",
    "    if any([n > 0 for n in noise_levels]):\n",
    "        for y, std_noise in zip(Y, noise_levels):\n",
    "            y /= y_scale + std_noise * np.random.randn(y.shape[0], 1)\n",
    "    \n",
    "    # Generate test data\n",
    "    x_test = latin.get_samples(n_test_points)\n",
    "    x_test /= scalings\n",
    "    y_test = fcn.f[-1](x_test * scalings)\n",
    "    y_test /= y_scale\n",
    "\n",
    "    i_highest_fidelity = (len(fcn_tuple.num_data) - 1) * np.ones((x_test.shape[0], 1))\n",
    "    x_test = np.concatenate([x_test, i_highest_fidelity], axis=1)\n",
    "    print(X[1].shape)\n",
    "    return x_test, y_test, X, Y"
   ]
  },
  {
   "cell_type": "code",
   "execution_count": 23,
   "metadata": {},
   "outputs": [],
   "source": [
    "def calculate_metrics(y_test, y_mean_prediction, y_var_prediction):\n",
    "    # R2\n",
    "    r2 = r2_score(y_test, y_mean_prediction)\n",
    "    # RMSE\n",
    "    rmse = np.sqrt(mean_squared_error(y_test, y_mean_prediction))\n",
    "    # Test log likelihood\n",
    "    mnll = -np.sum(scipy.stats.norm.logpdf(y_test, loc=y_mean_prediction, scale=np.sqrt(y_var_prediction)))/len(y_test)\n",
    "    return {'r2': r2, 'rmse': rmse, 'mnll': mnll}"
   ]
  },
  {
   "cell_type": "code",
   "execution_count": 24,
   "metadata": {},
   "outputs": [],
   "source": [
    "from emukit.core import ContinuousParameter, ParameterSpace\n",
    "from emukit.core.initial_designs import LatinDesign"
   ]
  },
  {
   "cell_type": "code",
   "execution_count": 25,
   "metadata": {},
   "outputs": [
    {
     "name": "stdout",
     "output_type": "stream",
     "text": [
      "(5, 4)\n",
      "(5, 8)\n"
     ]
    }
   ],
   "source": [
    "np.random.seed(123)\n",
    "\n",
    "x_test, y_test, X, Y = generate_data(park, 1000)\n",
    "\n",
    "x_test_b, y_test_b, Xb, Yb = generate_data(borehole, 1000)\n",
    "\n",
    "#m1 =  LinearAutoRegressiveModel(X, Y)\n",
    "#m1.optimize()\n",
    "\n",
    "#print(X[0])"
   ]
  },
  {
   "cell_type": "code",
   "execution_count": 26,
   "metadata": {},
   "outputs": [],
   "source": [
    "import scipy.stats\n",
    "\n",
    "#print(calculate_metrics(y_test, y_mean, y_var))"
   ]
  },
  {
   "cell_type": "code",
   "execution_count": 27,
   "metadata": {},
   "outputs": [],
   "source": [
    "import matplotlib.pyplot as plt\n",
    "\n",
    "#plt.scatter(y_mean,y_test)\n",
    "#plt.plot([0, 1], [0, 1], '--k', transform=plt.gca().transAxes)\n",
    "#plt.xlim([0,55])\n",
    "#plt.ylim([0,55])\n",
    "#plt.show()"
   ]
  },
  {
   "cell_type": "code",
   "execution_count": 28,
   "metadata": {},
   "outputs": [],
   "source": [
    "#from emukit.examples.multi_fidelity_dgp.multi_fidelity_deep_gp import MultiFidelityDeepGP"
   ]
  },
  {
   "cell_type": "code",
   "execution_count": 29,
   "metadata": {},
   "outputs": [],
   "source": [
    "#mf_dgp_fix_lf_mean = MultiFidelityDeepGP(X, Y, n_iter=500)\n",
    "#mf_dgp_fix_lf_mean.optimize()"
   ]
  },
  {
   "cell_type": "code",
   "execution_count": 30,
   "metadata": {},
   "outputs": [],
   "source": [
    "#y_mean_dgp, y_var_dgp = mf_dgp_fix_lf_mean.predict(x_test)"
   ]
  },
  {
   "cell_type": "code",
   "execution_count": 31,
   "metadata": {},
   "outputs": [],
   "source": [
    "#print(calculate_metrics(y_test, y_mean_dgp, y_var_dgp))"
   ]
  },
  {
   "cell_type": "code",
   "execution_count": 32,
   "metadata": {},
   "outputs": [],
   "source": [
    "#plt.scatter(y_mean_dgp,y_test)\n",
    "#plt.plot([0, 1], [0, 1], '--k', transform=plt.gca().transAxes)\n",
    "#plt.show()"
   ]
  },
  {
   "cell_type": "code",
   "execution_count": 33,
   "metadata": {},
   "outputs": [
    {
     "data": {
      "text/plain": [
       "<paramz.optimization.optimization.opt_lbfgsb at 0x7f928475ced0>"
      ]
     },
     "execution_count": 33,
     "metadata": {},
     "output_type": "execute_result"
    }
   ],
   "source": [
    "X_currin_cheap = X[0]\n",
    "X_currin_expensive = X[1]\n",
    "\n",
    "y_currin_cheap = Y[0]\n",
    "y_currin_expensive = Y[1]\n",
    "\n",
    "X_borehole_expensive = Xb[1]\n",
    "y_borehole_expensive = Yb[1]\n",
    "\n",
    "import GPy\n",
    "#from GPy.kern import Kern\n",
    "#from GPy import Param, Model\n",
    "\n",
    "m4 = GPy.models.GPRegression(X_currin_expensive, y_currin_expensive)\n",
    "m4.optimize()"
   ]
  },
  {
   "cell_type": "code",
   "execution_count": 34,
   "metadata": {},
   "outputs": [
    {
     "name": "stdout",
     "output_type": "stream",
     "text": [
      "Optimization restart 1/10, f = 15.053429496650764\n",
      "Optimization restart 2/10, f = 15.053430386882848\n",
      "Optimization restart 3/10, f = 15.053429677144344\n",
      "Optimization restart 4/10, f = 15.053429537606393\n",
      "Optimization restart 5/10, f = 15.053429467863873\n",
      "Optimization restart 6/10, f = 15.053429508051218\n",
      "Optimization restart 7/10, f = 15.053439987910705\n",
      "Optimization restart 8/10, f = 15.05342979777585\n",
      "Optimization restart 9/10, f = 15.053429659996672\n",
      "Optimization restart 10/10, f = 15.05342966640193\n"
     ]
    },
    {
     "data": {
      "text/plain": [
       "[<paramz.optimization.optimization.opt_lbfgsb at 0x7f928475ced0>,\n",
       " <paramz.optimization.optimization.opt_lbfgsb at 0x7f928475cd10>,\n",
       " <paramz.optimization.optimization.opt_lbfgsb at 0x7f9284752dd0>,\n",
       " <paramz.optimization.optimization.opt_lbfgsb at 0x7f928475ccd0>,\n",
       " <paramz.optimization.optimization.opt_lbfgsb at 0x7f928475c650>,\n",
       " <paramz.optimization.optimization.opt_lbfgsb at 0x7f9284752fd0>,\n",
       " <paramz.optimization.optimization.opt_lbfgsb at 0x7f92847521d0>,\n",
       " <paramz.optimization.optimization.opt_lbfgsb at 0x7f9284752c90>,\n",
       " <paramz.optimization.optimization.opt_lbfgsb at 0x7f9284752ad0>,\n",
       " <paramz.optimization.optimization.opt_lbfgsb at 0x7f92847528d0>,\n",
       " <paramz.optimization.optimization.opt_lbfgsb at 0x7f928475c5d0>]"
      ]
     },
     "execution_count": 34,
     "metadata": {},
     "output_type": "execute_result"
    }
   ],
   "source": [
    "m4.optimize_restarts(num_restarts = 10)"
   ]
  },
  {
   "cell_type": "code",
   "execution_count": 35,
   "metadata": {},
   "outputs": [],
   "source": [
    "mb = GPy.models.GPRegression(X_borehole_expensive, y_borehole_expensive)"
   ]
  },
  {
   "cell_type": "code",
   "execution_count": 36,
   "metadata": {},
   "outputs": [
    {
     "name": "stdout",
     "output_type": "stream",
     "text": [
      "Optimization restart 1/10, f = 3.6495054933040394\n",
      "Optimization restart 2/10, f = 6.723548248191144\n",
      "Optimization restart 3/10, f = 3.6495069335503585\n",
      "Optimization restart 4/10, f = 6.7235482482272255\n",
      "Optimization restart 5/10, f = 3.649504768305629\n",
      "Optimization restart 6/10, f = 6.723548212782571\n",
      "Optimization restart 7/10, f = 3.6495056411696956\n",
      "Optimization restart 8/10, f = 3.649504954478221\n",
      "Optimization restart 9/10, f = 6.72354824819115\n",
      "Optimization restart 10/10, f = 6.7235482481984725\n"
     ]
    },
    {
     "data": {
      "text/plain": [
       "[<paramz.optimization.optimization.opt_lbfgsb at 0x7f9284525ad0>,\n",
       " <paramz.optimization.optimization.opt_lbfgsb at 0x7f9284751050>,\n",
       " <paramz.optimization.optimization.opt_lbfgsb at 0x7f92847518d0>,\n",
       " <paramz.optimization.optimization.opt_lbfgsb at 0x7f9284751650>,\n",
       " <paramz.optimization.optimization.opt_lbfgsb at 0x7f9284751f90>,\n",
       " <paramz.optimization.optimization.opt_lbfgsb at 0x7f9284751d10>,\n",
       " <paramz.optimization.optimization.opt_lbfgsb at 0x7f9284751890>,\n",
       " <paramz.optimization.optimization.opt_lbfgsb at 0x7f9284751c90>,\n",
       " <paramz.optimization.optimization.opt_lbfgsb at 0x7f92847517d0>,\n",
       " <paramz.optimization.optimization.opt_lbfgsb at 0x7f9284751450>,\n",
       " <paramz.optimization.optimization.opt_lbfgsb at 0x7f9284751710>]"
      ]
     },
     "execution_count": 36,
     "metadata": {},
     "output_type": "execute_result"
    }
   ],
   "source": [
    "mb.optimize()\n",
    "mb.optimize_restarts(num_restarts = 10)"
   ]
  },
  {
   "cell_type": "code",
   "execution_count": 37,
   "metadata": {},
   "outputs": [],
   "source": [
    "X_test = x_test[:,0:4]"
   ]
  },
  {
   "cell_type": "code",
   "execution_count": 38,
   "metadata": {},
   "outputs": [],
   "source": [
    "pred_mu_new, new_var = m4.predict(X_test)"
   ]
  },
  {
   "cell_type": "code",
   "execution_count": 39,
   "metadata": {},
   "outputs": [
    {
     "name": "stdout",
     "output_type": "stream",
     "text": [
      "{'r2': 0.8798918432858639, 'rmse': 1.689328180573288, 'mnll': 1.8596885083540466}\n"
     ]
    }
   ],
   "source": [
    "print(calculate_metrics(y_test, pred_mu_new, new_var)) "
   ]
  },
  {
   "cell_type": "code",
   "execution_count": 40,
   "metadata": {},
   "outputs": [],
   "source": [
    "xb_test = x_test_b[:,0:8]\n",
    "\n",
    "b_mean, b_var = mb.predict(xb_test)"
   ]
  },
  {
   "cell_type": "code",
   "execution_count": 41,
   "metadata": {},
   "outputs": [
    {
     "name": "stdout",
     "output_type": "stream",
     "text": [
      "{'r2': 0.28151473444460606, 'rmse': 0.39227180257661104, 'mnll': 0.5629753937182819}\n"
     ]
    }
   ],
   "source": [
    "print(calculate_metrics(y_test_b, b_mean, b_var)) "
   ]
  },
  {
   "cell_type": "code",
   "execution_count": null,
   "metadata": {},
   "outputs": [],
   "source": []
  }
 ],
 "metadata": {
  "kernelspec": {
   "display_name": "Python 3",
   "language": "python",
   "name": "python3"
  },
  "language_info": {
   "codemirror_mode": {
    "name": "ipython",
    "version": 3
   },
   "file_extension": ".py",
   "mimetype": "text/x-python",
   "name": "python",
   "nbconvert_exporter": "python",
   "pygments_lexer": "ipython3",
   "version": "3.7.6"
  }
 },
 "nbformat": 4,
 "nbformat_minor": 2
}
