{
 "cells": [
  {
   "cell_type": "code",
   "execution_count": 1,
   "metadata": {},
   "outputs": [],
   "source": [
    "from emukit.test_functions.multi_fidelity import multi_fidelity_park_function\n",
    "from emukit.examples.multi_fidelity_dgp.baseline_model_wrappers import LinearAutoRegressiveModel\n",
    "\n",
    "import numpy as np\n",
    "from sklearn.metrics import mean_squared_error, r2_score"
   ]
  },
  {
   "cell_type": "code",
   "execution_count": 2,
   "metadata": {},
   "outputs": [],
   "source": [
    "from collections import namedtuple\n",
    "\n",
    "Function = namedtuple('Function', ['name', 'y_scale', 'noise_level', 'do_x_scaling', 'num_data', 'fcn'])\n",
    "\n",
    "park = Function(name='park', y_scale=1, noise_level=[0., 0.], do_x_scaling=False, num_data=[30, 5], \n",
    "                    fcn=multi_fidelity_park_function)"
   ]
  },
  {
   "cell_type": "code",
   "execution_count": 3,
   "metadata": {},
   "outputs": [],
   "source": [
    "def generate_data(fcn_tuple, n_test_points):\n",
    "    \"\"\"\n",
    "    Generates train and test data for\n",
    "    \"\"\"\n",
    "    \n",
    "    # A different definition of the parameter space for the branin function was used in the paper\n",
    "    if fcn_tuple.name == 'branin':\n",
    "        fcn, space = fcn_tuple.fcn()\n",
    "        new_space = ParameterSpace([ContinuousParameter('x1', -5., 0.), ContinuousParameter('x2', 10., 15.)])\n",
    "    else:\n",
    "        fcn, space = fcn_tuple.fcn()\n",
    "        new_space = ParameterSpace(space._parameters[:-1])\n",
    "    \n",
    "    do_x_scaling = fcn_tuple.do_x_scaling\n",
    "    \n",
    "    \n",
    "    # Generate training data\n",
    "    \n",
    "    latin = LatinDesign(new_space)\n",
    "    X = [latin.get_samples(n) for n in fcn_tuple.num_data]\n",
    "    \n",
    "    # Scale X if required\n",
    "    if do_x_scaling:\n",
    "        scalings = X[0].std(axis=0)\n",
    "    else:\n",
    "        scalings = np.ones(X[0].shape[1])\n",
    "        \n",
    "    for x in X:\n",
    "        x /= scalings\n",
    "    \n",
    "    Y = []\n",
    "    for i, x in enumerate(X):\n",
    "        Y.append(fcn.f[i](x * scalings))\n",
    "    \n",
    "    y_scale = fcn_tuple.y_scale\n",
    "    \n",
    "    # scale y and add noise if required\n",
    "    noise_levels = fcn_tuple.noise_level\n",
    "    if any([n > 0 for n in noise_levels]):\n",
    "        for y, std_noise in zip(Y, noise_levels):\n",
    "            y /= y_scale + std_noise * np.random.randn(y.shape[0], 1)\n",
    "    \n",
    "    # Generate test data\n",
    "    x_test = latin.get_samples(n_test_points)\n",
    "    x_test /= scalings\n",
    "    y_test = fcn.f[-1](x_test * scalings)\n",
    "    y_test /= y_scale\n",
    "\n",
    "    i_highest_fidelity = (len(fcn_tuple.num_data) - 1) * np.ones((x_test.shape[0], 1))\n",
    "    x_test = np.concatenate([x_test, i_highest_fidelity], axis=1)\n",
    "    print(X[1].shape)\n",
    "    return x_test, y_test, X, Y"
   ]
  },
  {
   "cell_type": "code",
   "execution_count": 4,
   "metadata": {},
   "outputs": [],
   "source": [
    "def calculate_metrics(y_test, y_mean_prediction, y_var_prediction):\n",
    "    # R2\n",
    "    r2 = r2_score(y_test, y_mean_prediction)\n",
    "    # RMSE\n",
    "    rmse = np.sqrt(mean_squared_error(y_test, y_mean_prediction))\n",
    "    # Test log likelihood\n",
    "    mnll = -np.sum(scipy.stats.norm.logpdf(y_test, loc=y_mean_prediction, scale=np.sqrt(y_var_prediction)))/len(y_test)\n",
    "    return {'r2': r2, 'rmse': rmse, 'mnll': mnll}"
   ]
  },
  {
   "cell_type": "code",
   "execution_count": 5,
   "metadata": {},
   "outputs": [],
   "source": [
    "from emukit.core import ContinuousParameter, ParameterSpace\n",
    "from emukit.core.initial_designs import LatinDesign"
   ]
  },
  {
   "cell_type": "code",
   "execution_count": 6,
   "metadata": {},
   "outputs": [
    {
     "name": "stdout",
     "output_type": "stream",
     "text": [
      "(5, 4)\n"
     ]
    },
    {
     "name": "stderr",
     "output_type": "stream",
     "text": [
      " /Users/felix/opt/anaconda3/lib/python3.7/site-packages/GPy/kern/src/stationary.py:144: RuntimeWarning:overflow encountered in square\n",
      " /Users/felix/opt/anaconda3/lib/python3.7/site-packages/GPy/kern/src/stationary.py:145: RuntimeWarning:overflow encountered in square\n",
      " /Users/felix/opt/anaconda3/lib/python3.7/site-packages/GPy/kern/src/stationary.py:146: RuntimeWarning:invalid value encountered in add\n"
     ]
    },
    {
     "name": "stdout",
     "output_type": "stream",
     "text": [
      "Optimization restart 1/10, f = -6.653034061273502\n",
      "Optimization restart 2/10, f = 10.019262183936604\n",
      "Optimization restart 3/10, f = -2.867577360001647\n",
      "Optimization restart 4/10, f = -3.901890413959446\n",
      "Optimization restart 5/10, f = -5.018659217164842\n",
      "Optimization restart 6/10, f = -4.119642564777735\n",
      "Optimization restart 7/10, f = -2.8339952854963997\n",
      "Optimization restart 8/10, f = -4.226349786718451\n",
      "Optimization restart 9/10, f = -2.6846375558100704\n",
      "Optimization restart 10/10, f = 10.940444931629337\n",
      "Optimization restart 1/10, f = -6.653034115331707\n"
     ]
    },
    {
     "name": "stderr",
     "output_type": "stream",
     "text": [
      " /Users/felix/opt/anaconda3/lib/python3.7/site-packages/paramz/transformations.py:111: RuntimeWarning:overflow encountered in expm1\n"
     ]
    },
    {
     "name": "stdout",
     "output_type": "stream",
     "text": [
      "Optimization restart 2/10, f = -5.515691666336316\n"
     ]
    },
    {
     "name": "stderr",
     "output_type": "stream",
     "text": [
      " /Users/felix/opt/anaconda3/lib/python3.7/site-packages/GPy/kern/src/stationary.py:243: RuntimeWarning:invalid value encountered in true_divide\n"
     ]
    },
    {
     "name": "stdout",
     "output_type": "stream",
     "text": [
      "Optimization restart 3/10, f = -3.0406825703634723\n",
      "Optimization restart 4/10, f = 9.112080092127854\n",
      "Optimization restart 5/10, f = -6.797096200968824\n",
      "Optimization restart 6/10, f = 9.097783141052055\n",
      "Optimization restart 7/10, f = 11.948812061479643\n",
      "Optimization restart 8/10, f = -3.9456644389929423\n",
      "Optimization restart 9/10, f = 10.308169430291024\n",
      "Optimization restart 10/10, f = 11.102775961176981\n",
      "[[0.05       0.38333333 0.95       0.85      ]\n",
      " [0.15       0.41666667 0.61666667 0.21666667]\n",
      " [0.01666667 0.28333333 0.98333333 0.98333333]\n",
      " [0.08333333 0.48333333 0.55       0.31666667]\n",
      " [0.41666667 0.21666667 0.58333333 0.78333333]\n",
      " [0.18333333 0.61666667 0.48333333 0.08333333]\n",
      " [0.21666667 0.68333333 0.85       0.61666667]\n",
      " [0.28333333 0.65       0.51666667 0.88333333]\n",
      " [0.55       0.81666667 0.15       0.81666667]\n",
      " [0.51666667 0.58333333 0.38333333 0.45      ]\n",
      " [0.78333333 0.25       0.91666667 0.18333333]\n",
      " [0.25       0.45       0.31666667 0.35      ]\n",
      " [0.91666667 0.01666667 0.18333333 0.38333333]\n",
      " [0.81666667 0.11666667 0.75       0.15      ]\n",
      " [0.71666667 0.88333333 0.41666667 0.01666667]\n",
      " [0.95       0.35       0.08333333 0.05      ]\n",
      " [0.68333333 0.75       0.68333333 0.51666667]\n",
      " [0.35       0.51666667 0.88333333 0.68333333]\n",
      " [0.65       0.95       0.78333333 0.91666667]\n",
      " [0.38333333 0.71666667 0.21666667 0.55      ]\n",
      " [0.88333333 0.05       0.25       0.75      ]\n",
      " [0.58333333 0.85       0.05       0.48333333]\n",
      " [0.31666667 0.08333333 0.65       0.71666667]\n",
      " [0.75       0.31666667 0.81666667 0.28333333]\n",
      " [0.98333333 0.55       0.11666667 0.41666667]\n",
      " [0.61666667 0.18333333 0.01666667 0.25      ]\n",
      " [0.11666667 0.91666667 0.71666667 0.58333333]\n",
      " [0.85       0.15       0.28333333 0.65      ]\n",
      " [0.45       0.98333333 0.35       0.11666667]\n",
      " [0.48333333 0.78333333 0.45       0.95      ]]\n"
     ]
    }
   ],
   "source": [
    "np.random.seed(123)\n",
    "\n",
    "x_test, y_test, X, Y = generate_data(park, 1000)\n",
    "\n",
    "m1 =  LinearAutoRegressiveModel(X, Y)\n",
    "m1.optimize()\n",
    "\n",
    "print(X[0])"
   ]
  },
  {
   "cell_type": "code",
   "execution_count": 7,
   "metadata": {},
   "outputs": [],
   "source": [
    "y_mean, y_var = m1.predict(x_test)"
   ]
  },
  {
   "cell_type": "code",
   "execution_count": 8,
   "metadata": {},
   "outputs": [
    {
     "name": "stdout",
     "output_type": "stream",
     "text": [
      "{'r2': 0.9849401506929667, 'rmse': 0.5981885404358075, 'mnll': 328.58632272569025}\n"
     ]
    }
   ],
   "source": [
    "import scipy.stats\n",
    "\n",
    "print(calculate_metrics(y_test, y_mean, y_var))"
   ]
  },
  {
   "cell_type": "code",
   "execution_count": 9,
   "metadata": {},
   "outputs": [
    {
     "data": {
      "image/png": "[encoded data removed]",
      "text/plain": [
       "<Figure size 432x288 with 1 Axes>"
      ]
     },
     "metadata": {
      "needs_background": "light"
     },
     "output_type": "display_data"
    }
   ],
   "source": [
    "import matplotlib.pyplot as plt\n",
    "\n",
    "plt.scatter(y_mean,y_test)\n",
    "plt.plot([0, 1], [0, 1], '--k', transform=plt.gca().transAxes)\n",
    "#plt.xlim([0,55])\n",
    "#plt.ylim([0,55])\n",
    "plt.show()"
   ]
  },
  {
   "cell_type": "code",
   "execution_count": 10,
   "metadata": {},
   "outputs": [],
   "source": [
    "#from emukit.examples.multi_fidelity_dgp.multi_fidelity_deep_gp import MultiFidelityDeepGP"
   ]
  },
  {
   "cell_type": "code",
   "execution_count": 11,
   "metadata": {},
   "outputs": [],
   "source": [
    "#mf_dgp_fix_lf_mean = MultiFidelityDeepGP(X, Y, n_iter=500)\n",
    "#mf_dgp_fix_lf_mean.optimize()"
   ]
  },
  {
   "cell_type": "code",
   "execution_count": 12,
   "metadata": {},
   "outputs": [],
   "source": [
    "#y_mean_dgp, y_var_dgp = mf_dgp_fix_lf_mean.predict(x_test)"
   ]
  },
  {
   "cell_type": "code",
   "execution_count": 13,
   "metadata": {},
   "outputs": [],
   "source": [
    "#print(calculate_metrics(y_test, y_mean_dgp, y_var_dgp))"
   ]
  },
  {
   "cell_type": "code",
   "execution_count": 14,
   "metadata": {},
   "outputs": [],
   "source": [
    "#plt.scatter(y_mean_dgp,y_test)\n",
    "#plt.plot([0, 1], [0, 1], '--k', transform=plt.gca().transAxes)\n",
    "#plt.show()"
   ]
  },
  {
   "cell_type": "code",
   "execution_count": 15,
   "metadata": {},
   "outputs": [],
   "source": [
    "from MFRBF import MFRBF"
   ]
  },
  {
   "cell_type": "code",
   "execution_count": 16,
   "metadata": {},
   "outputs": [
    {
     "data": {
      "text/plain": [
       "<paramz.optimization.optimization.opt_lbfgsb at 0x7fc4cc728a10>"
      ]
     },
     "execution_count": 16,
     "metadata": {},
     "output_type": "execute_result"
    }
   ],
   "source": [
    "X_currin_cheap = X[0]\n",
    "X_currin_expensive = X[1]\n",
    "\n",
    "y_currin_cheap = Y[0]\n",
    "y_currin_expensive = Y[1]\n",
    "\n",
    "import GPy\n",
    "from GPy.kern import Kern\n",
    "from GPy import Param, Model\n",
    "\n",
    "m4 = GPy.models.GPRegression(X_currin_cheap, y_currin_cheap)\n",
    "m4.optimize()"
   ]
  },
  {
   "cell_type": "code",
   "execution_count": 17,
   "metadata": {},
   "outputs": [
    {
     "name": "stderr",
     "output_type": "stream",
     "text": [
      " /Users/felix/opt/anaconda3/lib/python3.7/site-packages/paramz/transformations.py:111: RuntimeWarning:overflow encountered in expm1\n"
     ]
    },
    {
     "name": "stdout",
     "output_type": "stream",
     "text": [
      "Optimization restart 1/10, f = 15.164136779936381\n",
      "Optimization restart 2/10, f = 15.164136780028464\n",
      "Optimization restart 3/10, f = 11.327812275911466\n",
      "Optimization restart 4/10, f = 15.164136785818641\n",
      "Optimization restart 5/10, f = 15.164136763271898\n",
      "Optimization restart 6/10, f = 15.16413680064441\n",
      "Optimization restart 7/10, f = 15.16413677400028\n",
      "Optimization restart 8/10, f = 11.327812272855304\n",
      "Optimization restart 9/10, f = 15.164136783217039\n",
      "Optimization restart 10/10, f = 15.16413678822667\n"
     ]
    },
    {
     "data": {
      "text/plain": [
       "[<paramz.optimization.optimization.opt_lbfgsb at 0x7fc4cc728a10>,\n",
       " <paramz.optimization.optimization.opt_lbfgsb at 0x7fc4cc728410>,\n",
       " <paramz.optimization.optimization.opt_lbfgsb at 0x7fc4cc717e10>,\n",
       " <paramz.optimization.optimization.opt_lbfgsb at 0x7fc4cc717b90>,\n",
       " <paramz.optimization.optimization.opt_lbfgsb at 0x7fc4cc71f4d0>,\n",
       " <paramz.optimization.optimization.opt_lbfgsb at 0x7fc4cc71fdd0>,\n",
       " <paramz.optimization.optimization.opt_lbfgsb at 0x7fc4cc71fe10>,\n",
       " <paramz.optimization.optimization.opt_lbfgsb at 0x7fc4cc717650>,\n",
       " <paramz.optimization.optimization.opt_lbfgsb at 0x7fc4cc71fad0>,\n",
       " <paramz.optimization.optimization.opt_lbfgsb at 0x7fc4cc71fd50>,\n",
       " <paramz.optimization.optimization.opt_lbfgsb at 0x7fc4cffe9550>]"
      ]
     },
     "execution_count": 17,
     "metadata": {},
     "output_type": "execute_result"
    }
   ],
   "source": [
    "m4.optimize_restarts(num_restarts = 10)"
   ]
  },
  {
   "cell_type": "code",
   "execution_count": 18,
   "metadata": {},
   "outputs": [
    {
     "data": {
      "text/plain": [
       "<paramz.optimization.optimization.opt_lbfgsb at 0x7fc4cc730d10>"
      ]
     },
     "execution_count": 18,
     "metadata": {},
     "output_type": "execute_result"
    }
   ],
   "source": [
    "mu_currin, v_currin = m4.predict(X_currin_expensive, full_cov = True)\n",
    "\n",
    "kern_currin = MFRBF(input_dim=X_currin_expensive.shape[1], variance = 10, lengthscale = 1, mu = mu_currin, v=v_currin)\n",
    "#k_currin_1 = deepKern.K(X_currin_expensive)\n",
    "\n",
    "k_currin_rbf = GPy.kern.RBF(input_dim = X_currin_expensive.shape[1])\n",
    "\n",
    "k_currin = kern_currin * k_currin_rbf\n",
    "\n",
    "m_currin = GPy.models.GPRegression(X_currin_expensive, y_currin_expensive, k_currin)\n",
    "\n",
    "m_currin.optimize()"
   ]
  },
  {
   "cell_type": "code",
   "execution_count": 19,
   "metadata": {},
   "outputs": [
    {
     "name": "stderr",
     "output_type": "stream",
     "text": [
      " /Users/felix/opt/anaconda3/lib/python3.7/site-packages/paramz/transformations.py:111: RuntimeWarning:overflow encountered in expm1\n"
     ]
    },
    {
     "name": "stdout",
     "output_type": "stream",
     "text": [
      "Optimization restart 1/10, f = 6.38706845615353\n",
      "Optimization restart 2/10, f = 6.387069599696662\n",
      "Optimization restart 3/10, f = 6.387068374975613\n",
      "Optimization restart 4/10, f = 6.387068461736608\n",
      "Optimization restart 5/10, f = 6.38707808177003\n",
      "Optimization restart 6/10, f = 6.387070973618162\n",
      "Optimization restart 7/10, f = 6.38706841141888\n",
      "Optimization restart 8/10, f = 6.387068359948505\n",
      "Optimization restart 9/10, f = 6.387071198843312\n",
      "Optimization restart 10/10, f = 6.387071192633183\n"
     ]
    },
    {
     "data": {
      "text/plain": [
       "[<paramz.optimization.optimization.opt_lbfgsb at 0x7fd36a7155d0>,\n",
       " <paramz.optimization.optimization.opt_lbfgsb at 0x7fd36a6ae350>,\n",
       " <paramz.optimization.optimization.opt_lbfgsb at 0x7fd36a6ae410>,\n",
       " <paramz.optimization.optimization.opt_lbfgsb at 0x7fd36a5f1850>,\n",
       " <paramz.optimization.optimization.opt_lbfgsb at 0x7fd36a5f1110>,\n",
       " <paramz.optimization.optimization.opt_lbfgsb at 0x7fd36a715e90>,\n",
       " <paramz.optimization.optimization.opt_lbfgsb at 0x7fd36a6ed250>,\n",
       " <paramz.optimization.optimization.opt_lbfgsb at 0x7fd36a6ae750>,\n",
       " <paramz.optimization.optimization.opt_lbfgsb at 0x7fd36a6f80d0>,\n",
       " <paramz.optimization.optimization.opt_lbfgsb at 0x7fd36a6ed450>,\n",
       " <paramz.optimization.optimization.opt_lbfgsb at 0x7fd36a6ede10>]"
      ]
     },
     "execution_count": 19,
     "metadata": {},
     "output_type": "execute_result"
    }
   ],
   "source": [
    "m_currin.optimize_restarts(num_restarts = 10)"
   ]
  },
  {
   "cell_type": "code",
   "execution_count": 19,
   "metadata": {},
   "outputs": [],
   "source": [
    "X_test = x_test[:,0:4]"
   ]
  },
  {
   "cell_type": "code",
   "execution_count": 20,
   "metadata": {},
   "outputs": [],
   "source": [
    "def predict_eff(CovMtx, Y):\n",
    "    K_ee = CovMtx[1:,1:]\n",
    "    K_e = CovMtx[0,1:]\n",
    "    K_inv = np.linalg.inv(K_ee+0.0001*np.eye(K_ee.shape[0]))\n",
    "    pred_mu = np.matmul(np.matmul(K_e, K_inv), Y)\n",
    "    pred_v = CovMtx[0,0] - np.matmul(np.matmul(K_e, K_inv), np.matrix.transpose(K_e))\n",
    "    return pred_mu, pred_v\n"
   ]
  },
  {
   "cell_type": "code",
   "execution_count": 22,
   "metadata": {},
   "outputs": [
    {
     "name": "stdout",
     "output_type": "stream",
     "text": [
      "{'r2': 0.9645466313079737, 'rmse': 0.9178179126496239, 'mnll': 22.905327022688102}\n"
     ]
    }
   ],
   "source": [
    "s1=m_currin.kern.rbf.variance[0]\n",
    "l1=m_currin.kern.rbf.lengthscale[0]\n",
    "s2=m_currin.kern.MFRBF.variance[0]\n",
    "l2=m_currin.kern.MFRBF.lengthscale[0]\n",
    "\n",
    "\n",
    "Y_test=[]\n",
    "Y_test_cov = []\n",
    "Y_test_up=[]\n",
    "Y_test_down=[]\n",
    "\n",
    "for i in range(X_test.shape[0]):\n",
    "    xx = X_test[i].reshape(1,4)\n",
    "    Xnew = np.vstack((xx,X_currin_expensive))\n",
    "    mu1, v1 = m4.predict(Xnew, full_cov = True)\n",
    "    kernMF = MFRBF(input_dim=2,variance = s2, lengthscale = l2, mu = mu1, v=v1)\n",
    "    kernRBF = GPy.kern.RBF(input_dim = 2, variance = s1, lengthscale = l1)\n",
    "    M1 = kernMF.K(Xnew)\n",
    "    M2 = kernRBF.K(Xnew)\n",
    "    GG = np.multiply(M1, M2)\n",
    "    \n",
    "    pred_mu, pred_var = predict_eff(GG, y_currin_expensive)\n",
    "    \n",
    "    Y_test.append(pred_mu)\n",
    "    Y_test_cov.append(pred_var)\n",
    "    #Y_test_up.append(pred_mu+1.96*pred_std)\n",
    "    #Y_test_down.append(pred_mu-1.96*pred_std)\n",
    "    \n",
    "mfgp_mean = np.array(Y_test).reshape(-1,1)\n",
    "mfgp_var = np.array(Y_test_cov).reshape(-1,1)\n",
    "print(calculate_metrics(y_test, mfgp_mean, mfgp_var))    "
   ]
  },
  {
   "cell_type": "code",
   "execution_count": 23,
   "metadata": {},
   "outputs": [
    {
     "data": {
      "image/png": "[encoded data removed]",
      "text/plain": [
       "<Figure size 432x288 with 1 Axes>"
      ]
     },
     "metadata": {
      "needs_background": "light"
     },
     "output_type": "display_data"
    }
   ],
   "source": [
    "plt.scatter(mfgp_mean,y_test)\n",
    "plt.plot([0, 1], [0, 1], '--k', transform=plt.gca().transAxes)\n",
    "plt.show()"
   ]
  },
  {
   "cell_type": "code",
   "execution_count": 24,
   "metadata": {},
   "outputs": [
    {
     "data": {
      "text/plain": [
       "(1000, 4)"
      ]
     },
     "execution_count": 24,
     "metadata": {},
     "output_type": "execute_result"
    }
   ],
   "source": [
    "xx_test = x_test[:,0:4]\n",
    "xx_test.shape"
   ]
  },
  {
   "cell_type": "code",
   "execution_count": 25,
   "metadata": {},
   "outputs": [],
   "source": [
    "def predict_eff_new(CovMtx, Y):\n",
    "    len_expensive = Y.shape[0]\n",
    "    len_all = CovMtx.shape[0]\n",
    "    len_high = len_all-len_expensive\n",
    "    K_ee = CovMtx[len_high:,len_high:]\n",
    "    K_e = CovMtx[0:len_high,len_high:]\n",
    "    K_inv = np.linalg.inv(K_ee+0.000001*np.eye(len_expensive))\n",
    "    pred_mu = np.matmul(np.matmul(K_e, K_inv), Y)\n",
    "    pred_v = CovMtx[0:len_high,0:len_high] - np.matmul(np.matmul(K_e, K_inv), np.matrix.transpose(K_e))\n",
    "    return pred_mu, pred_v"
   ]
  },
  {
   "cell_type": "code",
   "execution_count": 26,
   "metadata": {},
   "outputs": [
    {
     "data": {
      "text/plain": [
       "((1005, 1), (1005, 1005))"
      ]
     },
     "execution_count": 26,
     "metadata": {},
     "output_type": "execute_result"
    }
   ],
   "source": [
    "Xnew1 = np.vstack((xx_test,X_currin_expensive))\n",
    "mu_new, v_new = m4.predict(Xnew1, full_cov = True)\n",
    "\n",
    "mu_new.shape, v_new.shape"
   ]
  },
  {
   "cell_type": "code",
   "execution_count": 27,
   "metadata": {},
   "outputs": [],
   "source": [
    "kernMF_new = MFRBF(input_dim=2, variance = s2, lengthscale = l2, mu = mu_new, v=v_new)\n",
    "kernRBF_new = GPy.kern.RBF(input_dim = 2, variance = s1, lengthscale = l1)\n",
    "\n",
    "M1_new = kernMF_new.K(Xnew1)\n",
    "M2_new = kernRBF_new.K(Xnew1)\n",
    "GG_new = np.multiply(M1_new, M2_new)\n",
    "\n",
    "M1_new.shape, M2_new.shape\n",
    "\n",
    "pred_mu_new, pred_var_new = predict_eff_new(GG_new, y_currin_expensive)"
   ]
  },
  {
   "cell_type": "code",
   "execution_count": 28,
   "metadata": {},
   "outputs": [
    {
     "data": {
      "text/plain": [
       "((1000, 1), (1000, 1000))"
      ]
     },
     "execution_count": 28,
     "metadata": {},
     "output_type": "execute_result"
    }
   ],
   "source": [
    "pred_mu_new.shape, pred_var_new.shape"
   ]
  },
  {
   "cell_type": "code",
   "execution_count": 29,
   "metadata": {},
   "outputs": [
    {
     "data": {
      "text/plain": [
       "(1000, 1)"
      ]
     },
     "execution_count": 29,
     "metadata": {},
     "output_type": "execute_result"
    }
   ],
   "source": [
    "new_var = np.diagonal(pred_var_new).reshape(-1,1)\n",
    "new_var.shape"
   ]
  },
  {
   "cell_type": "code",
   "execution_count": 30,
   "metadata": {},
   "outputs": [
    {
     "name": "stdout",
     "output_type": "stream",
     "text": [
      "{'r2': 0.9648246935733878, 'rmse': 0.9142115852931015, 'mnll': 23.53258556005952}\n"
     ]
    }
   ],
   "source": [
    "print(calculate_metrics(y_test, pred_mu_new, new_var)) "
   ]
  },
  {
   "cell_type": "code",
   "execution_count": null,
   "metadata": {},
   "outputs": [],
   "source": []
  }
 ],
 "metadata": {
  "kernelspec": {
   "display_name": "Python 3",
   "language": "python",
   "name": "python3"
  },
  "language_info": {
   "codemirror_mode": {
    "name": "ipython",
    "version": 3
   },
   "file_extension": ".py",
   "mimetype": "text/x-python",
   "name": "python",
   "nbconvert_exporter": "python",
   "pygments_lexer": "ipython3",
   "version": "3.7.6"
  }
 },
 "nbformat": 4,
 "nbformat_minor": 2
}
