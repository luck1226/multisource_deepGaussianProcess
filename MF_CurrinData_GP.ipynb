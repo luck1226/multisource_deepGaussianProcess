{
 "cells": [
  {
   "cell_type": "code",
   "execution_count": 1,
   "metadata": {},
   "outputs": [],
   "source": [
    "from emukit.test_functions.multi_fidelity import multi_fidelity_currin_function\n",
    "from emukit.examples.multi_fidelity_dgp.baseline_model_wrappers import LinearAutoRegressiveModel\n",
    "\n",
    "import numpy as np\n",
    "from sklearn.metrics import mean_squared_error, r2_score"
   ]
  },
  {
   "cell_type": "code",
   "execution_count": 2,
   "metadata": {},
   "outputs": [],
   "source": [
    "from collections import namedtuple\n",
    "\n",
    "Function = namedtuple('Function', ['name', 'y_scale', 'noise_level', 'do_x_scaling', 'num_data', 'fcn'])\n",
    "currin = Function(name='currin', y_scale=1, noise_level=[0., 0.], do_x_scaling=False, num_data=[12, 5], \n",
    "                    fcn=multi_fidelity_currin_function)"
   ]
  },
  {
   "cell_type": "code",
   "execution_count": 3,
   "metadata": {},
   "outputs": [],
   "source": [
    "def generate_data(fcn_tuple, n_test_points):\n",
    "    \"\"\"\n",
    "    Generates train and test data for\n",
    "    \"\"\"\n",
    "    \n",
    "    # A different definition of the parameter space for the branin function was used in the paper\n",
    "    if fcn_tuple.name == 'branin':\n",
    "        fcn, space = fcn_tuple.fcn()\n",
    "        new_space = ParameterSpace([ContinuousParameter('x1', -5., 0.), ContinuousParameter('x2', 10., 15.)])\n",
    "    else:\n",
    "        fcn, space = fcn_tuple.fcn()\n",
    "        new_space = ParameterSpace(space._parameters[:-1])\n",
    "    \n",
    "    do_x_scaling = fcn_tuple.do_x_scaling\n",
    "    \n",
    "    \n",
    "    # Generate training data\n",
    "    \n",
    "    latin = LatinDesign(new_space)\n",
    "    X = [latin.get_samples(n) for n in fcn_tuple.num_data]\n",
    "    \n",
    "    # Scale X if required\n",
    "    if do_x_scaling:\n",
    "        scalings = X[0].std(axis=0)\n",
    "    else:\n",
    "        scalings = np.ones(X[0].shape[1])\n",
    "        \n",
    "    for x in X:\n",
    "        x /= scalings\n",
    "    \n",
    "    Y = []\n",
    "    for i, x in enumerate(X):\n",
    "        Y.append(fcn.f[i](x * scalings))\n",
    "    \n",
    "    y_scale = fcn_tuple.y_scale\n",
    "    \n",
    "    # scale y and add noise if required\n",
    "    noise_levels = fcn_tuple.noise_level\n",
    "    if any([n > 0 for n in noise_levels]):\n",
    "        for y, std_noise in zip(Y, noise_levels):\n",
    "            y /= y_scale + std_noise * np.random.randn(y.shape[0], 1)\n",
    "    \n",
    "    # Generate test data\n",
    "    x_test = latin.get_samples(n_test_points)\n",
    "    x_test /= scalings\n",
    "    y_test = fcn.f[-1](x_test * scalings)\n",
    "    y_test /= y_scale\n",
    "\n",
    "    i_highest_fidelity = (len(fcn_tuple.num_data) - 1) * np.ones((x_test.shape[0], 1))\n",
    "    x_test = np.concatenate([x_test, i_highest_fidelity], axis=1)\n",
    "    print(X[1].shape)\n",
    "    return x_test, y_test, X, Y"
   ]
  },
  {
   "cell_type": "code",
   "execution_count": 4,
   "metadata": {},
   "outputs": [],
   "source": [
    "def calculate_metrics(y_test, y_mean_prediction, y_var_prediction):\n",
    "    # R2\n",
    "    r2 = r2_score(y_test, y_mean_prediction)\n",
    "    # RMSE\n",
    "    rmse = np.sqrt(mean_squared_error(y_test, y_mean_prediction))\n",
    "    # Test log likelihood\n",
    "    mnll = -np.sum(scipy.stats.norm.logpdf(y_test, loc=y_mean_prediction, scale=np.sqrt(y_var_prediction)))/len(y_test)\n",
    "    return {'r2': r2, 'rmse': rmse, 'mnll': mnll}"
   ]
  },
  {
   "cell_type": "code",
   "execution_count": 5,
   "metadata": {},
   "outputs": [],
   "source": [
    "from emukit.core import ContinuousParameter, ParameterSpace\n",
    "from emukit.core.initial_designs import LatinDesign"
   ]
  },
  {
   "cell_type": "code",
   "execution_count": 6,
   "metadata": {},
   "outputs": [
    {
     "name": "stdout",
     "output_type": "stream",
     "text": [
      "(5, 2)\n"
     ]
    },
    {
     "name": "stderr",
     "output_type": "stream",
     "text": [
      " /Users/felix/opt/anaconda3/lib/python3.7/site-packages/emukit/test_functions/multi_fidelity/currin.py:34: RuntimeWarning:divide by zero encountered in true_divide\n"
     ]
    }
   ],
   "source": [
    "np.random.seed(123)\n",
    "\n",
    "x_test, y_test, X, Y = generate_data(currin, 1000)\n",
    "\n",
    "#m1 =  LinearAutoRegressiveModel(X, Y)\n",
    "#m1.optimize()\n",
    "\n",
    "#print(X[0])"
   ]
  },
  {
   "cell_type": "code",
   "execution_count": 7,
   "metadata": {},
   "outputs": [],
   "source": [
    "#y_mean, y_var = m1.predict(x_test)"
   ]
  },
  {
   "cell_type": "code",
   "execution_count": 8,
   "metadata": {},
   "outputs": [],
   "source": [
    "import scipy.stats\n",
    "\n",
    "#print(calculate_metrics(y_test, y_mean, y_var))"
   ]
  },
  {
   "cell_type": "code",
   "execution_count": 9,
   "metadata": {},
   "outputs": [],
   "source": [
    "import matplotlib.pyplot as plt\n",
    "\n",
    "#plt.scatter(y_mean,y_test)\n",
    "#plt.plot([0, 1], [0, 1], '--k', transform=plt.gca().transAxes)\n",
    "#plt.xlim([0,55])\n",
    "#plt.ylim([0,55])\n",
    "#plt.show()"
   ]
  },
  {
   "cell_type": "code",
   "execution_count": 10,
   "metadata": {},
   "outputs": [],
   "source": [
    "#from emukit.examples.multi_fidelity_dgp.multi_fidelity_deep_gp import MultiFidelityDeepGP"
   ]
  },
  {
   "cell_type": "code",
   "execution_count": 11,
   "metadata": {},
   "outputs": [],
   "source": [
    "#mf_dgp_fix_lf_mean = MultiFidelityDeepGP(X, Y, n_iter=500)\n",
    "#mf_dgp_fix_lf_mean.optimize()"
   ]
  },
  {
   "cell_type": "code",
   "execution_count": 12,
   "metadata": {},
   "outputs": [],
   "source": [
    "#y_mean_dgp, y_var_dgp = mf_dgp_fix_lf_mean.predict(x_test)"
   ]
  },
  {
   "cell_type": "code",
   "execution_count": 13,
   "metadata": {},
   "outputs": [],
   "source": [
    "#print(calculate_metrics(y_test, y_mean_dgp, y_var_dgp))"
   ]
  },
  {
   "cell_type": "code",
   "execution_count": 14,
   "metadata": {},
   "outputs": [],
   "source": [
    "#plt.scatter(y_mean_dgp,y_test)\n",
    "#plt.plot([0, 1], [0, 1], '--k', transform=plt.gca().transAxes)\n",
    "#plt.show()"
   ]
  },
  {
   "cell_type": "code",
   "execution_count": 14,
   "metadata": {},
   "outputs": [],
   "source": [
    "#from MFRBF import MFRBF"
   ]
  },
  {
   "cell_type": "code",
   "execution_count": 15,
   "metadata": {},
   "outputs": [
    {
     "data": {
      "text/plain": [
       "<paramz.optimization.optimization.opt_lbfgsb at 0x7fe3f6566910>"
      ]
     },
     "execution_count": 15,
     "metadata": {},
     "output_type": "execute_result"
    }
   ],
   "source": [
    "X_currin_cheap = X[0]\n",
    "X_currin_expensive = X[1]\n",
    "\n",
    "y_currin_cheap = Y[0]\n",
    "y_currin_expensive = Y[1]\n",
    "\n",
    "import GPy\n",
    "from GPy.kern import Kern\n",
    "from GPy import Param, Model\n",
    "\n",
    "m4 = GPy.models.GPRegression(X_currin_expensive, y_currin_expensive)\n",
    "m4.optimize()"
   ]
  },
  {
   "cell_type": "code",
   "execution_count": 16,
   "metadata": {},
   "outputs": [
    {
     "name": "stdout",
     "output_type": "stream",
     "text": [
      "Optimization restart 1/10, f = 9.806857300794606\n",
      "Optimization restart 2/10, f = 9.806857580056109\n",
      "Optimization restart 3/10, f = 9.806857277576842\n",
      "Optimization restart 4/10, f = 9.80685727820227\n",
      "Optimization restart 5/10, f = 9.806857347049299\n",
      "Optimization restart 6/10, f = 9.806857271581139\n",
      "Optimization restart 7/10, f = 9.806858246806616\n",
      "Optimization restart 8/10, f = 9.806861046825766\n",
      "Optimization restart 9/10, f = 9.806857307152256\n",
      "Optimization restart 10/10, f = 9.806857329812141\n"
     ]
    },
    {
     "data": {
      "text/plain": [
       "[<paramz.optimization.optimization.opt_lbfgsb at 0x7fe3f6566910>,\n",
       " <paramz.optimization.optimization.opt_lbfgsb at 0x7fe3f6566cd0>,\n",
       " <paramz.optimization.optimization.opt_lbfgsb at 0x7fe3f6550f50>,\n",
       " <paramz.optimization.optimization.opt_lbfgsb at 0x7fe3f6584350>,\n",
       " <paramz.optimization.optimization.opt_lbfgsb at 0x7fe3f6584c50>,\n",
       " <paramz.optimization.optimization.opt_lbfgsb at 0x7fe3f6566550>,\n",
       " <paramz.optimization.optimization.opt_lbfgsb at 0x7fe3f65661d0>,\n",
       " <paramz.optimization.optimization.opt_lbfgsb at 0x7fe3f6584e50>,\n",
       " <paramz.optimization.optimization.opt_lbfgsb at 0x7fe3f6550890>,\n",
       " <paramz.optimization.optimization.opt_lbfgsb at 0x7fe3f6584e10>,\n",
       " <paramz.optimization.optimization.opt_lbfgsb at 0x7fe3f6566b50>]"
      ]
     },
     "execution_count": 16,
     "metadata": {},
     "output_type": "execute_result"
    }
   ],
   "source": [
    "m4.optimize_restarts(num_restarts = 10)"
   ]
  },
  {
   "cell_type": "code",
   "execution_count": 17,
   "metadata": {},
   "outputs": [],
   "source": [
    "X_test = x_test[:,0:2]"
   ]
  },
  {
   "cell_type": "code",
   "execution_count": 18,
   "metadata": {},
   "outputs": [
    {
     "data": {
      "text/plain": [
       "((1000, 1), (1000, 1))"
      ]
     },
     "execution_count": 18,
     "metadata": {},
     "output_type": "execute_result"
    }
   ],
   "source": [
    "#Xnew1 = np.vstack((xx_test,X_currin_expensive))\n",
    "mu_new, v_new = m4.predict(X_test)\n",
    "\n",
    "mu_new.shape, v_new.shape"
   ]
  },
  {
   "cell_type": "code",
   "execution_count": 21,
   "metadata": {},
   "outputs": [
    {
     "name": "stdout",
     "output_type": "stream",
     "text": [
      "{'r2': 0.9204385858676943, 'rmse': 0.6809885154507903, 'mnll': 3.2927638848412526}\n"
     ]
    }
   ],
   "source": [
    "print(calculate_metrics(y_test, mu_new, v_new)) "
   ]
  },
  {
   "cell_type": "code",
   "execution_count": null,
   "metadata": {},
   "outputs": [],
   "source": []
  }
 ],
 "metadata": {
  "kernelspec": {
   "display_name": "Python 3",
   "language": "python",
   "name": "python3"
  },
  "language_info": {
   "codemirror_mode": {
    "name": "ipython",
    "version": 3
   },
   "file_extension": ".py",
   "mimetype": "text/x-python",
   "name": "python",
   "nbconvert_exporter": "python",
   "pygments_lexer": "ipython3",
   "version": "3.7.6"
  }
 },
 "nbformat": 4,
 "nbformat_minor": 2
}
