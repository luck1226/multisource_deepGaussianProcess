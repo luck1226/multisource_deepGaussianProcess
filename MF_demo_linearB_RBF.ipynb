{
 "cells": [
  {
   "cell_type": "code",
   "execution_count": 1,
   "metadata": {},
   "outputs": [],
   "source": [
    "import numpy as np\n",
    "import matplotlib.pyplot as plt\n",
    "\n",
    "import GPy\n",
    "from GPy.kern import Kern\n",
    "from GPy import Param, Model\n",
    "from deepRBF import deepRBF\n",
    "#from MFRBF import MFRBF"
   ]
  },
  {
   "cell_type": "code",
   "execution_count": 2,
   "metadata": {},
   "outputs": [],
   "source": [
    "from MFRBF import *"
   ]
  },
  {
   "cell_type": "code",
   "execution_count": 3,
   "metadata": {},
   "outputs": [],
   "source": [
    "def rmse(predictions, targets):\n",
    "    return np.sqrt(((predictions - targets) ** 2).mean())\n",
    "\n",
    "def compute_nll(y, mf, vf):\n",
    "    y = y.reshape((y.shape[0],))\n",
    "    ll = -0.5 * np.log(2 * np.pi * vf) - 0.5 * (y - mf)**2 / vf\n",
    "    nll = -ll\n",
    "    return np.mean(nll)"
   ]
  },
  {
   "cell_type": "code",
   "execution_count": 4,
   "metadata": {},
   "outputs": [],
   "source": [
    "def predict_eff(CovMtx, Y):\n",
    "    K_ee = CovMtx[1:,1:]\n",
    "    K_e = CovMtx[0,1:]\n",
    "    K_inv = np.linalg.inv(K_ee+0.00000001*np.eye(K_ee.shape[0]))\n",
    "    pred_mu = np.matmul(np.matmul(K_e, K_inv), Y)\n",
    "    pred_v = CovMtx[0,0] - np.matmul(np.matmul(K_e, K_inv), np.matrix.transpose(K_e))\n",
    "    return pred_mu, np.sqrt(pred_v)\n"
   ]
  },
  {
   "cell_type": "code",
   "execution_count": 5,
   "metadata": {},
   "outputs": [],
   "source": [
    "def f_high(x):\n",
    "    return 5.*x**2*np.sin(12.*x)\n",
    "\n",
    "def f_low(x):\n",
    "    return f_high(x)*2+(x**3-0.5)*np.sin(3.*x-0.5)+4.*np.cos(2.*x)\n",
    "\n",
    "\n",
    "num_cheap = 10\n",
    "num_expensive = 5\n",
    "\n",
    "np.random.seed(59)\n",
    "X1 = np.random.rand(num_cheap)[:,None]\n",
    "X2 = np.linspace(0,1,num_expensive)[:,None]\n",
    "#X2 = np.random.rand(num_expensive)[:,None]\n",
    "Yc = f_low(X1)\n",
    "\n",
    "Ye = f_high(X2) + 0.00001 * np.random.normal(0,1,num_expensive)[:,None]"
   ]
  },
  {
   "cell_type": "code",
   "execution_count": 6,
   "metadata": {},
   "outputs": [
    {
     "data": {
      "application/vnd.jupyter.widget-view+json": {
       "model_id": "8d67be9e7a124721a4dcb8736c0422c6",
       "version_major": 2,
       "version_minor": 0
      },
      "text/plain": [
       "HBox(children=(VBox(children=(IntProgress(value=0, max=1000), HTML(value=''))), Box(children=(HTML(value=''),)…"
      ]
     },
     "metadata": {},
     "output_type": "display_data"
    },
    {
     "name": "stdout",
     "output_type": "stream",
     "text": [
      "Optimization restart 1/10, f = 11.364793847130326\n",
      "Optimization restart 2/10, f = 11.364791307193384\n",
      "Optimization restart 3/10, f = 11.36479208120557\n",
      "Optimization restart 4/10, f = 11.364791527339314\n",
      "Optimization restart 5/10, f = 11.364792731727567\n",
      "Optimization restart 6/10, f = 11.364791455661162\n",
      "Optimization restart 7/10, f = 11.364791372036546\n",
      "Optimization restart 8/10, f = 11.364791312315884\n",
      "Optimization restart 9/10, f = 11.364792700193625\n",
      "Optimization restart 10/10, f = 11.364806041368285\n"
     ]
    },
    {
     "data": {
      "text/plain": [
       "{'dataplot': [<matplotlib.collections.PathCollection at 0x7f85d13125d0>],\n",
       " 'gpmean': [[<matplotlib.lines.Line2D at 0x7f85d120d210>]],\n",
       " 'gpconfidence': [<matplotlib.collections.PolyCollection at 0x7f85d1312c50>]}"
      ]
     },
     "execution_count": 6,
     "metadata": {},
     "output_type": "execute_result"
    },
    {
     "data": {
      "image/png": "[encoded data removed]",
      "text/plain": [
       "<Figure size 432x288 with 1 Axes>"
      ]
     },
     "metadata": {
      "needs_background": "light"
     },
     "output_type": "display_data"
    }
   ],
   "source": [
    "K1 = GPy.kern.RBF(input_dim = 1, variance = 1, lengthscale = 0.1)\n",
    "m1 = GPy.models.GPRegression(X1, Yc, K1, noise_var = 0.0001)\n",
    "m1.optimize(messages=True)\n",
    "m1.optimize_restarts(num_restarts = 10)\n",
    "m1.plot()"
   ]
  },
  {
   "cell_type": "code",
   "execution_count": 7,
   "metadata": {},
   "outputs": [],
   "source": [
    "mu, v = m1.predict(X2, full_cov = True)\n",
    "\n",
    "deepKern = MFRBF(input_dim=1, variance = 0.8, lengthscale = 1, mu = mu, v=v)\n",
    "kRBF = GPy.kern.RBF(input_dim = 1)\n",
    "\n",
    "effKern = kRBF * deepKern"
   ]
  },
  {
   "cell_type": "code",
   "execution_count": 8,
   "metadata": {},
   "outputs": [
    {
     "data": {
      "text/plain": [
       "<paramz.optimization.optimization.opt_lbfgsb at 0x7f85cf664310>"
      ]
     },
     "execution_count": 8,
     "metadata": {},
     "output_type": "execute_result"
    }
   ],
   "source": [
    "m2 = GPy.models.GPRegression(X2, Ye, effKern)\n",
    "m2.optimize()"
   ]
  },
  {
   "cell_type": "code",
   "execution_count": 9,
   "metadata": {},
   "outputs": [
    {
     "name": "stdout",
     "output_type": "stream",
     "text": [
      "Optimization restart 1/10, f = 7.73395917074928\n",
      "Optimization restart 2/10, f = 8.136133580530531\n",
      "Optimization restart 3/10, f = 7.733943919998735\n",
      "Optimization restart 4/10, f = 7.733943979665916\n",
      "Optimization restart 5/10, f = 7.733943860155006\n",
      "Optimization restart 6/10, f = 8.469372786475088\n",
      "Optimization restart 7/10, f = 7.733956806438776\n",
      "Optimization restart 8/10, f = 7.733944070396508\n",
      "Optimization restart 9/10, f = 8.469372786523234\n",
      "Optimization restart 10/10, f = 7.733944117861449\n"
     ]
    },
    {
     "data": {
      "text/plain": [
       "[<paramz.optimization.optimization.opt_lbfgsb at 0x7f85cf664310>,\n",
       " <paramz.optimization.optimization.opt_lbfgsb at 0x7f85d143dad0>,\n",
       " <paramz.optimization.optimization.opt_lbfgsb at 0x7f85ceac38d0>,\n",
       " <paramz.optimization.optimization.opt_lbfgsb at 0x7f85d1408f90>,\n",
       " <paramz.optimization.optimization.opt_lbfgsb at 0x7f85d143d3d0>,\n",
       " <paramz.optimization.optimization.opt_lbfgsb at 0x7f85d142c750>,\n",
       " <paramz.optimization.optimization.opt_lbfgsb at 0x7f85ceac3c10>,\n",
       " <paramz.optimization.optimization.opt_lbfgsb at 0x7f85d1408850>,\n",
       " <paramz.optimization.optimization.opt_lbfgsb at 0x7f85d143d350>,\n",
       " <paramz.optimization.optimization.opt_lbfgsb at 0x7f85d143d290>,\n",
       " <paramz.optimization.optimization.opt_lbfgsb at 0x7f85d1408490>]"
      ]
     },
     "execution_count": 9,
     "metadata": {},
     "output_type": "execute_result"
    }
   ],
   "source": [
    "m2.optimize_restarts(num_restarts = 10)"
   ]
  },
  {
   "cell_type": "code",
   "execution_count": 10,
   "metadata": {},
   "outputs": [
    {
     "name": "stdout",
     "output_type": "stream",
     "text": [
      "\n",
      "Name : GP regression\n",
      "Objective : 7.733943860155006\n",
      "Number of Parameters : 5\n",
      "Number of Optimization Parameters : 5\n",
      "Updates : True\n",
      "Parameters:\n",
      "  \u001b[1mGP_regression.         \u001b[0;0m  |                   value  |  constraints  |  priors\n",
      "  \u001b[1mmul.rbf.variance       \u001b[0;0m  |      1.0421464900457411  |      +ve      |        \n",
      "  \u001b[1mmul.rbf.lengthscale    \u001b[0;0m  |      0.7175934778384594  |      +ve      |        \n",
      "  \u001b[1mmul.MFRBF.variance     \u001b[0;0m  |        2.07443417009495  |               |        \n",
      "  \u001b[1mmul.MFRBF.lengtscale   \u001b[0;0m  |       5.525047894622142  |               |        \n",
      "  \u001b[1mGaussian_noise.variance\u001b[0;0m  |  1.3038978969545536e-08  |      +ve      |        \n"
     ]
    }
   ],
   "source": [
    "print(m2)"
   ]
  },
  {
   "cell_type": "code",
   "execution_count": 11,
   "metadata": {},
   "outputs": [
    {
     "name": "stdout",
     "output_type": "stream",
     "text": [
      "1.0421464900457411\n",
      "0.7175934778384594\n",
      "2.07443417009495\n",
      "5.525047894622142\n"
     ]
    }
   ],
   "source": [
    "print(m2.kern.rbf.variance[0])\n",
    "print(m2.kern.rbf.lengthscale[0])\n",
    "print(m2.kern.MFRBF.variance[0])\n",
    "print(m2.kern.MFRBF.lengthscale[0])"
   ]
  },
  {
   "cell_type": "code",
   "execution_count": 12,
   "metadata": {},
   "outputs": [],
   "source": [
    "#s1=0.8817598540664018 \n",
    "#l1=1.0049914242449915\n",
    "#s2=0.41618880973211025\n",
    "#l2=0.740372462046252 \n",
    "\n",
    "s1 = m2.kern.rbf.variance[0]\n",
    "l1 = m2.kern.rbf.lengthscale[0]\n",
    "s2 = m2.kern.MFRBF.variance[0]\n",
    "l2 = m2.kern.MFRBF.lengthscale[0]\n",
    "\n",
    "X_test = np.linspace(-0.1,1.1,99)[:,None]\n",
    "Y_test=[]\n",
    "Y_test_up=[]\n",
    "Y_test_down=[]\n",
    "\n",
    "for xx in X_test:\n",
    "    Xnew = np.vstack((xx,X2))\n",
    "    mu1, v1 = m1.predict(Xnew, full_cov = True)\n",
    "    kernMF = MFRBF(input_dim=1,variance = s2, lengthscale = l2, mu = mu1, v=v1)\n",
    "    kernRBF = GPy.kern.RBF(input_dim = 1, variance = s1, lengthscale = l1)\n",
    "    M1 = kernMF.K(Xnew)\n",
    "    M2 = kernRBF.K(Xnew)\n",
    "    GG = np.multiply(M1, M2)\n",
    "    \n",
    "    pred_mu, pred_v = predict_eff(GG, Ye)\n",
    "    \n",
    "    Y_test.append(pred_mu)\n",
    "    Y_test_up.append(pred_mu+1.96*pred_v)\n",
    "    Y_test_down.append(pred_mu-1.96*pred_v)"
   ]
  },
  {
   "cell_type": "code",
   "execution_count": 13,
   "metadata": {},
   "outputs": [],
   "source": [
    "X_plot = np.linspace(-0.1,1.1,200)[:,None]\n",
    "f_c=f_low(X_plot)\n",
    "f_e=f_high(X_plot)"
   ]
  },
  {
   "cell_type": "code",
   "execution_count": 16,
   "metadata": {},
   "outputs": [
    {
     "data": {
      "image/png": "[encoded data removed]",
      "text/plain": [
       "<Figure size 576x288 with 1 Axes>"
      ]
     },
     "metadata": {
      "needs_background": "light"
     },
     "output_type": "display_data"
    }
   ],
   "source": [
    "fig, ax = plt.subplots(figsize=(8,4))\n",
    "plt.plot(X2,Ye,'ro')\n",
    "plt.plot(X_plot,f_e,'r-.')\n",
    "#plt.plot(X_plot,f_c,'b.')\n",
    "plt.plot(X_test,Y_test,'k-',linewidth=2)\n",
    "plt.fill_between(np.array(X_test).flatten(),np.array(Y_test_up).flatten(),np.array(Y_test_down).flatten(),facecolor='g',alpha=0.3)\n",
    "plt.grid()\n",
    "plt.show()"
   ]
  },
  {
   "cell_type": "code",
   "execution_count": 17,
   "metadata": {},
   "outputs": [],
   "source": [
    "fig.savefig('linearB.pdf', bbox_inches='tight')"
   ]
  },
  {
   "cell_type": "code",
   "execution_count": 15,
   "metadata": {},
   "outputs": [
    {
     "data": {
      "text/plain": [
       "{'dataplot': [<matplotlib.collections.PathCollection at 0x7f85d159a110>],\n",
       " 'gpmean': [[<matplotlib.lines.Line2D at 0x7f85d15d62d0>]],\n",
       " 'gpconfidence': [<matplotlib.collections.PolyCollection at 0x7f85d15d6790>]}"
      ]
     },
     "execution_count": 15,
     "metadata": {},
     "output_type": "execute_result"
    },
    {
     "data": {
      "image/png": "[encoded data removed]",
      "text/plain": [
       "<Figure size 432x288 with 1 Axes>"
      ]
     },
     "metadata": {
      "needs_background": "light"
     },
     "output_type": "display_data"
    }
   ],
   "source": [
    "d_rbf = deepRBF(input_dim=X2.shape[1])\n",
    "m3 = GPy.models.GPRegression(X2, Ye,d_rbf)\n",
    "m3.optimize()\n",
    "m3.plot()"
   ]
  },
  {
   "cell_type": "code",
   "execution_count": null,
   "metadata": {},
   "outputs": [],
   "source": []
  }
 ],
 "metadata": {
  "kernelspec": {
   "display_name": "Python 3",
   "language": "python",
   "name": "python3"
  },
  "language_info": {
   "codemirror_mode": {
    "name": "ipython",
    "version": 3
   },
   "file_extension": ".py",
   "mimetype": "text/x-python",
   "name": "python",
   "nbconvert_exporter": "python",
   "pygments_lexer": "ipython3",
   "version": "3.7.6"
  }
 },
 "nbformat": 4,
 "nbformat_minor": 2
}
