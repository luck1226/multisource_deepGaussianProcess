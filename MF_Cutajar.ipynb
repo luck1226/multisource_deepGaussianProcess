{
 "cells": [
  {
   "cell_type": "code",
   "execution_count": 2,
   "metadata": {},
   "outputs": [
    {
     "ename": "AttributeError",
     "evalue": "module 'tensorflow' has no attribute 'Session'",
     "output_type": "error",
     "traceback": [
      "\u001b[0;31m---------------------------------------------------------------------------\u001b[0m",
      "\u001b[0;31mAttributeError\u001b[0m                            Traceback (most recent call last)",
      "\u001b[0;32m<ipython-input-2-ce4aa026a510>\u001b[0m in \u001b[0;36m<module>\u001b[0;34m\u001b[0m\n\u001b[1;32m      9\u001b[0m \u001b[0;32mfrom\u001b[0m \u001b[0memukit\u001b[0m\u001b[0;34m.\u001b[0m\u001b[0mcore\u001b[0m \u001b[0;32mimport\u001b[0m \u001b[0mContinuousParameter\u001b[0m\u001b[0;34m,\u001b[0m \u001b[0mParameterSpace\u001b[0m\u001b[0;34m\u001b[0m\u001b[0;34m\u001b[0m\u001b[0m\n\u001b[1;32m     10\u001b[0m \u001b[0;32mfrom\u001b[0m \u001b[0memukit\u001b[0m\u001b[0;34m.\u001b[0m\u001b[0mcore\u001b[0m\u001b[0;34m.\u001b[0m\u001b[0minitial_designs\u001b[0m \u001b[0;32mimport\u001b[0m \u001b[0mLatinDesign\u001b[0m\u001b[0;34m\u001b[0m\u001b[0;34m\u001b[0m\u001b[0m\n\u001b[0;32m---> 11\u001b[0;31m \u001b[0;32mfrom\u001b[0m \u001b[0memukit\u001b[0m\u001b[0;34m.\u001b[0m\u001b[0mexamples\u001b[0m\u001b[0;34m.\u001b[0m\u001b[0mmulti_fidelity_dgp\u001b[0m\u001b[0;34m.\u001b[0m\u001b[0mmulti_fidelity_deep_gp\u001b[0m \u001b[0;32mimport\u001b[0m \u001b[0mMultiFidelityDeepGP\u001b[0m\u001b[0;34m\u001b[0m\u001b[0;34m\u001b[0m\u001b[0m\n\u001b[0m\u001b[1;32m     12\u001b[0m \u001b[0;34m\u001b[0m\u001b[0m\n\u001b[1;32m     13\u001b[0m from emukit.test_functions.multi_fidelity import (multi_fidelity_borehole_function, multi_fidelity_branin_function,\n",
      "\u001b[0;32m~/opt/anaconda3/lib/python3.7/site-packages/emukit/examples/multi_fidelity_dgp/multi_fidelity_deep_gp.py\u001b[0m in \u001b[0;36m<module>\u001b[0;34m\u001b[0m\n\u001b[1;32m     14\u001b[0m \u001b[0;34m\u001b[0m\u001b[0m\n\u001b[1;32m     15\u001b[0m \u001b[0;32mimport\u001b[0m \u001b[0mnumpy\u001b[0m \u001b[0;32mas\u001b[0m \u001b[0mnp\u001b[0m\u001b[0;34m\u001b[0m\u001b[0;34m\u001b[0m\u001b[0m\n\u001b[0;32m---> 16\u001b[0;31m \u001b[0;32mfrom\u001b[0m \u001b[0mgpflow\u001b[0m \u001b[0;32mimport\u001b[0m \u001b[0mParamList\u001b[0m\u001b[0;34m,\u001b[0m \u001b[0mautoflow\u001b[0m\u001b[0;34m,\u001b[0m \u001b[0mparams_as_tensors\u001b[0m\u001b[0;34m,\u001b[0m \u001b[0msettings\u001b[0m\u001b[0;34m\u001b[0m\u001b[0;34m\u001b[0m\u001b[0m\n\u001b[0m\u001b[1;32m     17\u001b[0m \u001b[0;32mfrom\u001b[0m \u001b[0mgpflow\u001b[0m\u001b[0;34m.\u001b[0m\u001b[0mactions\u001b[0m \u001b[0;32mimport\u001b[0m \u001b[0mAction\u001b[0m\u001b[0;34m,\u001b[0m \u001b[0mLoop\u001b[0m\u001b[0;34m\u001b[0m\u001b[0;34m\u001b[0m\u001b[0m\n\u001b[1;32m     18\u001b[0m \u001b[0;32mfrom\u001b[0m \u001b[0mgpflow\u001b[0m\u001b[0;34m.\u001b[0m\u001b[0mkernels\u001b[0m \u001b[0;32mimport\u001b[0m \u001b[0mRBF\u001b[0m\u001b[0;34m,\u001b[0m \u001b[0mLinear\u001b[0m\u001b[0;34m,\u001b[0m \u001b[0mWhite\u001b[0m\u001b[0;34m\u001b[0m\u001b[0;34m\u001b[0m\u001b[0m\n",
      "\u001b[0;32m~/opt/anaconda3/lib/python3.7/site-packages/gpflow/__init__.py\u001b[0m in \u001b[0;36m<module>\u001b[0;34m\u001b[0m\n\u001b[1;32m     21\u001b[0m \u001b[0;32mfrom\u001b[0m \u001b[0;34m.\u001b[0m\u001b[0m_settings\u001b[0m \u001b[0;32mimport\u001b[0m \u001b[0mSETTINGS\u001b[0m \u001b[0;32mas\u001b[0m \u001b[0msettings\u001b[0m\u001b[0;34m\u001b[0m\u001b[0;34m\u001b[0m\u001b[0m\n\u001b[1;32m     22\u001b[0m \u001b[0;34m\u001b[0m\u001b[0m\n\u001b[0;32m---> 23\u001b[0;31m \u001b[0;32mfrom\u001b[0m \u001b[0;34m.\u001b[0m\u001b[0msession_manager\u001b[0m \u001b[0;32mimport\u001b[0m \u001b[0mget_session\u001b[0m\u001b[0;34m\u001b[0m\u001b[0;34m\u001b[0m\u001b[0m\n\u001b[0m\u001b[1;32m     24\u001b[0m \u001b[0;32mfrom\u001b[0m \u001b[0;34m.\u001b[0m\u001b[0msession_manager\u001b[0m \u001b[0;32mimport\u001b[0m \u001b[0mget_default_session\u001b[0m\u001b[0;34m\u001b[0m\u001b[0;34m\u001b[0m\u001b[0m\n\u001b[1;32m     25\u001b[0m \u001b[0;32mfrom\u001b[0m \u001b[0;34m.\u001b[0m\u001b[0msession_manager\u001b[0m \u001b[0;32mimport\u001b[0m \u001b[0mreset_default_session\u001b[0m\u001b[0;34m\u001b[0m\u001b[0;34m\u001b[0m\u001b[0m\n",
      "\u001b[0;32m~/opt/anaconda3/lib/python3.7/site-packages/gpflow/session_manager.py\u001b[0m in \u001b[0;36m<module>\u001b[0;34m\u001b[0m\n\u001b[1;32m     26\u001b[0m \u001b[0;34m\u001b[0m\u001b[0m\n\u001b[1;32m     27\u001b[0m \u001b[0;34m\u001b[0m\u001b[0m\n\u001b[0;32m---> 28\u001b[0;31m \u001b[0;32mclass\u001b[0m \u001b[0mTracerSession\u001b[0m\u001b[0;34m(\u001b[0m\u001b[0mtf\u001b[0m\u001b[0;34m.\u001b[0m\u001b[0mSession\u001b[0m\u001b[0;34m)\u001b[0m\u001b[0;34m:\u001b[0m\u001b[0;34m\u001b[0m\u001b[0;34m\u001b[0m\u001b[0m\n\u001b[0m\u001b[1;32m     29\u001b[0m     def __init__(self, output_file_name=None, output_directory=None,\n\u001b[1;32m     30\u001b[0m                  each_time=None, **kwargs):\n",
      "\u001b[0;31mAttributeError\u001b[0m: module 'tensorflow' has no attribute 'Session'"
     ]
    }
   ],
   "source": [
    "from prettytable import PrettyTable\n",
    "import numpy as np\n",
    "import scipy.stats\n",
    "from sklearn.metrics import mean_squared_error, r2_score\n",
    "import emukit.examples.multi_fidelity_dgp\n",
    "\n",
    "from emukit.examples.multi_fidelity_dgp.baseline_model_wrappers import LinearAutoRegressiveModel, NonLinearAutoRegressiveModel, HighFidelityGp\n",
    "\n",
    "from emukit.core import ContinuousParameter, ParameterSpace\n",
    "from emukit.core.initial_designs import LatinDesign\n",
    "from emukit.examples.multi_fidelity_dgp.multi_fidelity_deep_gp import MultiFidelityDeepGP\n",
    "\n",
    "from emukit.test_functions.multi_fidelity import (multi_fidelity_borehole_function, multi_fidelity_branin_function,\n",
    "                                                  multi_fidelity_park_function, multi_fidelity_hartmann_3d,\n",
    "                                                  multi_fidelity_currin_function)"
   ]
  },
  {
   "cell_type": "code",
   "execution_count": 3,
   "metadata": {},
   "outputs": [],
   "source": [
    "from collections import namedtuple\n",
    "\n",
    "Function = namedtuple('Function', ['name', 'y_scale', 'noise_level', 'do_x_scaling', 'num_data', 'fcn'])\n",
    "\n",
    "borehole = Function(name='borehole', y_scale=100, noise_level=[0.05, 0.1], do_x_scaling=True, num_data=[60, 5], \n",
    "                    fcn=multi_fidelity_borehole_function)\n",
    "branin = Function(name='branin', y_scale=1, noise_level=[0., 0., 0.], do_x_scaling=False, num_data=[80, 30, 10], \n",
    "                    fcn=multi_fidelity_branin_function)\n",
    "currin = Function(name='currin', y_scale=1, noise_level=[0., 0.], do_x_scaling=False, num_data=[12, 5], \n",
    "                    fcn=multi_fidelity_currin_function)\n",
    "park = Function(name='park', y_scale=1, noise_level=[0., 0.], do_x_scaling=False, num_data=[30, 5], \n",
    "                    fcn=multi_fidelity_park_function)\n",
    "hartmann_3d = Function(name='hartmann', y_scale=100, noise_level=[0., 0., 0.], do_x_scaling=False, num_data=[80, 40, 20], \n",
    "                    fcn=multi_fidelity_hartmann_3d)"
   ]
  },
  {
   "cell_type": "code",
   "execution_count": 4,
   "metadata": {},
   "outputs": [],
   "source": [
    "# Function to repeat test across different random seeds.\n",
    "\n",
    "def do_benchmark(fcn_tuple):\n",
    "    metrics = dict()\n",
    "\n",
    "    # Some random seeds to use\n",
    "    seeds = [123, 184, 202, 289, 732]\n",
    "\n",
    "    for i, seed in enumerate(seeds):\n",
    "        run_name = str(seed) + str(fcn_tuple.num_data)\n",
    "        metrics[run_name] = test_function(fcn_tuple, seed)\n",
    "        print('After ' + str(i+1) + ' runs of ' + fcn_tuple.name)\n",
    "        print_metrics(metrics)\n",
    "\n",
    "    return metrics"
   ]
  },
  {
   "cell_type": "code",
   "execution_count": 5,
   "metadata": {},
   "outputs": [],
   "source": [
    "# Print metrics as table \n",
    "def print_metrics(metrics):\n",
    "    model_names = list(list(metrics.values())[0].keys())\n",
    "    metric_names = ['r2', 'mnll', 'rmse']\n",
    "    table = PrettyTable(['model'] + metric_names)\n",
    "\n",
    "    for name in model_names:\n",
    "        mean = []\n",
    "        for metric_name in metric_names:\n",
    "            mean.append(np.mean([metric[name][metric_name] for metric in metrics.values()]))\n",
    "        table.add_row([name] + mean)\n",
    "\n",
    "    print(table)\n"
   ]
  },
  {
   "cell_type": "code",
   "execution_count": 6,
   "metadata": {},
   "outputs": [],
   "source": [
    "def test_function(fcn, seed):\n",
    "    np.random.seed(seed)\n",
    "\n",
    "    x_test, y_test, X, Y = generate_data(fcn, 1000)\n",
    "\n",
    "    mf_dgp_fix_lf_mean = MultiFidelityDeepGP(X, Y, n_iter=5000)\n",
    "    mf_dgp_fix_lf_mean.name = 'mf_dgp_fix_lf_mean'\n",
    "\n",
    "    models = [HighFidelityGp(X, Y), LinearAutoRegressiveModel(X, Y), NonLinearAutoRegressiveModel(X, Y), mf_dgp_fix_lf_mean]\n",
    "    return benchmark_models(models, x_test, y_test)"
   ]
  },
  {
   "cell_type": "code",
   "execution_count": 7,
   "metadata": {},
   "outputs": [],
   "source": [
    "def benchmark_models(models, x_test, y_test):\n",
    "    metrics = dict()\n",
    "    for model in models:\n",
    "        model.optimize()\n",
    "        y_mean, y_var = model.predict(x_test)\n",
    "        metrics[model.name] = calculate_metrics(y_test, y_mean, y_var)\n",
    "        print('+ ######################## +')\n",
    "        print(model.name, 'r2', metrics[model.name]['r2'])\n",
    "        print('+ ######################## + ')\n",
    "    return metrics"
   ]
  },
  {
   "cell_type": "code",
   "execution_count": 8,
   "metadata": {},
   "outputs": [],
   "source": [
    "def generate_data(fcn_tuple, n_test_points):\n",
    "    \"\"\"\n",
    "    Generates train and test data for\n",
    "    \"\"\"\n",
    "    \n",
    "    # A different definition of the parameter space for the branin function was used in the paper\n",
    "    if fcn_tuple.name == 'branin':\n",
    "        fcn, space = fcn_tuple.fcn()\n",
    "        new_space = ParameterSpace([ContinuousParameter('x1', -5., 0.), ContinuousParameter('x2', 10., 15.)])\n",
    "    else:\n",
    "        fcn, space = fcn_tuple.fcn()\n",
    "        new_space = ParameterSpace(space._parameters[:-1])\n",
    "    \n",
    "    do_x_scaling = fcn_tuple.do_x_scaling\n",
    "    \n",
    "    \n",
    "    # Generate training data\n",
    "    \n",
    "    latin = LatinDesign(new_space)\n",
    "    X = [latin.get_samples(n) for n in fcn_tuple.num_data]\n",
    "    \n",
    "    # Scale X if required\n",
    "    if do_x_scaling:\n",
    "        scalings = X[0].std(axis=0)\n",
    "    else:\n",
    "        scalings = np.ones(X[0].shape[1])\n",
    "        \n",
    "    for x in X:\n",
    "        x /= scalings\n",
    "    \n",
    "    Y = []\n",
    "    for i, x in enumerate(X):\n",
    "        Y.append(fcn.f[i](x * scalings))\n",
    "    \n",
    "    y_scale = fcn_tuple.y_scale\n",
    "    \n",
    "    # scale y and add noise if required\n",
    "    noise_levels = fcn_tuple.noise_level\n",
    "    if any([n > 0 for n in noise_levels]):\n",
    "        for y, std_noise in zip(Y, noise_levels):\n",
    "            y /= y_scale + std_noise * np.random.randn(y.shape[0], 1)\n",
    "    \n",
    "    # Generate test data\n",
    "    x_test = latin.get_samples(n_test_points)\n",
    "    x_test /= scalings\n",
    "    y_test = fcn.f[-1](x_test * scalings)\n",
    "    y_test /= y_scale\n",
    "\n",
    "    i_highest_fidelity = (len(fcn_tuple.num_data) - 1) * np.ones((x_test.shape[0], 1))\n",
    "    x_test = np.concatenate([x_test, i_highest_fidelity], axis=1)\n",
    "    print(X[1].shape)\n",
    "    return x_test, y_test, X, Y"
   ]
  },
  {
   "cell_type": "code",
   "execution_count": 9,
   "metadata": {},
   "outputs": [],
   "source": [
    "def calculate_metrics(y_test, y_mean_prediction, y_var_prediction):\n",
    "    # R2\n",
    "    r2 = r2_score(y_test, y_mean_prediction)\n",
    "    # RMSE\n",
    "    rmse = np.sqrt(mean_squared_error(y_test, y_mean_prediction))\n",
    "    # Test log likelihood\n",
    "    mnll = -np.sum(scipy.stats.norm.logpdf(y_test, loc=y_mean_prediction, scale=np.sqrt(y_var_prediction)))/len(y_test)\n",
    "    return {'r2': r2, 'rmse': rmse, 'mnll': mnll}"
   ]
  },
  {
   "cell_type": "code",
   "execution_count": 10,
   "metadata": {},
   "outputs": [
    {
     "name": "stderr",
     "output_type": "stream",
     "text": [
      " /Users/luck1226/anaconda3/lib/python3.6/site-packages/emukit/test_functions/multi_fidelity/currin.py:34: RuntimeWarning:divide by zero encountered in true_divide\n"
     ]
    },
    {
     "name": "stdout",
     "output_type": "stream",
     "text": [
      "(5, 2)\n",
      "Optimization restart 1/10, f = 7.06968081801714\n",
      "Optimization restart 2/10, f = 7.06968052426023\n",
      "Optimization restart 3/10, f = 7.069687061060952\n",
      "Optimization restart 4/10, f = 7.069680483852824\n",
      "Optimization restart 5/10, f = 7.06968048182017\n",
      "Optimization restart 6/10, f = 7.069680523781146\n",
      "Optimization restart 7/10, f = 7.069680483606621\n",
      "Optimization restart 8/10, f = 7.069681680418789\n",
      "Optimization restart 9/10, f = 7.069680526114141\n",
      "Optimization restart 10/10, f = 7.069685192138575\n",
      "+ ######################## +\n",
      "hf_gp r2 0.9011811180408466\n",
      "+ ######################## + \n",
      "Optimization restart 1/10, f = 15.352114015391281\n",
      "Optimization restart 2/10, f = 15.326188049778139\n",
      "Optimization restart 3/10, f = 15.326188047773647\n",
      "Optimization restart 4/10, f = 15.352126107046747\n",
      "Optimization restart 5/10, f = 15.326188074655077\n",
      "Optimization restart 6/10, f = 15.352113990966592\n",
      "Optimization restart 7/10, f = 15.326188599421315\n",
      "Optimization restart 8/10, f = 15.326188390789717\n",
      "Optimization restart 9/10, f = 15.326188147172944\n",
      "Optimization restart 10/10, f = 20.505101998374073\n",
      "Optimization restart 1/10, f = 15.326188047469715\n",
      "Optimization restart 2/10, f = 13.303885127989343\n",
      "Optimization restart 3/10, f = 13.303885131972576\n",
      "Optimization restart 4/10, f = 13.30388512749961\n",
      "Optimization restart 5/10, f = 13.303885254993427\n",
      "Optimization restart 6/10, f = 13.3038852939267\n",
      "Optimization restart 7/10, f = 13.303885459784043\n",
      "Optimization restart 8/10, f = 13.303885214518042\n",
      "Optimization restart 9/10, f = 13.303885127510732\n",
      "Optimization restart 10/10, f = 13.30388851251913\n",
      "+ ######################## +\n",
      "ar1 r2 0.9004471300600497\n",
      "+ ######################## + \n",
      "Optimization restart 1/10, f = 16.594139624372588\n",
      "Optimization restart 2/10, f = 16.59413962376802\n",
      "Optimization restart 3/10, f = 32.50241439172619\n",
      "Optimization restart 4/10, f = 16.594139623635407\n",
      "Optimization restart 5/10, f = 16.594139623539384\n",
      "Optimization restart 6/10, f = 16.59413962353949\n",
      "Optimization restart 7/10, f = 16.594139623551403\n",
      "Optimization restart 8/10, f = 16.594139623540062\n",
      "Optimization restart 9/10, f = 16.594139623569788\n",
      "Optimization restart 10/10, f = 16.59413962361645\n",
      "Optimization restart 1/10, f = 5.231083309501989\n",
      "Optimization restart 2/10, f = 7.069680545130579\n",
      "Optimization restart 3/10, f = 5.766488257015064\n",
      "Optimization restart 4/10, f = 5.231084818628792\n",
      "Optimization restart 5/10, f = 5.23108964608483\n",
      "Optimization restart 6/10, f = 6.792236782161016\n",
      "Optimization restart 7/10, f = 7.069691728015224\n",
      "Optimization restart 8/10, f = 7.069796143750439\n",
      "Optimization restart 9/10, f = 7.069693397346917\n",
      "Optimization restart 10/10, f = 7.0696808431417315\n",
      "+ ######################## +\n",
      "nargp r2 0.9004788452100121\n",
      "+ ######################## + \n",
      "+ ######################## +\n",
      "mf_dgp_fix_lf_mean r2 0.9350517702743988\n",
      "+ ######################## + \n",
      "After 1 runs of currin\n",
      "+--------------------+--------------------+--------------------+--------------------+\n",
      "|       model        |         r2         |        mnll        |        rmse        |\n",
      "+--------------------+--------------------+--------------------+--------------------+\n",
      "|       hf_gp        | 0.9011811180408466 | 227.83031860456964 | 0.7589418628032415 |\n",
      "|        ar1         | 0.9004471300600497 | 205.9410568265224  | 0.7617552099239594 |\n",
      "|       nargp        | 0.9004788452100121 | 557.6952926868142  | 0.7616338618142969 |\n",
      "| mf_dgp_fix_lf_mean | 0.9350517702743988 | 1.040116982972915  | 0.6152791523229326 |\n",
      "+--------------------+--------------------+--------------------+--------------------+\n",
      "(5, 2)\n"
     ]
    },
    {
     "name": "stderr",
     "output_type": "stream",
     "text": [
      " /Users/luck1226/anaconda3/lib/python3.6/site-packages/emukit/test_functions/multi_fidelity/currin.py:34: RuntimeWarning:divide by zero encountered in true_divide\n"
     ]
    },
    {
     "name": "stdout",
     "output_type": "stream",
     "text": [
      "Optimization restart 1/10, f = 5.08654552345217\n",
      "Optimization restart 2/10, f = 5.086545442235973\n",
      "Optimization restart 3/10, f = 5.086545792784737\n",
      "Optimization restart 4/10, f = 5.086561510655844\n",
      "Optimization restart 5/10, f = 5.086559853054927\n",
      "Optimization restart 6/10, f = 5.086545638446346\n",
      "Optimization restart 7/10, f = 5.086546853705133\n",
      "Optimization restart 8/10, f = 6.812700792636314\n",
      "Optimization restart 9/10, f = 5.086545582505135\n",
      "Optimization restart 10/10, f = 5.086567086116215\n",
      "+ ######################## +\n",
      "hf_gp r2 0.8451932929837366\n",
      "+ ######################## + \n",
      "Optimization restart 1/10, f = 21.869991964665836\n",
      "Optimization restart 2/10, f = 21.869992921173797\n",
      "Optimization restart 3/10, f = 21.869992167204245\n",
      "Optimization restart 4/10, f = 21.869991997857667\n",
      "Optimization restart 5/10, f = 21.869992014726442\n",
      "Optimization restart 6/10, f = 21.869991927637727\n",
      "Optimization restart 7/10, f = 21.869991983884233\n",
      "Optimization restart 8/10, f = 21.86999191021931\n",
      "Optimization restart 9/10, f = 21.869992043325738\n",
      "Optimization restart 10/10, f = 21.869991923697597\n",
      "Optimization restart 1/10, f = 21.869991909890473\n",
      "Optimization restart 2/10, f = 17.647757265696363\n",
      "Optimization restart 3/10, f = 17.64775098328035\n",
      "Optimization restart 4/10, f = 17.647750986630566\n",
      "Optimization restart 5/10, f = 17.647750983257417\n",
      "Optimization restart 6/10, f = 17.64775098455234\n",
      "Optimization restart 7/10, f = 17.647750983185052\n",
      "Optimization restart 8/10, f = 17.647751051074806\n",
      "Optimization restart 9/10, f = 17.647751055754583\n",
      "Optimization restart 10/10, f = 17.647750984345713\n",
      "+ ######################## +\n",
      "ar1 r2 0.8611781827763353\n",
      "+ ######################## + \n",
      "Optimization restart 1/10, f = 22.392501675125573\n",
      "Optimization restart 2/10, f = 23.843054823054707\n",
      "Optimization restart 3/10, f = 22.39250167513302\n",
      "Optimization restart 4/10, f = 32.17562248720814\n",
      "Optimization restart 5/10, f = 22.392501675130497\n",
      "Optimization restart 6/10, f = 23.4252521566411\n",
      "Optimization restart 7/10, f = 23.425252156629696\n",
      "Optimization restart 8/10, f = 22.392501675128187\n",
      "Optimization restart 9/10, f = 22.39250167521417\n",
      "Optimization restart 10/10, f = 23.42525215664458\n"
     ]
    },
    {
     "name": "stderr",
     "output_type": "stream",
     "text": [
      " /Users/luck1226/anaconda3/lib/python3.6/site-packages/GPy/kern/src/stationary.py:243: RuntimeWarning:invalid value encountered in true_divide\n"
     ]
    },
    {
     "name": "stdout",
     "output_type": "stream",
     "text": [
      "Optimization restart 1/10, f = 3.3397353320619145\n",
      "Optimization restart 2/10, f = 2.9295861039276216\n"
     ]
    },
    {
     "name": "stderr",
     "output_type": "stream",
     "text": [
      " /Users/luck1226/anaconda3/lib/python3.6/site-packages/GPy/kern/src/rbf.py:52: RuntimeWarning:overflow encountered in square\n"
     ]
    },
    {
     "name": "stdout",
     "output_type": "stream",
     "text": [
      "Optimization restart 3/10, f = 2.868074457359783\n",
      "Optimization restart 4/10, f = 5.08654597983559\n",
      "Optimization restart 5/10, f = 5.086545920350248\n",
      "Optimization restart 6/10, f = 2.8676097135249363\n"
     ]
    },
    {
     "name": "stderr",
     "output_type": "stream",
     "text": [
      " /Users/luck1226/anaconda3/lib/python3.6/site-packages/GPy/kern/src/stationary.py:137: RuntimeWarning:overflow encountered in square\n",
      " /Users/luck1226/anaconda3/lib/python3.6/site-packages/GPy/kern/src/stationary.py:138: RuntimeWarning:invalid value encountered in add\n",
      " /Users/luck1226/anaconda3/lib/python3.6/site-packages/GPy/kern/src/stationary.py:168: RuntimeWarning:overflow encountered in true_divide\n"
     ]
    },
    {
     "name": "stdout",
     "output_type": "stream",
     "text": [
      "Optimization restart 7/10, f = 3.874652242019547\n"
     ]
    },
    {
     "name": "stderr",
     "output_type": "stream",
     "text": [
      " /Users/luck1226/anaconda3/lib/python3.6/site-packages/paramz/transformations.py:108: RuntimeWarning:invalid value encountered in greater\n",
      " /Users/luck1226/anaconda3/lib/python3.6/site-packages/paramz/transformations.py:113: RuntimeWarning:invalid value encountered in greater\n"
     ]
    },
    {
     "name": "stdout",
     "output_type": "stream",
     "text": [
      "Warning - optimization restart 8/10 failed\n",
      "Optimization restart 9/10, f = 2.9295904505330146\n",
      "Optimization restart 10/10, f = 2.8676090021301244\n",
      "+ ######################## +\n",
      "nargp r2 0.9014670146792917\n",
      "+ ######################## + \n",
      "+ ######################## +\n",
      "mf_dgp_fix_lf_mean r2 0.9198744068274834\n",
      "+ ######################## + \n",
      "After 2 runs of currin\n",
      "+--------------------+--------------------+--------------------+--------------------+\n",
      "|       model        |         r2         |        mnll        |        rmse        |\n",
      "+--------------------+--------------------+--------------------+--------------------+\n",
      "|       hf_gp        | 0.8731872055122916 | 143.59634320730433 | 0.8545883294908618 |\n",
      "|        ar1         | 0.8808126564181925 | 145.3790886805661  | 0.8307972021729757 |\n",
      "|       nargp        | 0.9009729299446518 | 317.62985761618677 | 0.7598672513959941 |\n",
      "| mf_dgp_fix_lf_mean | 0.9274630885509412 | 0.9584918149038268 | 0.6494550163822708 |\n",
      "+--------------------+--------------------+--------------------+--------------------+\n",
      "(5, 2)\n"
     ]
    },
    {
     "name": "stderr",
     "output_type": "stream",
     "text": [
      " /Users/luck1226/anaconda3/lib/python3.6/site-packages/emukit/test_functions/multi_fidelity/currin.py:34: RuntimeWarning:divide by zero encountered in true_divide\n"
     ]
    },
    {
     "name": "stdout",
     "output_type": "stream",
     "text": [
      "Optimization restart 1/10, f = 9.49401227550679\n",
      "Optimization restart 2/10, f = 8.71948305887514\n",
      "Optimization restart 3/10, f = 8.719494995877758\n",
      "Optimization restart 4/10, f = 8.719483000671508\n",
      "Optimization restart 5/10, f = 8.719482929592289\n",
      "Optimization restart 6/10, f = 8.71948293201519\n",
      "Optimization restart 7/10, f = 8.719483047726897\n",
      "Optimization restart 8/10, f = 8.719483225796278\n",
      "Optimization restart 9/10, f = 8.71948294213508\n",
      "Optimization restart 10/10, f = 8.719482916762832\n",
      "+ ######################## +\n",
      "hf_gp r2 0.8744404940641421\n",
      "+ ######################## + \n",
      "Optimization restart 1/10, f = 16.04577555439677\n",
      "Optimization restart 2/10, f = 16.045774821635423\n",
      "Optimization restart 3/10, f = 16.04577593194273\n",
      "Optimization restart 4/10, f = 16.04578021386359\n",
      "Optimization restart 5/10, f = 16.04577503228662\n",
      "Optimization restart 6/10, f = 16.04577702860745\n",
      "Optimization restart 7/10, f = 16.045775721343546\n",
      "Optimization restart 8/10, f = 16.04577499745153\n",
      "Optimization restart 9/10, f = 16.045774826588122\n",
      "Optimization restart 10/10, f = 16.04577569701742\n",
      "Optimization restart 1/10, f = 16.045774789262047\n"
     ]
    },
    {
     "name": "stderr",
     "output_type": "stream",
     "text": [
      " /Users/luck1226/anaconda3/lib/python3.6/site-packages/paramz/transformations.py:111: RuntimeWarning:overflow encountered in expm1\n"
     ]
    },
    {
     "name": "stdout",
     "output_type": "stream",
     "text": [
      "Optimization restart 2/10, f = 23.22743008036113\n",
      "Optimization restart 3/10, f = 23.227429898153975\n",
      "Optimization restart 4/10, f = 23.22742989002616\n",
      "Optimization restart 5/10, f = 23.22742991556616\n",
      "Optimization restart 6/10, f = 23.227430587843223\n",
      "Optimization restart 7/10, f = 23.227429949244573\n",
      "Optimization restart 8/10, f = 41.222125480019834\n",
      "Optimization restart 9/10, f = 23.227429869001945\n",
      "Optimization restart 10/10, f = 23.227429955759483\n",
      "+ ######################## +\n",
      "ar1 r2 0.9799454375842065\n",
      "+ ######################## + \n",
      "Optimization restart 1/10, f = 20.326652568327653\n",
      "Optimization restart 2/10, f = 20.32665256969644\n",
      "Optimization restart 3/10, f = 20.326652568325606\n",
      "Optimization restart 4/10, f = 20.32665262159675\n",
      "Optimization restart 5/10, f = 20.326652568336\n",
      "Optimization restart 6/10, f = 20.326652569398245\n",
      "Optimization restart 7/10, f = 20.32665256838129\n",
      "Optimization restart 8/10, f = 20.326652568426866\n",
      "Optimization restart 9/10, f = 20.32665256921201\n",
      "Optimization restart 10/10, f = 20.326652568731326\n",
      "Optimization restart 1/10, f = 0.3573454377036427\n",
      "Optimization restart 2/10, f = 0.35734507051247455\n"
     ]
    },
    {
     "name": "stderr",
     "output_type": "stream",
     "text": [
      " /Users/luck1226/anaconda3/lib/python3.6/site-packages/GPy/kern/src/stationary.py:243: RuntimeWarning:invalid value encountered in true_divide\n"
     ]
    },
    {
     "name": "stdout",
     "output_type": "stream",
     "text": [
      "Optimization restart 3/10, f = 0.35734871837791005\n",
      "Optimization restart 4/10, f = 0.35734574588392576\n",
      "Optimization restart 5/10, f = 0.3573457897628183\n"
     ]
    },
    {
     "name": "stderr",
     "output_type": "stream",
     "text": [
      " /Users/luck1226/anaconda3/lib/python3.6/site-packages/GPy/kern/src/stationary.py:137: RuntimeWarning:overflow encountered in square\n",
      " /Users/luck1226/anaconda3/lib/python3.6/site-packages/GPy/kern/src/stationary.py:138: RuntimeWarning:invalid value encountered in add\n"
     ]
    },
    {
     "name": "stdout",
     "output_type": "stream",
     "text": [
      "Optimization restart 6/10, f = 2.6626701180190793\n",
      "Optimization restart 7/10, f = 0.3573463096944396\n",
      "Optimization restart 8/10, f = 0.3573520956619989\n",
      "Optimization restart 9/10, f = 0.35734565698023424\n",
      "Optimization restart 10/10, f = 0.3573483545887779\n",
      "+ ######################## +\n",
      "nargp r2 0.9647837420886455\n",
      "+ ######################## + \n",
      "+ ######################## +\n",
      "mf_dgp_fix_lf_mean r2 0.9721231920039944\n",
      "+ ######################## + \n",
      "After 3 runs of currin\n",
      "+--------------------+--------------------+--------------------+--------------------+\n",
      "|       model        |         r2         |        mnll        |        rmse        |\n",
      "+--------------------+--------------------+--------------------+--------------------+\n",
      "|       hf_gp        | 0.8736049683629084 | 96.31003686260387  | 0.8538386084171142 |\n",
      "|        ar1         | 0.9138569168068639 | 98.20591851256175  | 0.667411101393567  |\n",
      "|       nargp        | 0.9222432006593163 | 213.67559741816078 | 0.6570440354980621 |\n",
      "| mf_dgp_fix_lf_mean | 0.9423497897019589 | 0.7336486002949926 | 0.5668414443214859 |\n",
      "+--------------------+--------------------+--------------------+--------------------+\n",
      "(5, 2)\n"
     ]
    },
    {
     "name": "stderr",
     "output_type": "stream",
     "text": [
      " /Users/luck1226/anaconda3/lib/python3.6/site-packages/emukit/test_functions/multi_fidelity/currin.py:34: RuntimeWarning:divide by zero encountered in true_divide\n"
     ]
    },
    {
     "name": "stdout",
     "output_type": "stream",
     "text": [
      "Optimization restart 1/10, f = 7.069680817946232\n",
      "Optimization restart 2/10, f = 7.069680510549437\n",
      "Optimization restart 3/10, f = 7.069680495284549\n",
      "Optimization restart 4/10, f = 7.06968059369167\n",
      "Optimization restart 5/10, f = 7.069680483328575\n",
      "Optimization restart 6/10, f = 7.06968048269385\n",
      "Optimization restart 7/10, f = 7.069699715624772\n",
      "Optimization restart 8/10, f = 7.0696804818139665\n"
     ]
    },
    {
     "name": "stderr",
     "output_type": "stream",
     "text": [
      " /Users/luck1226/anaconda3/lib/python3.6/site-packages/GPy/kern/src/stationary.py:137: RuntimeWarning:overflow encountered in square\n",
      " /Users/luck1226/anaconda3/lib/python3.6/site-packages/GPy/kern/src/stationary.py:138: RuntimeWarning:invalid value encountered in add\n"
     ]
    },
    {
     "name": "stdout",
     "output_type": "stream",
     "text": [
      "Optimization restart 9/10, f = 8.141173015256596\n",
      "Optimization restart 10/10, f = 7.069680481977157\n",
      "+ ######################## +\n",
      "hf_gp r2 0.8925925058169994\n",
      "+ ######################## + \n",
      "Optimization restart 1/10, f = 10.924513199070482\n",
      "Optimization restart 2/10, f = 10.924528722701229\n",
      "Optimization restart 3/10, f = 10.924554796000896\n",
      "Optimization restart 4/10, f = 10.924517530446192\n",
      "Optimization restart 5/10, f = 10.924513285443199\n"
     ]
    },
    {
     "name": "stderr",
     "output_type": "stream",
     "text": [
      " /Users/luck1226/anaconda3/lib/python3.6/site-packages/GPy/kern/src/stationary.py:144: RuntimeWarning:overflow encountered in square\n",
      " /Users/luck1226/anaconda3/lib/python3.6/site-packages/GPy/kern/src/stationary.py:145: RuntimeWarning:overflow encountered in square\n",
      " /Users/luck1226/anaconda3/lib/python3.6/site-packages/GPy/kern/src/stationary.py:146: RuntimeWarning:invalid value encountered in add\n"
     ]
    },
    {
     "name": "stdout",
     "output_type": "stream",
     "text": [
      "Optimization restart 6/10, f = 14.069592647769966\n",
      "Optimization restart 7/10, f = 10.924513145923527\n",
      "Optimization restart 8/10, f = 10.924515238333651\n",
      "Optimization restart 9/10, f = 16.344891360408706\n",
      "Optimization restart 10/10, f = 10.924513681420105\n",
      "Optimization restart 1/10, f = 10.924513145906065\n",
      "Optimization restart 2/10, f = 11.671510541734964\n",
      "Optimization restart 3/10, f = 11.671510530593975\n",
      "Optimization restart 4/10, f = 11.671510523803857\n",
      "Optimization restart 5/10, f = 17.20014723815433\n",
      "Optimization restart 6/10, f = 11.671605366686117\n",
      "Optimization restart 7/10, f = 11.671510515652592\n",
      "Optimization restart 8/10, f = 17.200149232501985\n",
      "Optimization restart 9/10, f = 11.671510607362348\n",
      "Optimization restart 10/10, f = 17.210298320536268\n",
      "+ ######################## +\n",
      "ar1 r2 0.9145406773598186\n",
      "+ ######################## + \n",
      "Optimization restart 1/10, f = 19.123744583102102\n",
      "Optimization restart 2/10, f = 19.59534119165909\n",
      "Optimization restart 3/10, f = 19.595341191649947\n",
      "Optimization restart 4/10, f = 19.123744579711765\n",
      "Optimization restart 5/10, f = 19.123744579809326\n",
      "Optimization restart 6/10, f = 19.595341191657855\n",
      "Optimization restart 7/10, f = 19.123744582610023\n",
      "Optimization restart 8/10, f = 19.123744579709182\n",
      "Optimization restart 9/10, f = 19.123744579719506\n",
      "Optimization restart 10/10, f = 19.12374458103449\n",
      "Optimization restart 1/10, f = 4.913018447938573\n",
      "Optimization restart 2/10, f = 7.0696804994027715\n",
      "Optimization restart 3/10, f = 4.913020419861018\n",
      "Optimization restart 4/10, f = 7.069680544383487\n",
      "Optimization restart 5/10, f = 4.913022367188294\n",
      "Optimization restart 6/10, f = 4.913050784506396\n",
      "Optimization restart 7/10, f = 7.069680518741297\n",
      "Optimization restart 8/10, f = 4.913022835028881\n",
      "Optimization restart 9/10, f = 4.913021064908527\n",
      "Optimization restart 10/10, f = 7.069681169675759\n",
      "+ ######################## +\n",
      "nargp r2 0.9396858779777693\n",
      "+ ######################## + \n",
      "+ ######################## +\n",
      "mf_dgp_fix_lf_mean r2 0.9381224636534956\n",
      "+ ######################## + \n",
      "After 4 runs of currin\n",
      "+--------------------+--------------------+--------------------+--------------------+\n",
      "|       model        |         r2         |        mnll        |        rmse        |\n",
      "+--------------------+--------------------+--------------------+--------------------+\n",
      "|       hf_gp        | 0.8783518527264311 | 135.5553830191701  | 0.836968228194245  |\n",
      "|        ar1         | 0.9140278569451026 | 77.34034726809168  | 0.6759149779883865 |\n",
      "|       nargp        | 0.9266038699889296 | 160.49005971230028 | 0.6400997419602547 |\n",
      "| mf_dgp_fix_lf_mean | 0.941292958189843  | 0.7677390026772404 | 0.5743448963710772 |\n",
      "+--------------------+--------------------+--------------------+--------------------+\n",
      "(5, 2)\n"
     ]
    },
    {
     "name": "stderr",
     "output_type": "stream",
     "text": [
      " /Users/luck1226/anaconda3/lib/python3.6/site-packages/emukit/test_functions/multi_fidelity/currin.py:34: RuntimeWarning:divide by zero encountered in true_divide\n"
     ]
    },
    {
     "name": "stdout",
     "output_type": "stream",
     "text": [
      "Optimization restart 1/10, f = 7.894362742979933\n",
      "Optimization restart 2/10, f = 7.894362729442359\n",
      "Optimization restart 3/10, f = 7.894362732344894\n",
      "Optimization restart 4/10, f = 7.894362732770479\n",
      "Optimization restart 5/10, f = 8.622405556093247\n",
      "Optimization restart 6/10, f = 8.622406148563025\n",
      "Optimization restart 7/10, f = 7.89436272901888\n",
      "Optimization restart 8/10, f = 7.894363654454283\n",
      "Optimization restart 9/10, f = 7.894362770557603\n",
      "Optimization restart 10/10, f = 8.622405696049878\n",
      "+ ######################## +\n",
      "hf_gp r2 0.8321258084223342\n",
      "+ ######################## + \n",
      "Optimization restart 1/10, f = 16.23198062711704\n",
      "Optimization restart 2/10, f = 16.231980639344165\n",
      "Optimization restart 3/10, f = 16.231980609802317\n",
      "Optimization restart 4/10, f = 16.23198089375596\n",
      "Optimization restart 5/10, f = 16.23198060571438\n",
      "Optimization restart 6/10, f = 16.231980782976677\n",
      "Optimization restart 7/10, f = 16.231981416997968\n",
      "Optimization restart 8/10, f = 16.23198086049066\n",
      "Optimization restart 9/10, f = 20.683629627777066\n",
      "Optimization restart 10/10, f = 16.231980634001886\n",
      "Optimization restart 1/10, f = 16.231980605712508\n",
      "Optimization restart 2/10, f = 16.864969555643402\n",
      "Optimization restart 3/10, f = 16.065906496225303\n",
      "Optimization restart 4/10, f = 16.86532098666102\n",
      "Optimization restart 5/10, f = 16.065906533632315\n",
      "Optimization restart 6/10, f = 16.86496633727331\n",
      "Optimization restart 7/10, f = 16.065906619445208\n",
      "Optimization restart 8/10, f = 16.065906640871106\n",
      "Optimization restart 9/10, f = 16.864961801433694\n",
      "Optimization restart 10/10, f = 16.065906472495456\n",
      "+ ######################## +\n",
      "ar1 r2 0.949007529353583\n",
      "+ ######################## + \n",
      "Optimization restart 1/10, f = 14.899979886196835\n",
      "Optimization restart 2/10, f = 19.219838560285982\n",
      "Optimization restart 3/10, f = 14.89997988893455\n",
      "Optimization restart 4/10, f = 14.899979886207188\n",
      "Optimization restart 5/10, f = 19.219838560207656\n",
      "Optimization restart 6/10, f = 19.219838560210537\n",
      "Optimization restart 7/10, f = 14.899979886196848\n",
      "Optimization restart 8/10, f = 14.899979886199183\n",
      "Optimization restart 9/10, f = 14.899979886207232\n",
      "Optimization restart 10/10, f = 19.219838561136715\n",
      "Optimization restart 1/10, f = 7.397702019073163\n",
      "Optimization restart 2/10, f = 8.058181042240502\n",
      "Optimization restart 3/10, f = 8.058186199469699\n",
      "Optimization restart 4/10, f = 7.3976992199997955\n",
      "Optimization restart 5/10, f = 7.894362769385716\n",
      "Optimization restart 6/10, f = 7.894362819563564\n",
      "Optimization restart 7/10, f = 7.3977017471967255\n",
      "Optimization restart 8/10, f = 7.894363088630813\n",
      "Optimization restart 9/10, f = 7.894362936349605\n",
      "Optimization restart 10/10, f = 7.397699812235636\n",
      "+ ######################## +\n",
      "nargp r2 0.800042494769371\n",
      "+ ######################## + \n",
      "+ ######################## +\n",
      "mf_dgp_fix_lf_mean r2 0.9362106498052287\n",
      "+ ######################## + \n",
      "After 5 runs of currin\n",
      "+--------------------+--------------------+--------------------+--------------------+\n",
      "|       model        |         r2         |        mnll        |        rmse        |\n",
      "+--------------------+--------------------+--------------------+--------------------+\n",
      "|       hf_gp        | 0.8691066438656116 | 112.27951152390224 | 0.868022593032493  |\n",
      "|        ar1         | 0.9210237914267987 | 62.24488424421759  | 0.6501043993452501 |\n",
      "|       nargp        | 0.9012915949450179 | 133.48490040867586 | 0.7286624304728495 |\n",
      "| mf_dgp_fix_lf_mean | 0.9402764965129201 | 0.7985851730968571 | 0.5818047609601489 |\n",
      "+--------------------+--------------------+--------------------+--------------------+\n"
     ]
    }
   ],
   "source": [
    "metrics = []\n",
    "metrics.append(do_benchmark(currin))"
   ]
  },
  {
   "cell_type": "code",
   "execution_count": 11,
   "metadata": {},
   "outputs": [
    {
     "name": "stdout",
     "output_type": "stream",
     "text": [
      "Function(name='currin', y_scale=1, noise_level=[0.0, 0.0], do_x_scaling=False, num_data=[12, 5], fcn=<function multi_fidelity_currin_function at 0x1a27f09730>)\n"
     ]
    }
   ],
   "source": [
    "print(currin)"
   ]
  },
  {
   "cell_type": "code",
   "execution_count": 12,
   "metadata": {},
   "outputs": [
    {
     "name": "stdout",
     "output_type": "stream",
     "text": [
      "(5, 2)\n"
     ]
    },
    {
     "name": "stderr",
     "output_type": "stream",
     "text": [
      " /Users/luck1226/anaconda3/lib/python3.6/site-packages/emukit/test_functions/multi_fidelity/currin.py:34: RuntimeWarning:divide by zero encountered in true_divide\n"
     ]
    }
   ],
   "source": [
    "x_test, y_test, X, Y = generate_data(currin, 1000)"
   ]
  },
  {
   "cell_type": "code",
   "execution_count": 14,
   "metadata": {},
   "outputs": [
    {
     "name": "stdout",
     "output_type": "stream",
     "text": [
      "(1000, 3)\n"
     ]
    }
   ],
   "source": [
    "print(x_test.shape)"
   ]
  },
  {
   "cell_type": "code",
   "execution_count": 16,
   "metadata": {},
   "outputs": [
    {
     "name": "stdout",
     "output_type": "stream",
     "text": [
      "[[0.0305 0.6205 1.    ]\n",
      " [0.1615 0.2875 1.    ]\n",
      " [0.4575 0.2825 1.    ]\n",
      " [0.2885 0.0685 1.    ]\n",
      " [0.5575 0.1235 1.    ]\n",
      " [0.8125 0.3515 1.    ]\n",
      " [0.5995 0.3965 1.    ]\n",
      " [0.6495 0.9105 1.    ]\n",
      " [0.2785 0.9625 1.    ]\n",
      " [0.1605 0.9115 1.    ]]\n"
     ]
    }
   ],
   "source": [
    "print(x_test[0:10,:])"
   ]
  },
  {
   "cell_type": "code",
   "execution_count": 17,
   "metadata": {},
   "outputs": [
    {
     "name": "stdout",
     "output_type": "stream",
     "text": [
      "[[-1.72591764]\n",
      " [-1.35428002]\n",
      " [-1.0470661 ]\n",
      " [ 0.99090367]\n",
      " [ 0.80174738]\n",
      " [-1.51665816]\n",
      " [-2.15813191]\n",
      " [-5.30826605]\n",
      " [-7.04867022]\n",
      " [-6.73357387]]\n"
     ]
    }
   ],
   "source": [
    "print(y_test[0:10,:])"
   ]
  },
  {
   "cell_type": "code",
   "execution_count": 18,
   "metadata": {},
   "outputs": [
    {
     "name": "stdout",
     "output_type": "stream",
     "text": [
      "[array([[0.45833333, 0.625     ],\n",
      "       [0.79166667, 0.375     ],\n",
      "       [0.29166667, 0.54166667],\n",
      "       [0.70833333, 0.45833333],\n",
      "       [0.625     , 0.04166667],\n",
      "       [0.54166667, 0.875     ],\n",
      "       [0.04166667, 0.79166667],\n",
      "       [0.95833333, 0.95833333],\n",
      "       [0.875     , 0.29166667],\n",
      "       [0.125     , 0.20833333],\n",
      "       [0.20833333, 0.125     ],\n",
      "       [0.375     , 0.70833333]]), array([[0.5, 0.3],\n",
      "       [0.3, 0.5],\n",
      "       [0.9, 0.1],\n",
      "       [0.7, 0.7],\n",
      "       [0.1, 0.9]])]\n"
     ]
    }
   ],
   "source": [
    "print(X)"
   ]
  },
  {
   "cell_type": "code",
   "execution_count": 19,
   "metadata": {},
   "outputs": [
    {
     "name": "stdout",
     "output_type": "stream",
     "text": [
      "[array([[-4.39111854],\n",
      "       [-1.74499711],\n",
      "       [-4.29021362],\n",
      "       [-2.5822867 ],\n",
      "       [ 0.97637588],\n",
      "       [-5.47280595],\n",
      "       [-2.46902707],\n",
      "       [-5.06144864],\n",
      "       [-0.84833044],\n",
      "       [-0.09593117],\n",
      "       [ 0.60358032],\n",
      "       [-5.26025699]]), array([[-1.21262736],\n",
      "       [-3.91591584],\n",
      "       [ 0.93069252],\n",
      "       [-4.25726583],\n",
      "       [-5.53628897]])]\n"
     ]
    }
   ],
   "source": [
    "print(Y)"
   ]
  },
  {
   "cell_type": "code",
   "execution_count": 21,
   "metadata": {},
   "outputs": [
    {
     "data": {
      "text/plain": [
       "array([[0.45833333, 0.625     ],\n",
       "       [0.79166667, 0.375     ],\n",
       "       [0.29166667, 0.54166667],\n",
       "       [0.70833333, 0.45833333],\n",
       "       [0.625     , 0.04166667],\n",
       "       [0.54166667, 0.875     ],\n",
       "       [0.04166667, 0.79166667],\n",
       "       [0.95833333, 0.95833333],\n",
       "       [0.875     , 0.29166667],\n",
       "       [0.125     , 0.20833333],\n",
       "       [0.20833333, 0.125     ],\n",
       "       [0.375     , 0.70833333]])"
      ]
     },
     "execution_count": 21,
     "metadata": {},
     "output_type": "execute_result"
    }
   ],
   "source": [
    "X[0]"
   ]
  },
  {
   "cell_type": "code",
   "execution_count": 22,
   "metadata": {},
   "outputs": [
    {
     "data": {
      "text/plain": [
       "array([[0.5, 0.3],\n",
       "       [0.3, 0.5],\n",
       "       [0.9, 0.1],\n",
       "       [0.7, 0.7],\n",
       "       [0.1, 0.9]])"
      ]
     },
     "execution_count": 22,
     "metadata": {},
     "output_type": "execute_result"
    }
   ],
   "source": [
    "X[1]"
   ]
  },
  {
   "cell_type": "code",
   "execution_count": 23,
   "metadata": {},
   "outputs": [
    {
     "data": {
      "text/plain": [
       "array([[-4.39111854],\n",
       "       [-1.74499711],\n",
       "       [-4.29021362],\n",
       "       [-2.5822867 ],\n",
       "       [ 0.97637588],\n",
       "       [-5.47280595],\n",
       "       [-2.46902707],\n",
       "       [-5.06144864],\n",
       "       [-0.84833044],\n",
       "       [-0.09593117],\n",
       "       [ 0.60358032],\n",
       "       [-5.26025699]])"
      ]
     },
     "execution_count": 23,
     "metadata": {},
     "output_type": "execute_result"
    }
   ],
   "source": [
    "Y[0]"
   ]
  },
  {
   "cell_type": "code",
   "execution_count": 24,
   "metadata": {},
   "outputs": [
    {
     "data": {
      "text/plain": [
       "array([[-1.21262736],\n",
       "       [-3.91591584],\n",
       "       [ 0.93069252],\n",
       "       [-4.25726583],\n",
       "       [-5.53628897]])"
      ]
     },
     "execution_count": 24,
     "metadata": {},
     "output_type": "execute_result"
    }
   ],
   "source": [
    "Y[1]"
   ]
  },
  {
   "cell_type": "code",
   "execution_count": 25,
   "metadata": {},
   "outputs": [],
   "source": [
    "mf_dgp_fix_lf_mean = MultiFidelityDeepGP(X, Y, n_iter=5000)"
   ]
  },
  {
   "cell_type": "code",
   "execution_count": 26,
   "metadata": {},
   "outputs": [
    {
     "name": "stdout",
     "output_type": "stream",
     "text": [
      "<emukit.examples.multi_fidelity_dgp.multi_fidelity_deep_gp.MultiFidelityDeepGP object at 0x1a55104518>\n"
     ]
    }
   ],
   "source": [
    "print(mf_dgp_fix_lf_mean)"
   ]
  },
  {
   "cell_type": "code",
   "execution_count": 27,
   "metadata": {},
   "outputs": [],
   "source": [
    "mf_dgp_fix_lf_mean.optimize()"
   ]
  },
  {
   "cell_type": "code",
   "execution_count": 29,
   "metadata": {},
   "outputs": [],
   "source": [
    "y_mean, y_var = mf_dgp_fix_lf_mean.predict(x_test)"
   ]
  },
  {
   "cell_type": "code",
   "execution_count": 30,
   "metadata": {},
   "outputs": [
    {
     "name": "stdout",
     "output_type": "stream",
     "text": [
      "{'r2': 0.9567990219310986, 'rmse': 0.5022412321273413, 'mnll': 0.9421634971202957}\n"
     ]
    }
   ],
   "source": [
    "print(calculate_metrics(y_test, y_mean, y_var))"
   ]
  },
  {
   "cell_type": "code",
   "execution_count": 32,
   "metadata": {},
   "outputs": [
    {
     "data": {
      "image/png": "[encoded data removed]",
      "text/plain": [
       "<Figure size 432x288 with 1 Axes>"
      ]
     },
     "metadata": {},
     "output_type": "display_data"
    }
   ],
   "source": [
    "import matplotlib.pyplot as plt\n",
    "\n",
    "plt.scatter(y_mean,y_test)\n",
    "plt.plot([0, 1], [0, 1], '--k', transform=plt.gca().transAxes)\n",
    "#plt.xlim([0,55])\n",
    "#plt.ylim([0,55])\n",
    "plt.show()"
   ]
  },
  {
   "cell_type": "code",
   "execution_count": 33,
   "metadata": {},
   "outputs": [],
   "source": [
    "from MFRBF import MFRBF"
   ]
  },
  {
   "cell_type": "code",
   "execution_count": 34,
   "metadata": {},
   "outputs": [],
   "source": [
    "X_currin_cheap = X[0]\n",
    "X_currin_expensive = X[1]"
   ]
  },
  {
   "cell_type": "code",
   "execution_count": 35,
   "metadata": {},
   "outputs": [],
   "source": [
    "y_currin_cheap = Y[0]\n",
    "y_currin_expensive = Y[1]"
   ]
  },
  {
   "cell_type": "code",
   "execution_count": 36,
   "metadata": {},
   "outputs": [
    {
     "data": {
      "text/plain": [
       "(12, 2)"
      ]
     },
     "execution_count": 36,
     "metadata": {},
     "output_type": "execute_result"
    }
   ],
   "source": [
    "X_currin_cheap.shape"
   ]
  },
  {
   "cell_type": "code",
   "execution_count": 37,
   "metadata": {},
   "outputs": [
    {
     "data": {
      "text/plain": [
       "(5, 2)"
      ]
     },
     "execution_count": 37,
     "metadata": {},
     "output_type": "execute_result"
    }
   ],
   "source": [
    "X_currin_expensive.shape"
   ]
  },
  {
   "cell_type": "code",
   "execution_count": 38,
   "metadata": {},
   "outputs": [
    {
     "data": {
      "text/plain": [
       "(12, 1)"
      ]
     },
     "execution_count": 38,
     "metadata": {},
     "output_type": "execute_result"
    }
   ],
   "source": [
    "y_currin_cheap.shape"
   ]
  },
  {
   "cell_type": "code",
   "execution_count": 39,
   "metadata": {},
   "outputs": [
    {
     "data": {
      "text/plain": [
       "(5, 1)"
      ]
     },
     "execution_count": 39,
     "metadata": {},
     "output_type": "execute_result"
    }
   ],
   "source": [
    "y_currin_expensive.shape"
   ]
  },
  {
   "cell_type": "code",
   "execution_count": 42,
   "metadata": {},
   "outputs": [
    {
     "data": {
      "text/plain": [
       "<paramz.optimization.optimization.opt_lbfgsb at 0x1a5b4c83c8>"
      ]
     },
     "execution_count": 42,
     "metadata": {},
     "output_type": "execute_result"
    }
   ],
   "source": [
    "import GPy\n",
    "from GPy.kern import Kern\n",
    "from GPy import Param, Model\n",
    "\n",
    "m4 = GPy.models.GPRegression(X_currin_cheap, y_currin_cheap)\n",
    "m4.optimize()"
   ]
  },
  {
   "cell_type": "code",
   "execution_count": 43,
   "metadata": {},
   "outputs": [
    {
     "name": "stdout",
     "output_type": "stream",
     "text": [
      "\n",
      "Name : GP regression\n",
      "Objective : 17.81724633476272\n",
      "Number of Parameters : 3\n",
      "Number of Optimization Parameters : 3\n",
      "Updates : True\n",
      "Parameters:\n",
      "  \u001b[1mGP_regression.         \u001b[0;0m  |                value  |  constraints  |  priors\n",
      "  \u001b[1mrbf.variance           \u001b[0;0m  |    9.124108457563176  |      +ve      |        \n",
      "  \u001b[1mrbf.lengthscale        \u001b[0;0m  |   0.5058353079318674  |      +ve      |        \n",
      "  \u001b[1mGaussian_noise.variance\u001b[0;0m  |  0.07381134990551635  |      +ve      |        \n"
     ]
    }
   ],
   "source": [
    "print(m4)"
   ]
  },
  {
   "cell_type": "code",
   "execution_count": 44,
   "metadata": {},
   "outputs": [
    {
     "name": "stderr",
     "output_type": "stream",
     "text": [
      " /Users/luck1226/anaconda3/lib/python3.6/site-packages/GPy/plotting/matplot_dep/plot_definitions.py:184: UserWarning:The following kwargs were not used by contour: 'label', 'linewidth'\n"
     ]
    },
    {
     "data": {
      "text/plain": [
       "{'dataplot': [<matplotlib.collections.PathCollection at 0x1a5247eb38>],\n",
       " 'gpmean': [<matplotlib.contour.QuadContourSet at 0x1a498ec630>]}"
      ]
     },
     "execution_count": 44,
     "metadata": {},
     "output_type": "execute_result"
    },
    {
     "data": {
      "image/png": "[encoded data removed]",
      "text/plain": [
       "<Figure size 432x288 with 1 Axes>"
      ]
     },
     "metadata": {},
     "output_type": "display_data"
    }
   ],
   "source": [
    "m4.plot()"
   ]
  },
  {
   "cell_type": "code",
   "execution_count": 45,
   "metadata": {},
   "outputs": [],
   "source": [
    "mu_currin, v_currin = m4.predict(X_currin_expensive, full_cov = True)"
   ]
  },
  {
   "cell_type": "code",
   "execution_count": 46,
   "metadata": {},
   "outputs": [],
   "source": [
    "kern_currin = MFRBF(input_dim=X_currin_expensive.shape[1], variance = 10, lengthscale = 1, mu = mu_currin, v=v_currin)\n",
    "#k_currin_1 = deepKern.K(X_currin_expensive)\n",
    "\n",
    "k_currin_rbf = GPy.kern.RBF(input_dim = X_currin_expensive.shape[1])\n",
    "\n",
    "k_currin = kern_currin * k_currin_rbf\n",
    "\n",
    "m_currin = GPy.models.GPRegression(X_currin_expensive, y_currin_expensive, k_currin)"
   ]
  },
  {
   "cell_type": "code",
   "execution_count": 47,
   "metadata": {},
   "outputs": [
    {
     "data": {
      "text/plain": [
       "<paramz.optimization.optimization.opt_lbfgsb at 0x1a56bf6cc0>"
      ]
     },
     "execution_count": 47,
     "metadata": {},
     "output_type": "execute_result"
    }
   ],
   "source": [
    "m_currin.optimize()"
   ]
  },
  {
   "cell_type": "code",
   "execution_count": 48,
   "metadata": {},
   "outputs": [
    {
     "name": "stdout",
     "output_type": "stream",
     "text": [
      "\n",
      "Name : GP regression\n",
      "Objective : 9.586729616000518\n",
      "Number of Parameters : 5\n",
      "Number of Optimization Parameters : 5\n",
      "Updates : True\n",
      "Parameters:\n",
      "  \u001b[1mGP_regression.         \u001b[0;0m  |                 value  |  constraints  |  priors\n",
      "  \u001b[1mmul.MFRBF.variance     \u001b[0;0m  |      9.44959974168044  |               |        \n",
      "  \u001b[1mmul.MFRBF.lengtscale   \u001b[0;0m  |     8.738373674404015  |               |        \n",
      "  \u001b[1mmul.rbf.variance       \u001b[0;0m  |    1.9129395872826924  |      +ve      |        \n",
      "  \u001b[1mmul.rbf.lengthscale    \u001b[0;0m  |    1.3175014244950027  |      +ve      |        \n",
      "  \u001b[1mGaussian_noise.variance\u001b[0;0m  |  8.46778371913399e-07  |      +ve      |        \n"
     ]
    }
   ],
   "source": [
    "print(m_currin)"
   ]
  },
  {
   "cell_type": "code",
   "execution_count": 49,
   "metadata": {},
   "outputs": [],
   "source": [
    "X_test = x_test[:,0:2]"
   ]
  },
  {
   "cell_type": "code",
   "execution_count": 50,
   "metadata": {},
   "outputs": [
    {
     "data": {
      "text/plain": [
       "(1000, 2)"
      ]
     },
     "execution_count": 50,
     "metadata": {},
     "output_type": "execute_result"
    }
   ],
   "source": [
    "X_test.shape"
   ]
  },
  {
   "cell_type": "code",
   "execution_count": 51,
   "metadata": {},
   "outputs": [
    {
     "data": {
      "text/plain": [
       "(1000, 1)"
      ]
     },
     "execution_count": 51,
     "metadata": {},
     "output_type": "execute_result"
    }
   ],
   "source": [
    "y_test.shape"
   ]
  },
  {
   "cell_type": "code",
   "execution_count": 53,
   "metadata": {},
   "outputs": [],
   "source": [
    "def predict_eff(CovMtx, Y):\n",
    "    K_ee = CovMtx[1:,1:]\n",
    "    K_e = CovMtx[0,1:]\n",
    "    K_inv = np.linalg.inv(K_ee+0.0001*np.eye(K_ee.shape[0]))\n",
    "    pred_mu = np.matmul(np.matmul(K_e, K_inv), Y)\n",
    "    pred_v = CovMtx[0,0] - np.matmul(np.matmul(K_e, K_inv), np.matrix.transpose(K_e))\n",
    "    return pred_mu, np.sqrt(pred_v)\n"
   ]
  },
  {
   "cell_type": "code",
   "execution_count": 54,
   "metadata": {},
   "outputs": [],
   "source": [
    "s1=m_currin.kern.rbf.variance[0]\n",
    "l1=m_currin.kern.rbf.lengthscale[0]\n",
    "s2=m_currin.kern.MFRBF.variance[0]\n",
    "l2=m_currin.kern.MFRBF.lengthscale[0]\n",
    "\n",
    "\n",
    "Y_test=[]\n",
    "Y_test_up=[]\n",
    "Y_test_down=[]\n",
    "\n",
    "for i in range(X_test.shape[0]):\n",
    "    xx = X_test[i].reshape(1,2)\n",
    "    Xnew = np.vstack((xx,X_currin_expensive))\n",
    "    mu1, v1 = m4.predict(Xnew, full_cov = True)\n",
    "    kernMF = MFRBF(input_dim=2,variance = s2, lengthscale = l2, mu = mu1, v=v1)\n",
    "    kernRBF = GPy.kern.RBF(input_dim = 2, variance = s1, lengthscale = l1)\n",
    "    M1 = kernMF.K(Xnew)\n",
    "    M2 = kernRBF.K(Xnew)\n",
    "    GG = np.multiply(M1, M2)\n",
    "    \n",
    "    pred_mu, pred_v = predict_eff(GG, y_currin_expensive)\n",
    "    \n",
    "    Y_test.append(pred_mu)\n",
    "    Y_test_up.append(pred_mu+1.96*pred_v)\n",
    "    Y_test_down.append(pred_mu-1.96*pred_v)\n",
    "    "
   ]
  },
  {
   "cell_type": "code",
   "execution_count": 55,
   "metadata": {},
   "outputs": [
    {
     "data": {
      "image/png": "[encoded data removed]",
      "text/plain": [
       "<Figure size 432x288 with 1 Axes>"
      ]
     },
     "metadata": {},
     "output_type": "display_data"
    }
   ],
   "source": [
    "#print(calculate_metrics(y_test, Y_test, y_var))\n",
    "\n",
    "plt.scatter(Y_test,y_test)\n",
    "plt.plot([0, 1], [0, 1], '--k', transform=plt.gca().transAxes)\n",
    "plt.show()"
   ]
  },
  {
   "cell_type": "code",
   "execution_count": 56,
   "metadata": {},
   "outputs": [],
   "source": [
    "def rmse(predictions, targets):\n",
    "    return np.sqrt(((predictions - targets) ** 2).mean())\n",
    "\n",
    "def compute_nll(y, mf, vf):\n",
    "    y = y.reshape((y.shape[0],))\n",
    "    ll = -0.5 * np.log(2 * np.pi * vf) - 0.5 * (y - mf)**2 / vf\n",
    "    nll = -ll\n",
    "    return np.mean(nll)"
   ]
  },
  {
   "cell_type": "code",
   "execution_count": 57,
   "metadata": {},
   "outputs": [
    {
     "name": "stdout",
     "output_type": "stream",
     "text": [
      "0.6880419828071428\n"
     ]
    }
   ],
   "source": [
    "print(rmse(Y_test,y_test))"
   ]
  },
  {
   "cell_type": "code",
   "execution_count": 58,
   "metadata": {},
   "outputs": [
    {
     "name": "stdout",
     "output_type": "stream",
     "text": [
      "8.866381938998567\n"
     ]
    }
   ],
   "source": [
    "print(compute_nll(y_test,Y_test,np.array(Y_test_up)-np.array(Y_test)))"
   ]
  },
  {
   "cell_type": "code",
   "execution_count": 59,
   "metadata": {},
   "outputs": [
    {
     "name": "stdout",
     "output_type": "stream",
     "text": [
      "{'r2': 0.9189228023705566, 'rmse': 0.6880419828071428, 'mnll': 1.028550825279758}\n"
     ]
    }
   ],
   "source": [
    "print(calculate_metrics(y_test, Y_test, np.array(Y_test_up)-np.array(Y_test)))"
   ]
  },
  {
   "cell_type": "code",
   "execution_count": null,
   "metadata": {},
   "outputs": [],
   "source": []
  }
 ],
 "metadata": {
  "kernelspec": {
   "display_name": "Python 3",
   "language": "python",
   "name": "python3"
  },
  "language_info": {
   "codemirror_mode": {
    "name": "ipython",
    "version": 3
   },
   "file_extension": ".py",
   "mimetype": "text/x-python",
   "name": "python",
   "nbconvert_exporter": "python",
   "pygments_lexer": "ipython3",
   "version": "3.7.6"
  }
 },
 "nbformat": 4,
 "nbformat_minor": 2
}
