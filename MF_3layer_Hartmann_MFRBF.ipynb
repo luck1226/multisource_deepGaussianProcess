{
 "cells": [
  {
   "cell_type": "code",
   "execution_count": 60,
   "metadata": {},
   "outputs": [],
   "source": [
    "import numpy as np\n",
    "\n",
    "from emukit.test_functions.multi_fidelity import multi_fidelity_hartmann_3d\n",
    "from emukit.core import ContinuousParameter, ParameterSpace\n",
    "from emukit.core.initial_designs import LatinDesign\n",
    "\n",
    "from sklearn.metrics import mean_squared_error, r2_score"
   ]
  },
  {
   "cell_type": "code",
   "execution_count": 61,
   "metadata": {},
   "outputs": [],
   "source": [
    "from collections import namedtuple\n",
    "\n",
    "Function = namedtuple('Function', ['name', 'y_scale', 'noise_level', 'do_x_scaling', 'num_data', 'fcn'])\n",
    "\n",
    "\n",
    "hartmann_3d = Function(name='hartmann', y_scale=1, noise_level=[0., 0., 0.], do_x_scaling=True, num_data=[80, 40, 20], \n",
    "                    fcn=multi_fidelity_hartmann_3d)\n"
   ]
  },
  {
   "cell_type": "code",
   "execution_count": 62,
   "metadata": {},
   "outputs": [],
   "source": [
    "def generate_data(fcn_tuple, n_test_points):\n",
    "    \"\"\"\n",
    "    Generates train and test data for\n",
    "    \"\"\"\n",
    "    \n",
    "    # A different definition of the parameter space for the branin function was used in the paper\n",
    "    if fcn_tuple.name == 'branin':\n",
    "        fcn, space = fcn_tuple.fcn()\n",
    "        new_space = ParameterSpace([ContinuousParameter('x1', -5., 0.), ContinuousParameter('x2', 10., 15.)])\n",
    "    else:\n",
    "        fcn, space = fcn_tuple.fcn()\n",
    "        new_space = ParameterSpace(space._parameters[:-1])\n",
    "    \n",
    "    do_x_scaling = fcn_tuple.do_x_scaling\n",
    "    \n",
    "    \n",
    "    # Generate training data\n",
    "    \n",
    "    latin = LatinDesign(new_space)\n",
    "    X = [latin.get_samples(n) for n in fcn_tuple.num_data]\n",
    "    \n",
    "    # Scale X if required\n",
    "    if do_x_scaling:\n",
    "        scalings = X[0].std(axis=0)\n",
    "    else:\n",
    "        scalings = np.ones(X[0].shape[1])\n",
    "        \n",
    "    for x in X:\n",
    "        x /= scalings\n",
    "    \n",
    "    Y = []\n",
    "    for i, x in enumerate(X):\n",
    "        Y.append(fcn.f[i](x * scalings))\n",
    "    \n",
    "    y_scale = fcn_tuple.y_scale\n",
    "    \n",
    "    # scale y and add noise if required\n",
    "    noise_levels = fcn_tuple.noise_level\n",
    "    if any([n > 0 for n in noise_levels]):\n",
    "        for y, std_noise in zip(Y, noise_levels):\n",
    "            y /= y_scale + std_noise * np.random.randn(y.shape[0], 1)\n",
    "    \n",
    "    # Generate test data\n",
    "    x_test = latin.get_samples(n_test_points)\n",
    "    x_test /= scalings\n",
    "    y_test = fcn.f[-1](x_test * scalings)\n",
    "    y_test /= y_scale\n",
    "\n",
    "    i_highest_fidelity = (len(fcn_tuple.num_data) - 1) * np.ones((x_test.shape[0], 1))\n",
    "    x_test = np.concatenate([x_test, i_highest_fidelity], axis=1)\n",
    "    print(X[1].shape)\n",
    "    return x_test, y_test, X, Y"
   ]
  },
  {
   "cell_type": "code",
   "execution_count": 63,
   "metadata": {},
   "outputs": [],
   "source": [
    "def calculate_metrics(y_test, y_mean_prediction, y_var_prediction):\n",
    "    # R2\n",
    "    r2 = r2_score(y_test, y_mean_prediction)\n",
    "    # RMSE\n",
    "    rmse = np.sqrt(mean_squared_error(y_test, y_mean_prediction))\n",
    "    # Test log likelihood\n",
    "    mnll = -np.sum(scipy.stats.norm.logpdf(y_test, loc=y_mean_prediction, scale=np.sqrt(y_var_prediction)))/len(y_test)\n",
    "    return {'r2': r2, 'rmse': rmse, 'mnll': mnll}"
   ]
  },
  {
   "cell_type": "code",
   "execution_count": 64,
   "metadata": {},
   "outputs": [
    {
     "name": "stdout",
     "output_type": "stream",
     "text": [
      "(40, 3)\n"
     ]
    }
   ],
   "source": [
    "np.random.seed(123)\n",
    "\n",
    "x_test, y_test, X, Y = generate_data(hartmann_3d, 1000)"
   ]
  },
  {
   "cell_type": "code",
   "execution_count": 65,
   "metadata": {},
   "outputs": [
    {
     "data": {
      "text/plain": [
       "((80, 3), (80, 1))"
      ]
     },
     "execution_count": 65,
     "metadata": {},
     "output_type": "execute_result"
    }
   ],
   "source": [
    "X[0].shape, Y[0].shape"
   ]
  },
  {
   "cell_type": "code",
   "execution_count": 66,
   "metadata": {},
   "outputs": [
    {
     "data": {
      "text/plain": [
       "((40, 3), (40, 1))"
      ]
     },
     "execution_count": 66,
     "metadata": {},
     "output_type": "execute_result"
    }
   ],
   "source": [
    "X[1].shape, Y[1].shape"
   ]
  },
  {
   "cell_type": "code",
   "execution_count": 67,
   "metadata": {},
   "outputs": [
    {
     "data": {
      "text/plain": [
       "((20, 3), (20, 1))"
      ]
     },
     "execution_count": 67,
     "metadata": {},
     "output_type": "execute_result"
    }
   ],
   "source": [
    "X[2].shape, Y[2].shape"
   ]
  },
  {
   "cell_type": "code",
   "execution_count": 68,
   "metadata": {},
   "outputs": [
    {
     "data": {
      "text/plain": [
       "((1000, 4), (1000, 1))"
      ]
     },
     "execution_count": 68,
     "metadata": {},
     "output_type": "execute_result"
    }
   ],
   "source": [
    "x_test.shape, y_test.shape"
   ]
  },
  {
   "cell_type": "markdown",
   "metadata": {},
   "source": [
    "## Introduce AR1 model and fit all three fidelities of data"
   ]
  },
  {
   "cell_type": "code",
   "execution_count": 69,
   "metadata": {},
   "outputs": [
    {
     "name": "stdout",
     "output_type": "stream",
     "text": [
      "Optimization restart 1/10, f = -147.7311847422601\n",
      "Optimization restart 2/10, f = -144.6298819171123\n",
      "Optimization restart 3/10, f = -147.72927292782396\n",
      "Optimization restart 4/10, f = -149.60905814032515\n",
      "Optimization restart 5/10, f = -150.28486257193777\n",
      "Optimization restart 6/10, f = -150.28459444747887\n",
      "Optimization restart 7/10, f = -149.61242421578999\n",
      "Optimization restart 8/10, f = -150.28169169116074\n",
      "Optimization restart 9/10, f = -150.25866622972805\n",
      "Optimization restart 10/10, f = -147.73055998862884\n",
      "Optimization restart 1/10, f = -150.52703611067443\n",
      "Optimization restart 2/10, f = -150.52805127319715\n",
      "Optimization restart 3/10, f = -150.52069972493757\n",
      "Optimization restart 4/10, f = -149.7978201842871\n",
      "Optimization restart 5/10, f = -135.70409255418127\n",
      "Optimization restart 6/10, f = -137.3083017421278\n",
      "Optimization restart 7/10, f = -147.96373588802692\n"
     ]
    },
    {
     "name": "stderr",
     "output_type": "stream",
     "text": [
      " /Users/felix/opt/anaconda3/lib/python3.7/site-packages/GPy/kern/src/stationary.py:243: RuntimeWarning:invalid value encountered in true_divide\n"
     ]
    },
    {
     "name": "stdout",
     "output_type": "stream",
     "text": [
      "Optimization restart 8/10, f = -135.3204693692221\n",
      "Optimization restart 9/10, f = -150.33524948833164\n",
      "Optimization restart 10/10, f = -145.18242422034055\n"
     ]
    }
   ],
   "source": [
    "from emukit.examples.multi_fidelity_dgp.baseline_model_wrappers import LinearAutoRegressiveModel\n",
    "\n",
    "m1 =  LinearAutoRegressiveModel(X, Y)\n",
    "m1.optimize()"
   ]
  },
  {
   "cell_type": "code",
   "execution_count": 70,
   "metadata": {},
   "outputs": [
    {
     "name": "stdout",
     "output_type": "stream",
     "text": [
      "<emukit.examples.multi_fidelity_dgp.baseline_model_wrappers.LinearAutoRegressiveModel object at 0x7f964fc10a90>\n"
     ]
    }
   ],
   "source": [
    "print(m1)"
   ]
  },
  {
   "cell_type": "code",
   "execution_count": 71,
   "metadata": {},
   "outputs": [
    {
     "name": "stdout",
     "output_type": "stream",
     "text": [
      "{'r2': 0.9981412342035538, 'rmse': 0.040520455931103275, 'mnll': -1.8063028336946734}\n"
     ]
    }
   ],
   "source": [
    "y_mean, y_var = m1.predict(x_test)\n",
    "\n",
    "import scipy.stats\n",
    "\n",
    "print(calculate_metrics(y_test, y_mean, y_var))"
   ]
  },
  {
   "cell_type": "code",
   "execution_count": 72,
   "metadata": {},
   "outputs": [
    {
     "data": {
      "image/png": "[encoded data removed]",
      "text/plain": [
       "<Figure size 432x288 with 1 Axes>"
      ]
     },
     "metadata": {
      "needs_background": "light"
     },
     "output_type": "display_data"
    }
   ],
   "source": [
    "import matplotlib.pyplot as plt\n",
    "\n",
    "plt.scatter(y_mean,y_test)\n",
    "plt.plot([0, 1], [0, 1], '--k', transform=plt.gca().transAxes)\n",
    "plt.show()"
   ]
  },
  {
   "cell_type": "markdown",
   "metadata": {},
   "source": [
    "## To set up the data in three-layer structure\n",
    "### Cheap data, expensive data, high data"
   ]
  },
  {
   "cell_type": "code",
   "execution_count": 73,
   "metadata": {},
   "outputs": [
    {
     "data": {
      "text/plain": [
       "<paramz.optimization.optimization.opt_lbfgsb at 0x7f964ee20a50>"
      ]
     },
     "execution_count": 73,
     "metadata": {},
     "output_type": "execute_result"
    }
   ],
   "source": [
    "X_branin_cheap = X[0]\n",
    "X_branin_expensive = X[1]\n",
    "X_branin_high = X[2]\n",
    "\n",
    "y_branin_cheap = Y[0]\n",
    "y_branin_expensive = Y[1]\n",
    "y_branin_high = Y[2]\n",
    "\n",
    "import GPy\n",
    "from GPy.kern import Kern\n",
    "from GPy import Param, Model\n",
    "\n",
    "m2 = GPy.models.GPRegression(X_branin_cheap, y_branin_cheap)\n",
    "m2.optimize()"
   ]
  },
  {
   "cell_type": "code",
   "execution_count": 74,
   "metadata": {},
   "outputs": [
    {
     "name": "stdout",
     "output_type": "stream",
     "text": [
      "Optimization restart 1/10, f = 34.55533884662158\n",
      "Optimization restart 2/10, f = 34.55533898456843\n",
      "Optimization restart 3/10, f = 34.555343344375515\n",
      "Optimization restart 4/10, f = 34.55533884388633\n",
      "Optimization restart 5/10, f = 34.55534001844444\n",
      "Optimization restart 6/10, f = 34.55533894471999\n",
      "Optimization restart 7/10, f = 34.55533893306482\n",
      "Optimization restart 8/10, f = 34.55533902856162\n",
      "Optimization restart 9/10, f = 34.555340722291604\n",
      "Optimization restart 10/10, f = 34.55533884286709\n"
     ]
    },
    {
     "data": {
      "text/plain": [
       "[<paramz.optimization.optimization.opt_lbfgsb at 0x7f964ee20a50>,\n",
       " <paramz.optimization.optimization.opt_lbfgsb at 0x7f964fc25310>,\n",
       " <paramz.optimization.optimization.opt_lbfgsb at 0x7f964fb90dd0>,\n",
       " <paramz.optimization.optimization.opt_lbfgsb at 0x7f964ee20490>,\n",
       " <paramz.optimization.optimization.opt_lbfgsb at 0x7f964ee20210>,\n",
       " <paramz.optimization.optimization.opt_lbfgsb at 0x7f964fc25f10>,\n",
       " <paramz.optimization.optimization.opt_lbfgsb at 0x7f964fc25fd0>,\n",
       " <paramz.optimization.optimization.opt_lbfgsb at 0x7f964fc25d90>,\n",
       " <paramz.optimization.optimization.opt_lbfgsb at 0x7f964fc25b50>,\n",
       " <paramz.optimization.optimization.opt_lbfgsb at 0x7f964fc25dd0>,\n",
       " <paramz.optimization.optimization.opt_lbfgsb at 0x7f964fc25e10>]"
      ]
     },
     "execution_count": 74,
     "metadata": {},
     "output_type": "execute_result"
    }
   ],
   "source": [
    "m2.optimize_restarts(num_restarts = 10)"
   ]
  },
  {
   "cell_type": "code",
   "execution_count": 75,
   "metadata": {},
   "outputs": [
    {
     "name": "stdout",
     "output_type": "stream",
     "text": [
      "\n",
      "Name : GP regression\n",
      "Objective : 34.55533884286709\n",
      "Number of Parameters : 3\n",
      "Number of Optimization Parameters : 3\n",
      "Updates : True\n",
      "Parameters:\n",
      "  \u001b[1mGP_regression.         \u001b[0;0m  |                   value  |  constraints  |  priors\n",
      "  \u001b[1mrbf.variance           \u001b[0;0m  |      1.0419730894176773  |      +ve      |        \n",
      "  \u001b[1mrbf.lengthscale        \u001b[0;0m  |      0.8820393818512069  |      +ve      |        \n",
      "  \u001b[1mGaussian_noise.variance\u001b[0;0m  |  1.1536121031968866e-10  |      +ve      |        \n"
     ]
    }
   ],
   "source": [
    "print(m2)"
   ]
  },
  {
   "cell_type": "code",
   "execution_count": 76,
   "metadata": {},
   "outputs": [
    {
     "data": {
      "text/plain": [
       "(1.0419730894176773, 0.8820393818512069)"
      ]
     },
     "execution_count": 76,
     "metadata": {},
     "output_type": "execute_result"
    }
   ],
   "source": [
    "m2.kern.variance[0], m2.kern.lengthscale[0]"
   ]
  },
  {
   "cell_type": "markdown",
   "metadata": {},
   "source": [
    "### predicting the expensive data using gp trained with cheap data"
   ]
  },
  {
   "cell_type": "code",
   "execution_count": 77,
   "metadata": {},
   "outputs": [],
   "source": [
    "muA, vA = m2.predict(X_branin_expensive, full_cov = True)"
   ]
  },
  {
   "cell_type": "markdown",
   "metadata": {},
   "source": [
    "### Set up the kernel matrix using posterior mean and covariance in mu_A and cov_A"
   ]
  },
  {
   "cell_type": "code",
   "execution_count": 78,
   "metadata": {},
   "outputs": [],
   "source": [
    "from MFRBF import MFRBF\n",
    "\n",
    "kMF_A = MFRBF(input_dim=X_branin_expensive.shape[1], variance = 5, lengthscale = 1, mu = muA, v=vA)"
   ]
  },
  {
   "cell_type": "code",
   "execution_count": 79,
   "metadata": {},
   "outputs": [
    {
     "data": {
      "text/plain": [
       "<paramz.optimization.optimization.opt_lbfgsb at 0x7f964eab3fd0>"
      ]
     },
     "execution_count": 79,
     "metadata": {},
     "output_type": "execute_result"
    }
   ],
   "source": [
    "kRBF_A = GPy.kern.RBF(input_dim = X_branin_expensive.shape[1])\n",
    "\n",
    "k_A = kMF_A * kRBF_A\n",
    "\n",
    "#k_A = kMF_A\n",
    "\n",
    "m_A = GPy.models.GPRegression(X_branin_expensive, y_branin_expensive, k_A)\n",
    "\n",
    "m_A.optimize()"
   ]
  },
  {
   "cell_type": "code",
   "execution_count": 80,
   "metadata": {},
   "outputs": [
    {
     "name": "stderr",
     "output_type": "stream",
     "text": [
      " /Users/felix/opt/anaconda3/lib/python3.7/site-packages/paramz/transformations.py:111: RuntimeWarning:overflow encountered in expm1\n"
     ]
    },
    {
     "name": "stdout",
     "output_type": "stream",
     "text": [
      "Optimization restart 1/2, f = -15.583643950684802\n",
      "Optimization restart 2/2, f = -15.583642925458754\n"
     ]
    },
    {
     "data": {
      "text/plain": [
       "[<paramz.optimization.optimization.opt_lbfgsb at 0x7f964eab3fd0>,\n",
       " <paramz.optimization.optimization.opt_lbfgsb at 0x7f964ee27e50>,\n",
       " <paramz.optimization.optimization.opt_lbfgsb at 0x7f964a5e9910>]"
      ]
     },
     "execution_count": 80,
     "metadata": {},
     "output_type": "execute_result"
    }
   ],
   "source": [
    "m_A.optimize_restarts(num_restarts = 2)"
   ]
  },
  {
   "cell_type": "code",
   "execution_count": 81,
   "metadata": {},
   "outputs": [
    {
     "name": "stdout",
     "output_type": "stream",
     "text": [
      "\n",
      "Name : GP regression\n",
      "Objective : -15.583643950684802\n",
      "Number of Parameters : 5\n",
      "Number of Optimization Parameters : 5\n",
      "Updates : True\n",
      "Parameters:\n",
      "  \u001b[1mGP_regression.         \u001b[0;0m  |                   value  |  constraints  |  priors\n",
      "  \u001b[1mmul.MFRBF.variance     \u001b[0;0m  |      2087.3626133392695  |               |        \n",
      "  \u001b[1mmul.MFRBF.lengtscale   \u001b[0;0m  |      1.7843815984356808  |               |        \n",
      "  \u001b[1mmul.rbf.variance       \u001b[0;0m  |   9.235154860902556e-07  |      +ve      |        \n",
      "  \u001b[1mmul.rbf.lengthscale    \u001b[0;0m  |       34349.20070197464  |      +ve      |        \n",
      "  \u001b[1mGaussian_noise.variance\u001b[0;0m  |  5.562684646268137e-309  |      +ve      |        \n"
     ]
    }
   ],
   "source": [
    "print(m_A)"
   ]
  },
  {
   "cell_type": "markdown",
   "metadata": {},
   "source": [
    "### Now it is going to get the posterior for x_high"
   ]
  },
  {
   "cell_type": "code",
   "execution_count": 82,
   "metadata": {},
   "outputs": [],
   "source": [
    "def predict_eff(CovMtx, Y):\n",
    "    len_expensive = Y.shape[0]\n",
    "    len_all = CovMtx.shape[0]\n",
    "    len_high = len_all-len_expensive\n",
    "    K_ee = CovMtx[len_high:,len_high:]\n",
    "    K_e = CovMtx[0:len_high,len_high:]\n",
    "    K_inv = np.linalg.inv(K_ee+0.000001*np.eye(len_expensive))\n",
    "    pred_mu = np.matmul(np.matmul(K_e, K_inv), Y)\n",
    "    pred_v = CovMtx[0:len_high,0:len_high] - np.matmul(np.matmul(K_e, K_inv), np.matrix.transpose(K_e))\n",
    "    return pred_mu, pred_v"
   ]
  },
  {
   "cell_type": "code",
   "execution_count": 83,
   "metadata": {},
   "outputs": [],
   "source": [
    "s1=m_A.kern.rbf.variance[0]\n",
    "l1=m_A.kern.rbf.lengthscale[0]\n",
    "s2=m_A.kern.MFRBF.variance[0]\n",
    "l2=m_A.kern.MFRBF.lengthscale[0]\n",
    "\n",
    "#s2 = m_A.MFRBF.variance[0]\n",
    "#l2 = m_A.MFRBF.lengthscale[0]"
   ]
  },
  {
   "cell_type": "code",
   "execution_count": 84,
   "metadata": {},
   "outputs": [
    {
     "data": {
      "text/plain": [
       "(9.235154860902556e-07,\n",
       " 34349.20070197464,\n",
       " 2087.3626133392695,\n",
       " 1.7843815984356808)"
      ]
     },
     "execution_count": 84,
     "metadata": {},
     "output_type": "execute_result"
    }
   ],
   "source": [
    "s1, l1, s2, l2\n",
    "#s2, l2"
   ]
  },
  {
   "cell_type": "code",
   "execution_count": 85,
   "metadata": {},
   "outputs": [],
   "source": [
    "Xnew = np.vstack((X_branin_high,X_branin_expensive))"
   ]
  },
  {
   "cell_type": "code",
   "execution_count": 86,
   "metadata": {},
   "outputs": [
    {
     "data": {
      "text/plain": [
       "(60, 3)"
      ]
     },
     "execution_count": 86,
     "metadata": {},
     "output_type": "execute_result"
    }
   ],
   "source": [
    "Xnew.shape"
   ]
  },
  {
   "cell_type": "code",
   "execution_count": 87,
   "metadata": {},
   "outputs": [],
   "source": [
    "mu1, v1 = m2.predict(Xnew, full_cov = True)"
   ]
  },
  {
   "cell_type": "code",
   "execution_count": 88,
   "metadata": {},
   "outputs": [
    {
     "data": {
      "text/plain": [
       "((60, 1), (60, 60))"
      ]
     },
     "execution_count": 88,
     "metadata": {},
     "output_type": "execute_result"
    }
   ],
   "source": [
    "mu1.shape, v1.shape"
   ]
  },
  {
   "cell_type": "code",
   "execution_count": 89,
   "metadata": {},
   "outputs": [],
   "source": [
    "kMF_tmp = MFRBF(input_dim=X_branin_high.shape[1],variance = s2, lengthscale = l2, mu = mu1, v=v1)\n",
    "kRBF_tmp = GPy.kern.RBF(input_dim = X_branin_high.shape[1], variance = s1, lengthscale = l1)\n",
    "M1 = kMF_tmp.K(Xnew)\n",
    "M2 = kRBF_tmp.K(Xnew)\n",
    "GG = np.multiply(M1, M2)\n",
    "#GG = M1\n",
    "\n",
    "\n",
    "pred_mu, pred_cov = predict_eff(GG, y_branin_expensive)"
   ]
  },
  {
   "cell_type": "code",
   "execution_count": 90,
   "metadata": {},
   "outputs": [
    {
     "data": {
      "text/plain": [
       "((20, 1), (20, 20))"
      ]
     },
     "execution_count": 90,
     "metadata": {},
     "output_type": "execute_result"
    }
   ],
   "source": [
    "pred_mu.shape, pred_cov.shape"
   ]
  },
  {
   "cell_type": "markdown",
   "metadata": {},
   "source": [
    "### Start of training the high layer (3rd layer)"
   ]
  },
  {
   "cell_type": "code",
   "execution_count": 91,
   "metadata": {},
   "outputs": [],
   "source": [
    "kMF_B = MFRBF(input_dim=X_branin_expensive.shape[1], variance = 2, lengthscale = 1, mu = pred_mu, v=pred_cov)"
   ]
  },
  {
   "cell_type": "code",
   "execution_count": 92,
   "metadata": {},
   "outputs": [
    {
     "data": {
      "text/plain": [
       "<paramz.optimization.optimization.opt_lbfgsb at 0x7f964eac2b10>"
      ]
     },
     "execution_count": 92,
     "metadata": {},
     "output_type": "execute_result"
    }
   ],
   "source": [
    "kRBF_B = GPy.kern.RBF(input_dim = X_branin_expensive.shape[1])\n",
    "\n",
    "k_B = kMF_B * kRBF_B\n",
    "\n",
    "#k_B = kMF_B\n",
    "\n",
    "m_B = GPy.models.GPRegression(X_branin_high, y_branin_high, k_B)\n",
    "\n",
    "m_B.optimize()"
   ]
  },
  {
   "cell_type": "code",
   "execution_count": 93,
   "metadata": {},
   "outputs": [
    {
     "name": "stdout",
     "output_type": "stream",
     "text": [
      "Optimization restart 1/2, f = -1.3569832369709154\n",
      "Optimization restart 2/2, f = -1.3569832366482473\n"
     ]
    },
    {
     "data": {
      "text/plain": [
       "[<paramz.optimization.optimization.opt_lbfgsb at 0x7f964eac2b10>,\n",
       " <paramz.optimization.optimization.opt_lbfgsb at 0x7f964ead4890>,\n",
       " <paramz.optimization.optimization.opt_lbfgsb at 0x7f964eab3650>]"
      ]
     },
     "execution_count": 93,
     "metadata": {},
     "output_type": "execute_result"
    }
   ],
   "source": [
    "m_B.optimize_restarts(num_restarts = 2)"
   ]
  },
  {
   "cell_type": "code",
   "execution_count": 94,
   "metadata": {},
   "outputs": [
    {
     "name": "stdout",
     "output_type": "stream",
     "text": [
      "\n",
      "Name : GP regression\n",
      "Objective : -1.3569832369709154\n",
      "Number of Parameters : 5\n",
      "Number of Optimization Parameters : 5\n",
      "Updates : True\n",
      "Parameters:\n",
      "  \u001b[1mGP_regression.         \u001b[0;0m  |                value  |  constraints  |  priors\n",
      "  \u001b[1mmul.MFRBF.variance     \u001b[0;0m  |    1.688935253892057  |               |        \n",
      "  \u001b[1mmul.MFRBF.lengtscale   \u001b[0;0m  |    3.097712266277055  |               |        \n",
      "  \u001b[1mmul.rbf.variance       \u001b[0;0m  |   1.5963120151882833  |      +ve      |        \n",
      "  \u001b[1mmul.rbf.lengthscale    \u001b[0;0m  |   13.832628742145026  |      +ve      |        \n",
      "  \u001b[1mGaussian_noise.variance\u001b[0;0m  |  0.00263807805011792  |      +ve      |        \n"
     ]
    }
   ],
   "source": [
    "print(m_B)"
   ]
  },
  {
   "cell_type": "code",
   "execution_count": 95,
   "metadata": {},
   "outputs": [],
   "source": [
    "sb1=m_B.kern.rbf.variance[0]\n",
    "lb1=m_B.kern.rbf.lengthscale[0]\n",
    "sb2=m_B.kern.MFRBF.variance[0]\n",
    "lb2=m_B.kern.MFRBF.lengthscale[0]\n",
    "\n",
    "#sb2 = m_B.MFRBF.variance[0]\n",
    "#lb2 = m_B.MFRBF.lengthscale[0]"
   ]
  },
  {
   "cell_type": "code",
   "execution_count": 96,
   "metadata": {},
   "outputs": [
    {
     "data": {
      "text/plain": [
       "(1.5963120151882833, 13.832628742145026, 1.688935253892057, 3.097712266277055)"
      ]
     },
     "execution_count": 96,
     "metadata": {},
     "output_type": "execute_result"
    }
   ],
   "source": [
    "sb1, lb1, sb2, lb2\n",
    "#sb2, lb2"
   ]
  },
  {
   "cell_type": "markdown",
   "metadata": {},
   "source": [
    "## Final stage: prediction the high-level "
   ]
  },
  {
   "cell_type": "code",
   "execution_count": 97,
   "metadata": {},
   "outputs": [
    {
     "data": {
      "text/plain": [
       "(1000, 3)"
      ]
     },
     "execution_count": 97,
     "metadata": {},
     "output_type": "execute_result"
    }
   ],
   "source": [
    "X_test = x_test[:,0:3]\n",
    "X_test.shape\n",
    "#Y_test=[]\n",
    "#Y_test_std = []\n",
    "#Y_test_up=[]\n",
    "#Y_test_down=[]\n",
    "\n",
    "#for i in range(X_test.shape[0]):\n",
    "#    xx = X_test[i].reshape(1,2)\n",
    "#    Xnew = np.vstack((xx,X_currin_expensive))\n",
    "#    mu1, v1 = m4.predict(Xnew, full_cov = True)\n",
    "#    kernMF = MFRBF(input_dim=2,variance = s2, lengthscale = l2, mu = mu1, v=v1)\n",
    "#    kernRBF = GPy.kern.RBF(input_dim = 2, variance = s1, lengthscale = l1)\n",
    "#    M1 = kernMF.K(Xnew)\n",
    "#    M2 = kernRBF.K(Xnew)\n",
    "#    GG = np.multiply(M1, M2)\n",
    "    \n",
    "#    pred_mu, pred_std = predict_eff(GG, y_currin_expensive)\n",
    "    \n",
    "#    Y_test.append(pred_mu)\n",
    "#    Y_test_std.append(pred_std)\n",
    "#    Y_test_up.append(pred_mu+1.96*pred_std)\n",
    "#    Y_test_down.append(pred_mu-1.96*pred_std)"
   ]
  },
  {
   "cell_type": "code",
   "execution_count": 98,
   "metadata": {},
   "outputs": [
    {
     "data": {
      "text/plain": [
       "(1060, 3)"
      ]
     },
     "execution_count": 98,
     "metadata": {},
     "output_type": "execute_result"
    }
   ],
   "source": [
    "Xnew1 = np.vstack((X_test,X_branin_high,X_branin_expensive))\n",
    "Xnew1.shape"
   ]
  },
  {
   "cell_type": "code",
   "execution_count": 99,
   "metadata": {},
   "outputs": [],
   "source": [
    "mu12_1, cov12_1 = m2.predict(Xnew1,full_cov=True)"
   ]
  },
  {
   "cell_type": "code",
   "execution_count": 100,
   "metadata": {},
   "outputs": [
    {
     "data": {
      "text/plain": [
       "((1060, 1), (1060, 1060))"
      ]
     },
     "execution_count": 100,
     "metadata": {},
     "output_type": "execute_result"
    }
   ],
   "source": [
    "mu12_1.shape, cov12_1.shape"
   ]
  },
  {
   "cell_type": "code",
   "execution_count": 101,
   "metadata": {},
   "outputs": [],
   "source": [
    "kernMF12_1 = MFRBF(input_dim=2,variance = s2, lengthscale = l2, mu = mu12_1, v=cov12_1)\n",
    "kernRBF12_1 = GPy.kern.RBF(input_dim = 2, variance = s1, lengthscale = l1)\n",
    "\n",
    "M1_12_1 = kernMF12_1.K(Xnew1)\n",
    "M2_12_1 = kernRBF12_1.K(Xnew1)\n",
    "GG12_1 = np.multiply(M1_12_1, M2_12_1)\n",
    "#GG12_1 = M1_12_1 \n",
    "    \n",
    "mu12_2, cov12_2 = predict_eff(GG12_1, y_branin_expensive)"
   ]
  },
  {
   "cell_type": "code",
   "execution_count": 102,
   "metadata": {},
   "outputs": [
    {
     "data": {
      "text/plain": [
       "((1020, 1), (1020, 1020))"
      ]
     },
     "execution_count": 102,
     "metadata": {},
     "output_type": "execute_result"
    }
   ],
   "source": [
    "mu12_2.shape, cov12_2.shape"
   ]
  },
  {
   "cell_type": "code",
   "execution_count": 103,
   "metadata": {},
   "outputs": [],
   "source": [
    "Xnew2 = np.vstack((X_test,X_branin_high))\n",
    "\n",
    "kernMF12_2 = MFRBF(input_dim=2,variance = sb2, lengthscale = lb2, mu = mu12_2, v=cov12_2)\n",
    "kernRBF12_2 = GPy.kern.RBF(input_dim = 2, variance = sb1, lengthscale = lb1)\n",
    "\n",
    "M1_12_2 = kernMF12_2.K(Xnew2)\n",
    "M2_12_2 = kernRBF12_2.K(Xnew2)\n",
    "GG12_2 = np.multiply(M1_12_2, M2_12_2)\n",
    " \n",
    "#GG12_2 = M1_12_2\n",
    "    \n",
    "mu12_3, cov12_3 = predict_eff(GG12_2, y_branin_high)"
   ]
  },
  {
   "cell_type": "code",
   "execution_count": 104,
   "metadata": {},
   "outputs": [
    {
     "data": {
      "text/plain": [
       "((1000, 1), (1000, 1000))"
      ]
     },
     "execution_count": 104,
     "metadata": {},
     "output_type": "execute_result"
    }
   ],
   "source": [
    "mu12_3.shape, cov12_3.shape"
   ]
  },
  {
   "cell_type": "code",
   "execution_count": 105,
   "metadata": {},
   "outputs": [
    {
     "data": {
      "text/plain": [
       "(1020, 1020)"
      ]
     },
     "execution_count": 105,
     "metadata": {},
     "output_type": "execute_result"
    }
   ],
   "source": [
    "GG12_2.shape"
   ]
  },
  {
   "cell_type": "code",
   "execution_count": 106,
   "metadata": {},
   "outputs": [
    {
     "data": {
      "image/png": "[encoded data removed]",
      "text/plain": [
       "<Figure size 432x288 with 1 Axes>"
      ]
     },
     "metadata": {
      "needs_background": "light"
     },
     "output_type": "display_data"
    }
   ],
   "source": [
    "plt.scatter(mu12_3,100*y_test)\n",
    "plt.plot([0, 1], [0, 1], '--k', transform=plt.gca().transAxes)\n",
    "plt.show()"
   ]
  },
  {
   "cell_type": "code",
   "execution_count": 107,
   "metadata": {},
   "outputs": [],
   "source": [
    "var12_3 = np.diagonal(cov12_3)"
   ]
  },
  {
   "cell_type": "code",
   "execution_count": 108,
   "metadata": {},
   "outputs": [
    {
     "data": {
      "text/plain": [
       "(1000, 1)"
      ]
     },
     "execution_count": 108,
     "metadata": {},
     "output_type": "execute_result"
    }
   ],
   "source": [
    "mu12_3.shape"
   ]
  },
  {
   "cell_type": "code",
   "execution_count": 109,
   "metadata": {},
   "outputs": [
    {
     "data": {
      "text/plain": [
       "(1000,)"
      ]
     },
     "execution_count": 109,
     "metadata": {},
     "output_type": "execute_result"
    }
   ],
   "source": [
    "var12_3.shape"
   ]
  },
  {
   "cell_type": "code",
   "execution_count": 110,
   "metadata": {},
   "outputs": [],
   "source": [
    "var12_3=np.array(var12_3).reshape(-1,1)"
   ]
  },
  {
   "cell_type": "code",
   "execution_count": 112,
   "metadata": {},
   "outputs": [
    {
     "name": "stdout",
     "output_type": "stream",
     "text": [
      "{'r2': 0.9636097083401028, 'rmse': 0.17928945842586028, 'mnll': -0.40708948916435483}\n"
     ]
    }
   ],
   "source": [
    "print(calculate_metrics(y_test, mu12_3, var12_3))"
   ]
  },
  {
   "cell_type": "code",
   "execution_count": null,
   "metadata": {},
   "outputs": [],
   "source": []
  }
 ],
 "metadata": {
  "kernelspec": {
   "display_name": "Python 3",
   "language": "python",
   "name": "python3"
  },
  "language_info": {
   "codemirror_mode": {
    "name": "ipython",
    "version": 3
   },
   "file_extension": ".py",
   "mimetype": "text/x-python",
   "name": "python",
   "nbconvert_exporter": "python",
   "pygments_lexer": "ipython3",
   "version": "3.7.6"
  }
 },
 "nbformat": 4,
 "nbformat_minor": 4
}
