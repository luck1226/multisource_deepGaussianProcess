{
 "cells": [
  {
   "cell_type": "code",
   "execution_count": 1,
   "metadata": {},
   "outputs": [],
   "source": [
    "import numpy as np\n",
    "import matplotlib.pyplot as plt\n",
    "import pandas as pd\n",
    "\n",
    "import GPy\n",
    "from GPy.kern import Kern\n",
    "from GPy import Param, Model"
   ]
  },
  {
   "cell_type": "code",
   "execution_count": 9,
   "metadata": {},
   "outputs": [],
   "source": [
    "df = pd.read_csv('yacht_hydrodynamics.data', delim_whitespace=True,\n",
    "                           names=['Long pos', 'Prismatic coeff',\n",
    "                                 'Length-displacement ratio',\n",
    "                                 'Beam-draught ratio',\n",
    "                                 'Length-beam ratio',\n",
    "                                 'Froude number',\n",
    "                                 'Residuary resistance'])"
   ]
  },
  {
   "cell_type": "code",
   "execution_count": 11,
   "metadata": {},
   "outputs": [
    {
     "data": {
      "text/html": [
       "<div>\n",
       "<style scoped>\n",
       "    .dataframe tbody tr th:only-of-type {\n",
       "        vertical-align: middle;\n",
       "    }\n",
       "\n",
       "    .dataframe tbody tr th {\n",
       "        vertical-align: top;\n",
       "    }\n",
       "\n",
       "    .dataframe thead th {\n",
       "        text-align: right;\n",
       "    }\n",
       "</style>\n",
       "<table border=\"1\" class=\"dataframe\">\n",
       "  <thead>\n",
       "    <tr style=\"text-align: right;\">\n",
       "      <th></th>\n",
       "      <th>Long pos</th>\n",
       "      <th>Prismatic coeff</th>\n",
       "      <th>Length-displacement ratio</th>\n",
       "      <th>Beam-draught ratio</th>\n",
       "      <th>Length-beam ratio</th>\n",
       "      <th>Froude number</th>\n",
       "      <th>Residuary resistance</th>\n",
       "    </tr>\n",
       "  </thead>\n",
       "  <tbody>\n",
       "    <tr>\n",
       "      <th>0</th>\n",
       "      <td>-2.3</td>\n",
       "      <td>0.568</td>\n",
       "      <td>4.78</td>\n",
       "      <td>3.99</td>\n",
       "      <td>3.17</td>\n",
       "      <td>0.125</td>\n",
       "      <td>0.11</td>\n",
       "    </tr>\n",
       "    <tr>\n",
       "      <th>1</th>\n",
       "      <td>-2.3</td>\n",
       "      <td>0.568</td>\n",
       "      <td>4.78</td>\n",
       "      <td>3.99</td>\n",
       "      <td>3.17</td>\n",
       "      <td>0.150</td>\n",
       "      <td>0.27</td>\n",
       "    </tr>\n",
       "    <tr>\n",
       "      <th>2</th>\n",
       "      <td>-2.3</td>\n",
       "      <td>0.568</td>\n",
       "      <td>4.78</td>\n",
       "      <td>3.99</td>\n",
       "      <td>3.17</td>\n",
       "      <td>0.175</td>\n",
       "      <td>0.47</td>\n",
       "    </tr>\n",
       "    <tr>\n",
       "      <th>3</th>\n",
       "      <td>-2.3</td>\n",
       "      <td>0.568</td>\n",
       "      <td>4.78</td>\n",
       "      <td>3.99</td>\n",
       "      <td>3.17</td>\n",
       "      <td>0.200</td>\n",
       "      <td>0.78</td>\n",
       "    </tr>\n",
       "    <tr>\n",
       "      <th>4</th>\n",
       "      <td>-2.3</td>\n",
       "      <td>0.568</td>\n",
       "      <td>4.78</td>\n",
       "      <td>3.99</td>\n",
       "      <td>3.17</td>\n",
       "      <td>0.225</td>\n",
       "      <td>1.18</td>\n",
       "    </tr>\n",
       "    <tr>\n",
       "      <th>5</th>\n",
       "      <td>-2.3</td>\n",
       "      <td>0.568</td>\n",
       "      <td>4.78</td>\n",
       "      <td>3.99</td>\n",
       "      <td>3.17</td>\n",
       "      <td>0.250</td>\n",
       "      <td>1.82</td>\n",
       "    </tr>\n",
       "    <tr>\n",
       "      <th>6</th>\n",
       "      <td>-2.3</td>\n",
       "      <td>0.568</td>\n",
       "      <td>4.78</td>\n",
       "      <td>3.99</td>\n",
       "      <td>3.17</td>\n",
       "      <td>0.275</td>\n",
       "      <td>2.61</td>\n",
       "    </tr>\n",
       "    <tr>\n",
       "      <th>7</th>\n",
       "      <td>-2.3</td>\n",
       "      <td>0.568</td>\n",
       "      <td>4.78</td>\n",
       "      <td>3.99</td>\n",
       "      <td>3.17</td>\n",
       "      <td>0.300</td>\n",
       "      <td>3.76</td>\n",
       "    </tr>\n",
       "    <tr>\n",
       "      <th>8</th>\n",
       "      <td>-2.3</td>\n",
       "      <td>0.568</td>\n",
       "      <td>4.78</td>\n",
       "      <td>3.99</td>\n",
       "      <td>3.17</td>\n",
       "      <td>0.325</td>\n",
       "      <td>4.99</td>\n",
       "    </tr>\n",
       "    <tr>\n",
       "      <th>9</th>\n",
       "      <td>-2.3</td>\n",
       "      <td>0.568</td>\n",
       "      <td>4.78</td>\n",
       "      <td>3.99</td>\n",
       "      <td>3.17</td>\n",
       "      <td>0.350</td>\n",
       "      <td>7.16</td>\n",
       "    </tr>\n",
       "  </tbody>\n",
       "</table>\n",
       "</div>"
      ],
      "text/plain": [
       "   Long pos  Prismatic coeff  Length-displacement ratio  Beam-draught ratio  \\\n",
       "0      -2.3            0.568                       4.78                3.99   \n",
       "1      -2.3            0.568                       4.78                3.99   \n",
       "2      -2.3            0.568                       4.78                3.99   \n",
       "3      -2.3            0.568                       4.78                3.99   \n",
       "4      -2.3            0.568                       4.78                3.99   \n",
       "5      -2.3            0.568                       4.78                3.99   \n",
       "6      -2.3            0.568                       4.78                3.99   \n",
       "7      -2.3            0.568                       4.78                3.99   \n",
       "8      -2.3            0.568                       4.78                3.99   \n",
       "9      -2.3            0.568                       4.78                3.99   \n",
       "\n",
       "   Length-beam ratio  Froude number  Residuary resistance  \n",
       "0               3.17          0.125                  0.11  \n",
       "1               3.17          0.150                  0.27  \n",
       "2               3.17          0.175                  0.47  \n",
       "3               3.17          0.200                  0.78  \n",
       "4               3.17          0.225                  1.18  \n",
       "5               3.17          0.250                  1.82  \n",
       "6               3.17          0.275                  2.61  \n",
       "7               3.17          0.300                  3.76  \n",
       "8               3.17          0.325                  4.99  \n",
       "9               3.17          0.350                  7.16  "
      ]
     },
     "execution_count": 11,
     "metadata": {},
     "output_type": "execute_result"
    }
   ],
   "source": [
    "#df = pd.read_excel('yacht_hydrodynamics.data',sep='\\s+',header=None)\n",
    "df.head(10)"
   ]
  },
  {
   "cell_type": "code",
   "execution_count": 12,
   "metadata": {},
   "outputs": [],
   "source": [
    "from sklearn.model_selection import  train_test_split\n",
    "\n",
    "y = df['Residuary resistance'].values.reshape(-1,1)\n",
    "X_df = df.copy()\n",
    "X_df.drop(['Residuary resistance'], axis=1, inplace=True)\n",
    "X = X_df.values\n",
    "\n",
    "X_train, X_test, y_train, y_test = train_test_split(X, y,\n",
    "                                                    test_size=0.2,\n",
    "                                                    random_state=42,\n",
    "                                                    shuffle=True)"
   ]
  },
  {
   "cell_type": "code",
   "execution_count": 13,
   "metadata": {},
   "outputs": [],
   "source": [
    "class deepRBF(Kern):\n",
    "    \n",
    "    def __init__(self,input_dim,variance1=1.,lengthscale=1.,variance2=1.,active_dims=None):\n",
    "        super(deepRBF, self).__init__(input_dim, active_dims, 'deep_rbf')\n",
    "        #assert input_dim == 1, \"For this kernel we assume input_dim=1\"\n",
    "        self.variance1 = Param('variance1', variance1)\n",
    "        self.lengthscale = Param('lengtscale', lengthscale)\n",
    "        self.variance2 = Param('variance2', variance2)\n",
    "        #self.lengthscale2 = Param('lengthscale2', lengthscale2)\n",
    "        self.link_parameters(self.variance1, self.lengthscale, self.variance2)\n",
    "    \n",
    "    def parameters_changed(self):\n",
    "        # nothing todo here\n",
    "        pass\n",
    "    \n",
    "    def K(self,X,X2):\n",
    "        if X2 is None: X2 = X\n",
    "        #dist2 = np.square((X-X2.T)/self.lengthscale)\n",
    "        dist2 = (np.square(X[:,np.newaxis]-X2).sum(axis=2))/self.lengthscale**2\n",
    "        tmp1 = 1.-np.exp((-1.)*dist2/2.)\n",
    "        tmp2 = 2.*self.variance1*tmp1\n",
    "        return self.variance2*np.power(1 + tmp2,-0.5)\n",
    "    \n",
    "    def Kdiag(self,X):\n",
    "        return self.variance2*np.ones(X.shape[0])\n",
    "    \n",
    "    def update_gradients_full(self, dL_dK, X, X2):\n",
    "        if X2 is None: X2 = X\n",
    "            \n",
    "        #dist2 = np.square((X-X2.T)/self.lengthscale)\n",
    "        dist2 = (np.square(X[:,np.newaxis]-X2).sum(axis=2))/self.lengthscale**2\n",
    "        tmp1 = 1.-np.exp((-1.)*dist2/2.)\n",
    "        tmp2 = 2.*self.variance1*tmp1\n",
    "\n",
    "        dvar2 = np.power(1 + tmp2, -0.5)\n",
    "        #dl1 = self.power * self.variance * dist2 * self.lengthscale**(-3) * (1 + dist2/2./self.power)**(-self.power-1)\n",
    "        dvar1 = (-1.)*self.variance2*tmp1*np.power(1+tmp2,-1.5)\n",
    "        dl = self.variance1*self.variance2*np.exp((-1.)*dist2)*dist2/self.lengthscale*np.power(1+tmp2,-1.5)\n",
    "        #dp = - self.variance * np.log(1 + dist2/2.) * (1 + dist2/2.)**(-self.power)\n",
    "\n",
    "        self.variance1.gradient = np.sum(dvar1*dL_dK)\n",
    "        self.lengthscale.gradient = np.sum(dl*dL_dK)\n",
    "        self.variance2.gradient = np.sum(dvar2*dL_dK)\n",
    "        #self.lenthscale2.gradient = np.sum(dl2*dL_dK)\n",
    "        \n",
    "    def update_gradients_diag(self, dL_dKdiag, X):\n",
    "        self.variance2.gradient = np.sum(dL_dKdiag)\n",
    "        # here self.lengthscale and self.power have no influence on Kdiag so target[1:] are unchanged\n",
    "        \n",
    "    def gradients_X(self,dL_dK,X,X2):\n",
    "        \"\"\"derivative of the covariance matrix with respect to X.\"\"\"\n",
    "        if X2 is None: X2 = X\n",
    "        #dist2 = np.square((X-X2.T)/self.lengthscale)\n",
    "        dist2 = (np.square(X[:,np.newaxis]-X2).sum(axis=2))/self.lengthscale**2\n",
    "        tmp1 = 1.-np.exp((-1.)*dist2/2.)\n",
    "        tmp2 = 2.*self.variance1*tmp1\n",
    "        tmp3 = np.power(1+tmp2,-1.5)\n",
    "\n",
    "        #dX = -self.variance*self.power * (X-X2.T)/self.lengthscale**2 *  (1 + dist2/2./self.lengthscale)**(-self.power-1)\n",
    "        #dX = (-1.)*self.variance1*self.variance2 * (X-X2.T)/self.lengthscale**2 * np.exp((-1.)*dist2/2) * tmp3\n",
    "        #dX = (-1.)*self.variance1*self.variance2 *((X[:,np.newaxis]-X2).sum(axis=2))/self.lengthscale**2 * np.exp((-1.)*dist2/2) * tmp3\n",
    "        #dX = (-1.)*self.variance1*self.variance2 * (X-X2) / self.lengthscale**2 * np.exp((-1.)*dist2/2) * tmp3\n",
    "        #return np.sum(dL_dK*dX,1)[:,None]\n",
    "        #return np.sum(dX*dL_dK,1)[:,None]\n",
    "        dX_tmp = (-1.)*self.variance1*self.variance2/self.lengthscale**2 * np.exp((-1.)*dist2/2) * tmp3\n",
    "        return ((dL_dK*dX_tmp)[:,:,None]*(X[:,None,:] - X2[None,:,:])).sum(1)\n",
    "    \n",
    "    def gradients_X_diag(self,dL_dKdiag,X):\n",
    "        # no diagonal gradients\n",
    "        pass\n",
    "    \n"
   ]
  },
  {
   "cell_type": "code",
   "execution_count": 14,
   "metadata": {},
   "outputs": [],
   "source": [
    "y_train = np.array(y_train).reshape(-1,1)\n",
    "y_test = np.array(y_test).reshape(-1,1)"
   ]
  },
  {
   "cell_type": "code",
   "execution_count": 15,
   "metadata": {},
   "outputs": [],
   "source": [
    "def rmse(predictions, targets):\n",
    "    return np.sqrt(((predictions - targets) ** 2).mean())"
   ]
  },
  {
   "cell_type": "code",
   "execution_count": 16,
   "metadata": {},
   "outputs": [],
   "source": [
    "def compute_nll(y, mf, vf):\n",
    "    y = y.reshape((y.shape[0],))\n",
    "    ll = -0.5 * np.log(2 * np.pi * vf) - 0.5 * (y - mf)**2 / vf\n",
    "    nll = -ll\n",
    "    return np.mean(nll)"
   ]
  },
  {
   "cell_type": "markdown",
   "metadata": {},
   "source": [
    "## GP RBF"
   ]
  },
  {
   "cell_type": "code",
   "execution_count": 17,
   "metadata": {},
   "outputs": [],
   "source": [
    "m1 = GPy.models.GPRegression(X_train, y_train)"
   ]
  },
  {
   "cell_type": "code",
   "execution_count": 18,
   "metadata": {},
   "outputs": [
    {
     "data": {
      "text/plain": [
       "<paramz.optimization.optimization.opt_lbfgsb at 0x1a0f99f198>"
      ]
     },
     "execution_count": 18,
     "metadata": {},
     "output_type": "execute_result"
    }
   ],
   "source": [
    "m1.optimize()"
   ]
  },
  {
   "cell_type": "code",
   "execution_count": 19,
   "metadata": {},
   "outputs": [],
   "source": [
    "m1f_t, m1v_t = m1.predict(X_test)"
   ]
  },
  {
   "cell_type": "code",
   "execution_count": 20,
   "metadata": {},
   "outputs": [],
   "source": [
    "m1f_tr, m1v_tr = m1.predict(X_train)"
   ]
  },
  {
   "cell_type": "code",
   "execution_count": 21,
   "metadata": {},
   "outputs": [
    {
     "data": {
      "image/png": "[encoded data removed]",
      "text/plain": [
       "<Figure size 432x288 with 1 Axes>"
      ]
     },
     "metadata": {},
     "output_type": "display_data"
    }
   ],
   "source": [
    "plt.scatter(m1f_t,y_test)\n",
    "plt.plot([0, 1], [0, 1], '--k', transform=plt.gca().transAxes)\n",
    "#plt.xlim([0,55])\n",
    "#plt.ylim([0,55])\n",
    "plt.show()"
   ]
  },
  {
   "cell_type": "code",
   "execution_count": 22,
   "metadata": {},
   "outputs": [
    {
     "data": {
      "image/png": "[encoded data removed]",
      "text/plain": [
       "<Figure size 432x288 with 1 Axes>"
      ]
     },
     "metadata": {},
     "output_type": "display_data"
    }
   ],
   "source": [
    "plt.scatter(m1f_tr,y_train)\n",
    "plt.plot([0, 1], [0, 1], '--k', transform=plt.gca().transAxes)\n",
    "plt.xlim([0,55])\n",
    "plt.ylim([0,55])\n",
    "plt.show()"
   ]
  },
  {
   "cell_type": "markdown",
   "metadata": {},
   "source": [
    "## GP deep RBF"
   ]
  },
  {
   "cell_type": "code",
   "execution_count": 23,
   "metadata": {},
   "outputs": [],
   "source": [
    "d_rbf = deepRBF(input_dim=X_train.shape[1])\n",
    "m2 = GPy.models.GPRegression(X_train, y_train,d_rbf)"
   ]
  },
  {
   "cell_type": "code",
   "execution_count": 24,
   "metadata": {},
   "outputs": [
    {
     "name": "stderr",
     "output_type": "stream",
     "text": [
      " /Users/luck1226/anaconda3/lib/python3.6/site-packages/ipykernel_launcher.py:22: RuntimeWarning:invalid value encountered in power\n"
     ]
    },
    {
     "data": {
      "text/plain": [
       "<paramz.optimization.optimization.opt_lbfgsb at 0x1a0f993cf8>"
      ]
     },
     "execution_count": 24,
     "metadata": {},
     "output_type": "execute_result"
    }
   ],
   "source": [
    "m2.optimize()"
   ]
  },
  {
   "cell_type": "code",
   "execution_count": 25,
   "metadata": {},
   "outputs": [],
   "source": [
    "m2f_t, m2v_t = m2.predict(X_test)\n",
    "m2f_tr, m2v_tr = m2.predict(X_train)"
   ]
  },
  {
   "cell_type": "code",
   "execution_count": 26,
   "metadata": {},
   "outputs": [
    {
     "data": {
      "image/png": "[encoded data removed]",
      "text/plain": [
       "<Figure size 432x288 with 1 Axes>"
      ]
     },
     "metadata": {},
     "output_type": "display_data"
    }
   ],
   "source": [
    "plt.scatter(m2f_t,y_test)\n",
    "plt.plot([0, 1], [0, 1], '--k', transform=plt.gca().transAxes)\n",
    "#plt.xlim([0,55])\n",
    "#plt.ylim([0,55])\n",
    "plt.show()"
   ]
  },
  {
   "cell_type": "code",
   "execution_count": 27,
   "metadata": {},
   "outputs": [
    {
     "data": {
      "image/png": "[encoded data removed]",
      "text/plain": [
       "<Figure size 432x288 with 1 Axes>"
      ]
     },
     "metadata": {},
     "output_type": "display_data"
    }
   ],
   "source": [
    "plt.scatter(m2f_tr,y_train)\n",
    "plt.plot([0, 1], [0, 1], '--k', transform=plt.gca().transAxes)\n",
    "#plt.xlim([0,55])\n",
    "#plt.ylim([0,55])\n",
    "plt.show()"
   ]
  },
  {
   "cell_type": "markdown",
   "metadata": {},
   "source": [
    "### Report GP RBF"
   ]
  },
  {
   "cell_type": "code",
   "execution_count": 28,
   "metadata": {},
   "outputs": [
    {
     "name": "stdout",
     "output_type": "stream",
     "text": [
      "0.59907974339648\n"
     ]
    }
   ],
   "source": [
    "# test error for GP RBF\n",
    "print(rmse(m1f_t,y_test))"
   ]
  },
  {
   "cell_type": "code",
   "execution_count": 29,
   "metadata": {},
   "outputs": [
    {
     "name": "stdout",
     "output_type": "stream",
     "text": [
      "0.09028019082046058\n"
     ]
    }
   ],
   "source": [
    "# Training RMSE for GP RBF\n",
    "print(rmse(m1f_tr,y_train))"
   ]
  },
  {
   "cell_type": "code",
   "execution_count": 30,
   "metadata": {},
   "outputs": [
    {
     "name": "stdout",
     "output_type": "stream",
     "text": [
      "2083.9390181612957\n"
     ]
    }
   ],
   "source": [
    "# Test NLL\n",
    "print(compute_nll(y_test,m1f_t,m1v_t))"
   ]
  },
  {
   "cell_type": "code",
   "execution_count": 31,
   "metadata": {},
   "outputs": [
    {
     "name": "stdout",
     "output_type": "stream",
     "text": [
      "7150.7008297991215\n"
     ]
    }
   ],
   "source": [
    "# Train NLL\n",
    "print(compute_nll(y_train,m1f_tr,m1v_tr))"
   ]
  },
  {
   "cell_type": "markdown",
   "metadata": {},
   "source": [
    "### Report GP deep RBF"
   ]
  },
  {
   "cell_type": "code",
   "execution_count": 32,
   "metadata": {},
   "outputs": [
    {
     "name": "stdout",
     "output_type": "stream",
     "text": [
      "1.0165657371263257\n"
     ]
    }
   ],
   "source": [
    "# test error for GP deep RBF\n",
    "print(rmse(m2f_t,y_test))"
   ]
  },
  {
   "cell_type": "code",
   "execution_count": 33,
   "metadata": {},
   "outputs": [
    {
     "name": "stdout",
     "output_type": "stream",
     "text": [
      "1.1190002884680119e-07\n"
     ]
    }
   ],
   "source": [
    "# Training RMSE for GP deepRBF\n",
    "print(rmse(m2f_tr,y_train))"
   ]
  },
  {
   "cell_type": "code",
   "execution_count": 34,
   "metadata": {},
   "outputs": [
    {
     "name": "stdout",
     "output_type": "stream",
     "text": [
      "4184.935450094857\n"
     ]
    }
   ],
   "source": [
    "# Test NLL\n",
    "print(compute_nll(y_test,m2f_t,m2v_t))"
   ]
  },
  {
   "cell_type": "code",
   "execution_count": 35,
   "metadata": {},
   "outputs": [
    {
     "name": "stdout",
     "output_type": "stream",
     "text": [
      "24564047193.16117\n"
     ]
    }
   ],
   "source": [
    "# Train NLL\n",
    "print(compute_nll(y_train,m2f_tr,m2v_tr))"
   ]
  },
  {
   "cell_type": "markdown",
   "metadata": {},
   "source": [
    "## Deep GP"
   ]
  },
  {
   "cell_type": "code",
   "execution_count": 36,
   "metadata": {},
   "outputs": [],
   "source": [
    "import deepgp"
   ]
  },
  {
   "cell_type": "code",
   "execution_count": 37,
   "metadata": {},
   "outputs": [],
   "source": [
    "hidden = 1\n",
    "m_deep = deepgp.DeepGP([1,hidden,X_train.shape[1]],Y=y_train, X=X_train, inits=['PCA','PCA'], \n",
    "                  kernels=[GPy.kern.RBF(hidden,ARD=True),\n",
    "                           GPy.kern.RBF(X_train.shape[1],ARD=True)], # the kernels for each layer\n",
    "                  num_inducing=50, back_constraint=False)"
   ]
  },
  {
   "cell_type": "code",
   "execution_count": 38,
   "metadata": {},
   "outputs": [
    {
     "data": {
      "application/vnd.jupyter.widget-view+json": {
       "model_id": "5b7f3607a782432d85724e2995964da1",
       "version_major": 2,
       "version_minor": 0
      },
      "text/plain": [
       "HBox(children=(VBox(children=(IntProgress(value=0, max=500), HTML(value=''))), Box(children=(HTML(value=''),))…"
      ]
     },
     "metadata": {},
     "output_type": "display_data"
    }
   ],
   "source": [
    "for layer in m_deep.layers:\n",
    "    layer.likelihood.variance.constrain_positive(warning=False)\n",
    "m_deep.optimize(messages=True,max_iters=500)"
   ]
  },
  {
   "cell_type": "code",
   "execution_count": 39,
   "metadata": {},
   "outputs": [],
   "source": [
    "md, vd = m_deep.predict(X_train)\n",
    "mdt, vdt = m_deep.predict(X_test)"
   ]
  },
  {
   "cell_type": "code",
   "execution_count": 40,
   "metadata": {},
   "outputs": [
    {
     "data": {
      "image/png": "[encoded data removed]",
      "text/plain": [
       "<Figure size 432x288 with 1 Axes>"
      ]
     },
     "metadata": {},
     "output_type": "display_data"
    }
   ],
   "source": [
    "plt.scatter(mdt,y_test)\n",
    "plt.plot([0, 1], [0, 1], '--k', transform=plt.gca().transAxes)\n",
    "#plt.xlim([0,55])\n",
    "#plt.ylim([0,55])\n",
    "plt.show()"
   ]
  },
  {
   "cell_type": "code",
   "execution_count": 41,
   "metadata": {},
   "outputs": [
    {
     "data": {
      "image/png": "[encoded data removed]",
      "text/plain": [
       "<Figure size 432x288 with 1 Axes>"
      ]
     },
     "metadata": {},
     "output_type": "display_data"
    }
   ],
   "source": [
    "plt.scatter(md,y_train)\n",
    "plt.plot([0, 1], [0, 1], '--k', transform=plt.gca().transAxes)\n",
    "#plt.xlim([0,55])\n",
    "#plt.ylim([0,55])\n",
    "plt.show()"
   ]
  },
  {
   "cell_type": "code",
   "execution_count": 42,
   "metadata": {},
   "outputs": [
    {
     "name": "stdout",
     "output_type": "stream",
     "text": [
      "1.1440470386806607\n"
     ]
    }
   ],
   "source": [
    "print(rmse(y_test,mdt))"
   ]
  },
  {
   "cell_type": "code",
   "execution_count": 43,
   "metadata": {},
   "outputs": [
    {
     "name": "stdout",
     "output_type": "stream",
     "text": [
      "1.284989843927785\n"
     ]
    }
   ],
   "source": [
    "print(rmse(y_train,md))"
   ]
  },
  {
   "cell_type": "code",
   "execution_count": 44,
   "metadata": {},
   "outputs": [
    {
     "name": "stdout",
     "output_type": "stream",
     "text": [
      "1287.1190998825857\n"
     ]
    }
   ],
   "source": [
    "# Test NLL\n",
    "print(compute_nll(y_test,mdt,vdt))"
   ]
  },
  {
   "cell_type": "code",
   "execution_count": 45,
   "metadata": {},
   "outputs": [
    {
     "name": "stdout",
     "output_type": "stream",
     "text": [
      "1997.9220237951554\n"
     ]
    }
   ],
   "source": [
    "# Train NLL\n",
    "print(compute_nll(y_train,md,vd))"
   ]
  },
  {
   "cell_type": "code",
   "execution_count": null,
   "metadata": {},
   "outputs": [],
   "source": []
  }
 ],
 "metadata": {
  "kernelspec": {
   "display_name": "Python 3",
   "language": "python",
   "name": "python3"
  },
  "language_info": {
   "codemirror_mode": {
    "name": "ipython",
    "version": 3
   },
   "file_extension": ".py",
   "mimetype": "text/x-python",
   "name": "python",
   "nbconvert_exporter": "python",
   "pygments_lexer": "ipython3",
   "version": "3.6.5"
  }
 },
 "nbformat": 4,
 "nbformat_minor": 2
}
