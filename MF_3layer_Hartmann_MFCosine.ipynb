{
 "cells": [
  {
   "cell_type": "code",
   "execution_count": 1,
   "metadata": {},
   "outputs": [],
   "source": [
    "import numpy as np\n",
    "\n",
    "from emukit.test_functions.multi_fidelity import multi_fidelity_hartmann_3d\n",
    "from emukit.core import ContinuousParameter, ParameterSpace\n",
    "from emukit.core.initial_designs import LatinDesign\n",
    "\n",
    "from sklearn.metrics import mean_squared_error, r2_score"
   ]
  },
  {
   "cell_type": "code",
   "execution_count": 2,
   "metadata": {},
   "outputs": [],
   "source": [
    "from collections import namedtuple\n",
    "\n",
    "Function = namedtuple('Function', ['name', 'y_scale', 'noise_level', 'do_x_scaling', 'num_data', 'fcn'])\n",
    "\n",
    "\n",
    "hartmann_3d = Function(name='hartmann', y_scale=1, noise_level=[0., 0., 0.], do_x_scaling=True, num_data=[80, 40, 20], \n",
    "                    fcn=multi_fidelity_hartmann_3d)\n"
   ]
  },
  {
   "cell_type": "code",
   "execution_count": 3,
   "metadata": {},
   "outputs": [],
   "source": [
    "def generate_data(fcn_tuple, n_test_points):\n",
    "    \"\"\"\n",
    "    Generates train and test data for\n",
    "    \"\"\"\n",
    "    \n",
    "    # A different definition of the parameter space for the branin function was used in the paper\n",
    "    if fcn_tuple.name == 'branin':\n",
    "        fcn, space = fcn_tuple.fcn()\n",
    "        new_space = ParameterSpace([ContinuousParameter('x1', -5., 0.), ContinuousParameter('x2', 10., 15.)])\n",
    "    else:\n",
    "        fcn, space = fcn_tuple.fcn()\n",
    "        new_space = ParameterSpace(space._parameters[:-1])\n",
    "    \n",
    "    do_x_scaling = fcn_tuple.do_x_scaling\n",
    "    \n",
    "    \n",
    "    # Generate training data\n",
    "    \n",
    "    latin = LatinDesign(new_space)\n",
    "    X = [latin.get_samples(n) for n in fcn_tuple.num_data]\n",
    "    \n",
    "    # Scale X if required\n",
    "    if do_x_scaling:\n",
    "        scalings = X[0].std(axis=0)\n",
    "    else:\n",
    "        scalings = np.ones(X[0].shape[1])\n",
    "        \n",
    "    for x in X:\n",
    "        x /= scalings\n",
    "    \n",
    "    Y = []\n",
    "    for i, x in enumerate(X):\n",
    "        Y.append(fcn.f[i](x * scalings))\n",
    "    \n",
    "    y_scale = fcn_tuple.y_scale\n",
    "    \n",
    "    # scale y and add noise if required\n",
    "    noise_levels = fcn_tuple.noise_level\n",
    "    if any([n > 0 for n in noise_levels]):\n",
    "        for y, std_noise in zip(Y, noise_levels):\n",
    "            y /= y_scale + std_noise * np.random.randn(y.shape[0], 1)\n",
    "    \n",
    "    # Generate test data\n",
    "    x_test = latin.get_samples(n_test_points)\n",
    "    x_test /= scalings\n",
    "    y_test = fcn.f[-1](x_test * scalings)\n",
    "    y_test /= y_scale\n",
    "\n",
    "    i_highest_fidelity = (len(fcn_tuple.num_data) - 1) * np.ones((x_test.shape[0], 1))\n",
    "    x_test = np.concatenate([x_test, i_highest_fidelity], axis=1)\n",
    "    print(X[1].shape)\n",
    "    return x_test, y_test, X, Y"
   ]
  },
  {
   "cell_type": "code",
   "execution_count": 4,
   "metadata": {},
   "outputs": [],
   "source": [
    "def calculate_metrics(y_test, y_mean_prediction, y_var_prediction):\n",
    "    # R2\n",
    "    r2 = r2_score(y_test, y_mean_prediction)\n",
    "    # RMSE\n",
    "    rmse = np.sqrt(mean_squared_error(y_test, y_mean_prediction))\n",
    "    # Test log likelihood\n",
    "    mnll = -np.sum(scipy.stats.norm.logpdf(y_test, loc=y_mean_prediction, scale=np.sqrt(y_var_prediction)))/len(y_test)\n",
    "    return {'r2': r2, 'rmse': rmse, 'mnll': mnll}"
   ]
  },
  {
   "cell_type": "code",
   "execution_count": 5,
   "metadata": {},
   "outputs": [
    {
     "name": "stdout",
     "output_type": "stream",
     "text": [
      "(40, 3)\n"
     ]
    }
   ],
   "source": [
    "np.random.seed(123)\n",
    "\n",
    "x_test, y_test, X, Y = generate_data(hartmann_3d, 1000)"
   ]
  },
  {
   "cell_type": "code",
   "execution_count": 6,
   "metadata": {},
   "outputs": [
    {
     "data": {
      "text/plain": [
       "((80, 3), (80, 1))"
      ]
     },
     "execution_count": 6,
     "metadata": {},
     "output_type": "execute_result"
    }
   ],
   "source": [
    "X[0].shape, Y[0].shape"
   ]
  },
  {
   "cell_type": "code",
   "execution_count": 7,
   "metadata": {},
   "outputs": [
    {
     "data": {
      "text/plain": [
       "((40, 3), (40, 1))"
      ]
     },
     "execution_count": 7,
     "metadata": {},
     "output_type": "execute_result"
    }
   ],
   "source": [
    "X[1].shape, Y[1].shape"
   ]
  },
  {
   "cell_type": "code",
   "execution_count": 8,
   "metadata": {},
   "outputs": [
    {
     "data": {
      "text/plain": [
       "((20, 3), (20, 1))"
      ]
     },
     "execution_count": 8,
     "metadata": {},
     "output_type": "execute_result"
    }
   ],
   "source": [
    "X[2].shape, Y[2].shape"
   ]
  },
  {
   "cell_type": "code",
   "execution_count": 9,
   "metadata": {},
   "outputs": [
    {
     "data": {
      "text/plain": [
       "((1000, 4), (1000, 1))"
      ]
     },
     "execution_count": 9,
     "metadata": {},
     "output_type": "execute_result"
    }
   ],
   "source": [
    "x_test.shape, y_test.shape"
   ]
  },
  {
   "cell_type": "markdown",
   "metadata": {},
   "source": [
    "## Introduce AR1 model and fit all three fidelities of data"
   ]
  },
  {
   "cell_type": "code",
   "execution_count": 10,
   "metadata": {},
   "outputs": [],
   "source": [
    "#from emukit.examples.multi_fidelity_dgp.baseline_model_wrappers import LinearAutoRegressiveModel\n",
    "\n",
    "#m1 =  LinearAutoRegressiveModel(X, Y)\n",
    "#m1.optimize()"
   ]
  },
  {
   "cell_type": "code",
   "execution_count": 11,
   "metadata": {},
   "outputs": [],
   "source": [
    "#print(m1)"
   ]
  },
  {
   "cell_type": "code",
   "execution_count": 12,
   "metadata": {},
   "outputs": [],
   "source": [
    "#y_mean, y_var = m1.predict(x_test)\n",
    "\n",
    "import scipy.stats\n",
    "\n",
    "#print(calculate_metrics(y_test, y_mean, y_var))"
   ]
  },
  {
   "cell_type": "code",
   "execution_count": 13,
   "metadata": {},
   "outputs": [],
   "source": [
    "import matplotlib.pyplot as plt\n",
    "\n",
    "#plt.scatter(y_mean,y_test)\n",
    "#plt.plot([0, 1], [0, 1], '--k', transform=plt.gca().transAxes)\n",
    "#plt.show()"
   ]
  },
  {
   "cell_type": "markdown",
   "metadata": {},
   "source": [
    "## To set up the data in three-layer structure\n",
    "### Cheap data, expensive data, high data"
   ]
  },
  {
   "cell_type": "code",
   "execution_count": 14,
   "metadata": {},
   "outputs": [
    {
     "data": {
      "text/plain": [
       "<paramz.optimization.optimization.opt_lbfgsb at 0x7fd3fcbb7fd0>"
      ]
     },
     "execution_count": 14,
     "metadata": {},
     "output_type": "execute_result"
    }
   ],
   "source": [
    "X_branin_cheap = X[0]\n",
    "X_branin_expensive = X[1]\n",
    "X_branin_high = X[2]\n",
    "\n",
    "y_branin_cheap = Y[0]\n",
    "y_branin_expensive = Y[1]\n",
    "y_branin_high = Y[2]\n",
    "\n",
    "import GPy\n",
    "from GPy.kern import Kern\n",
    "from GPy import Param, Model\n",
    "\n",
    "m2 = GPy.models.GPRegression(X_branin_cheap, y_branin_cheap)\n",
    "m2.optimize()"
   ]
  },
  {
   "cell_type": "code",
   "execution_count": 15,
   "metadata": {},
   "outputs": [
    {
     "name": "stdout",
     "output_type": "stream",
     "text": [
      "Optimization restart 1/10, f = 34.55533884662158\n",
      "Optimization restart 2/10, f = 34.55533900543114\n",
      "Optimization restart 3/10, f = 34.55534345140917\n",
      "Optimization restart 4/10, f = 34.55533899269176\n",
      "Optimization restart 5/10, f = 34.55534261014722\n",
      "Optimization restart 6/10, f = 34.555338881557915\n",
      "Optimization restart 7/10, f = 34.55533922269588\n",
      "Optimization restart 8/10, f = 34.555338863543284\n",
      "Optimization restart 9/10, f = 34.555338885338756\n",
      "Optimization restart 10/10, f = 34.5554011725912\n"
     ]
    },
    {
     "data": {
      "text/plain": [
       "[<paramz.optimization.optimization.opt_lbfgsb at 0x7fd3fcbb7fd0>,\n",
       " <paramz.optimization.optimization.opt_lbfgsb at 0x7fd3fc15be90>,\n",
       " <paramz.optimization.optimization.opt_lbfgsb at 0x7fd3fcdf2c10>,\n",
       " <paramz.optimization.optimization.opt_lbfgsb at 0x7fd3fcdf2cd0>,\n",
       " <paramz.optimization.optimization.opt_lbfgsb at 0x7fd3fc15bd50>,\n",
       " <paramz.optimization.optimization.opt_lbfgsb at 0x7fd3fc9a5850>,\n",
       " <paramz.optimization.optimization.opt_lbfgsb at 0x7fd3fcdf2d90>,\n",
       " <paramz.optimization.optimization.opt_lbfgsb at 0x7fd3fcdf2990>,\n",
       " <paramz.optimization.optimization.opt_lbfgsb at 0x7fd3fcdf2a90>,\n",
       " <paramz.optimization.optimization.opt_lbfgsb at 0x7fd3fcdf2b50>,\n",
       " <paramz.optimization.optimization.opt_lbfgsb at 0x7fd3fce1a190>]"
      ]
     },
     "execution_count": 15,
     "metadata": {},
     "output_type": "execute_result"
    }
   ],
   "source": [
    "m2.optimize_restarts(num_restarts = 10)"
   ]
  },
  {
   "cell_type": "code",
   "execution_count": 16,
   "metadata": {},
   "outputs": [
    {
     "name": "stdout",
     "output_type": "stream",
     "text": [
      "\n",
      "Name : GP regression\n",
      "Objective : 34.55533884662158\n",
      "Number of Parameters : 3\n",
      "Number of Optimization Parameters : 3\n",
      "Updates : True\n",
      "Parameters:\n",
      "  \u001b[1mGP_regression.         \u001b[0;0m  |                   value  |  constraints  |  priors\n",
      "  \u001b[1mrbf.variance           \u001b[0;0m  |      1.0419727206031537  |      +ve      |        \n",
      "  \u001b[1mrbf.lengthscale        \u001b[0;0m  |      0.8820393663822793  |      +ve      |        \n",
      "  \u001b[1mGaussian_noise.variance\u001b[0;0m  |  1.2270530298477061e-10  |      +ve      |        \n"
     ]
    }
   ],
   "source": [
    "print(m2)"
   ]
  },
  {
   "cell_type": "code",
   "execution_count": 17,
   "metadata": {},
   "outputs": [
    {
     "data": {
      "text/plain": [
       "(1.0419727206031537, 0.8820393663822793)"
      ]
     },
     "execution_count": 17,
     "metadata": {},
     "output_type": "execute_result"
    }
   ],
   "source": [
    "m2.kern.variance[0], m2.kern.lengthscale[0]"
   ]
  },
  {
   "cell_type": "markdown",
   "metadata": {},
   "source": [
    "### predicting the expensive data using gp trained with cheap data"
   ]
  },
  {
   "cell_type": "code",
   "execution_count": 18,
   "metadata": {},
   "outputs": [],
   "source": [
    "muA, vA = m2.predict(X_branin_expensive, full_cov = True)"
   ]
  },
  {
   "cell_type": "markdown",
   "metadata": {},
   "source": [
    "### Set up the kernel matrix using posterior mean and covariance in mu_A and cov_A"
   ]
  },
  {
   "cell_type": "code",
   "execution_count": 19,
   "metadata": {},
   "outputs": [],
   "source": [
    "from MFRBF import MFCosine\n",
    "\n",
    "kMF_A = MFCosine(input_dim=X_branin_expensive.shape[1], variance = 5, lengthscale = 1, mu = muA, v=vA)"
   ]
  },
  {
   "cell_type": "code",
   "execution_count": 20,
   "metadata": {},
   "outputs": [
    {
     "data": {
      "text/plain": [
       "<paramz.optimization.optimization.opt_lbfgsb at 0x7fd3fc76a950>"
      ]
     },
     "execution_count": 20,
     "metadata": {},
     "output_type": "execute_result"
    }
   ],
   "source": [
    "kRBF_A = GPy.kern.RBF(input_dim = X_branin_expensive.shape[1])\n",
    "\n",
    "k_A = kMF_A * kRBF_A\n",
    "\n",
    "#k_A = kMF_A\n",
    "\n",
    "m_A = GPy.models.GPRegression(X_branin_expensive, y_branin_expensive, k_A)\n",
    "\n",
    "m_A.optimize()"
   ]
  },
  {
   "cell_type": "code",
   "execution_count": 21,
   "metadata": {},
   "outputs": [
    {
     "name": "stdout",
     "output_type": "stream",
     "text": [
      "Optimization restart 1/2, f = 0.05099331942211194\n",
      "Optimization restart 2/2, f = -4.889719619575445\n"
     ]
    },
    {
     "data": {
      "text/plain": [
       "[<paramz.optimization.optimization.opt_lbfgsb at 0x7fd3fc76a950>,\n",
       " <paramz.optimization.optimization.opt_lbfgsb at 0x7fd3fd53cb10>,\n",
       " <paramz.optimization.optimization.opt_lbfgsb at 0x7fd3fcdf2a50>]"
      ]
     },
     "execution_count": 21,
     "metadata": {},
     "output_type": "execute_result"
    }
   ],
   "source": [
    "m_A.optimize_restarts(num_restarts = 2)"
   ]
  },
  {
   "cell_type": "code",
   "execution_count": 22,
   "metadata": {},
   "outputs": [
    {
     "name": "stdout",
     "output_type": "stream",
     "text": [
      "\n",
      "Name : GP regression\n",
      "Objective : -4.889719619575445\n",
      "Number of Parameters : 5\n",
      "Number of Optimization Parameters : 5\n",
      "Updates : True\n",
      "Parameters:\n",
      "  \u001b[1mGP_regression.         \u001b[0;0m  |                 value  |  constraints  |  priors\n",
      "  \u001b[1mmul.MFCosine.variance  \u001b[0;0m  |     8.211445526244571  |               |        \n",
      "  \u001b[1mmul.MFCosine.lengtscale\u001b[0;0m  |   -14.334877307952508  |               |        \n",
      "  \u001b[1mmul.rbf.variance       \u001b[0;0m  |     7.752621054847426  |      +ve      |        \n",
      "  \u001b[1mmul.rbf.lengthscale    \u001b[0;0m  |     38.01265742501965  |      +ve      |        \n",
      "  \u001b[1mGaussian_noise.variance\u001b[0;0m  |  0.000217824862628356  |      +ve      |        \n"
     ]
    }
   ],
   "source": [
    "print(m_A)"
   ]
  },
  {
   "cell_type": "markdown",
   "metadata": {},
   "source": [
    "### Now it is going to get the posterior for x_high"
   ]
  },
  {
   "cell_type": "code",
   "execution_count": 23,
   "metadata": {},
   "outputs": [],
   "source": [
    "def predict_eff(CovMtx, Y):\n",
    "    len_expensive = Y.shape[0]\n",
    "    len_all = CovMtx.shape[0]\n",
    "    len_high = len_all-len_expensive\n",
    "    K_ee = CovMtx[len_high:,len_high:]\n",
    "    K_e = CovMtx[0:len_high,len_high:]\n",
    "    K_inv = np.linalg.inv(K_ee+0.000001*np.eye(len_expensive))\n",
    "    pred_mu = np.matmul(np.matmul(K_e, K_inv), Y)\n",
    "    pred_v = CovMtx[0:len_high,0:len_high] - np.matmul(np.matmul(K_e, K_inv), np.matrix.transpose(K_e))\n",
    "    return pred_mu, pred_v"
   ]
  },
  {
   "cell_type": "code",
   "execution_count": 24,
   "metadata": {},
   "outputs": [],
   "source": [
    "s1=m_A.kern.rbf.variance[0]\n",
    "l1=m_A.kern.rbf.lengthscale[0]\n",
    "s2=m_A.kern.MFCosine.variance[0]\n",
    "l2=m_A.kern.MFCosine.lengthscale[0]\n",
    "\n",
    "#s2 = m_A.MFRBF.variance[0]\n",
    "#l2 = m_A.MFRBF.lengthscale[0]"
   ]
  },
  {
   "cell_type": "code",
   "execution_count": 25,
   "metadata": {},
   "outputs": [
    {
     "data": {
      "text/plain": [
       "(7.752621054847426, 38.01265742501965, 8.211445526244571, -14.334877307952508)"
      ]
     },
     "execution_count": 25,
     "metadata": {},
     "output_type": "execute_result"
    }
   ],
   "source": [
    "s1, l1, s2, l2\n",
    "#s2, l2"
   ]
  },
  {
   "cell_type": "code",
   "execution_count": 26,
   "metadata": {},
   "outputs": [],
   "source": [
    "Xnew = np.vstack((X_branin_high,X_branin_expensive))"
   ]
  },
  {
   "cell_type": "code",
   "execution_count": 27,
   "metadata": {},
   "outputs": [
    {
     "data": {
      "text/plain": [
       "(60, 3)"
      ]
     },
     "execution_count": 27,
     "metadata": {},
     "output_type": "execute_result"
    }
   ],
   "source": [
    "Xnew.shape"
   ]
  },
  {
   "cell_type": "code",
   "execution_count": 28,
   "metadata": {},
   "outputs": [],
   "source": [
    "mu1, v1 = m2.predict(Xnew, full_cov = True)"
   ]
  },
  {
   "cell_type": "code",
   "execution_count": 29,
   "metadata": {},
   "outputs": [
    {
     "data": {
      "text/plain": [
       "((60, 1), (60, 60))"
      ]
     },
     "execution_count": 29,
     "metadata": {},
     "output_type": "execute_result"
    }
   ],
   "source": [
    "mu1.shape, v1.shape"
   ]
  },
  {
   "cell_type": "code",
   "execution_count": 30,
   "metadata": {},
   "outputs": [],
   "source": [
    "kMF_tmp = MFCosine(input_dim=X_branin_high.shape[1],variance = s2, lengthscale = l2, mu = mu1, v=v1)\n",
    "kRBF_tmp = GPy.kern.RBF(input_dim = X_branin_high.shape[1], variance = s1, lengthscale = l1)\n",
    "M1 = kMF_tmp.K(Xnew)\n",
    "M2 = kRBF_tmp.K(Xnew)\n",
    "GG = np.multiply(M1, M2)\n",
    "#GG = M1\n",
    "\n",
    "\n",
    "pred_mu, pred_cov = predict_eff(GG, y_branin_expensive)"
   ]
  },
  {
   "cell_type": "code",
   "execution_count": 31,
   "metadata": {},
   "outputs": [
    {
     "data": {
      "text/plain": [
       "((20, 1), (20, 20))"
      ]
     },
     "execution_count": 31,
     "metadata": {},
     "output_type": "execute_result"
    }
   ],
   "source": [
    "pred_mu.shape, pred_cov.shape"
   ]
  },
  {
   "cell_type": "markdown",
   "metadata": {},
   "source": [
    "### Start of training the high layer (3rd layer)"
   ]
  },
  {
   "cell_type": "code",
   "execution_count": 32,
   "metadata": {},
   "outputs": [],
   "source": [
    "kMF_B = MFCosine(input_dim=X_branin_expensive.shape[1], variance = 2, lengthscale = 1, mu = pred_mu, v=pred_cov)"
   ]
  },
  {
   "cell_type": "code",
   "execution_count": 33,
   "metadata": {},
   "outputs": [
    {
     "data": {
      "text/plain": [
       "<paramz.optimization.optimization.opt_lbfgsb at 0x7fd3fcd62fd0>"
      ]
     },
     "execution_count": 33,
     "metadata": {},
     "output_type": "execute_result"
    }
   ],
   "source": [
    "kRBF_B = GPy.kern.RBF(input_dim = X_branin_expensive.shape[1])\n",
    "\n",
    "k_B = kMF_B * kRBF_B\n",
    "\n",
    "#k_B = kMF_B\n",
    "\n",
    "m_B = GPy.models.GPRegression(X_branin_high, y_branin_high, k_B)\n",
    "\n",
    "m_B.optimize()"
   ]
  },
  {
   "cell_type": "code",
   "execution_count": 34,
   "metadata": {},
   "outputs": [
    {
     "name": "stdout",
     "output_type": "stream",
     "text": [
      "Optimization restart 1/2, f = -2.978848199215463\n",
      "Optimization restart 2/2, f = 4.622517761606886\n"
     ]
    },
    {
     "data": {
      "text/plain": [
       "[<paramz.optimization.optimization.opt_lbfgsb at 0x7fd3fcd62fd0>,\n",
       " <paramz.optimization.optimization.opt_lbfgsb at 0x7fd3f9499150>,\n",
       " <paramz.optimization.optimization.opt_lbfgsb at 0x7fd3fce1a310>]"
      ]
     },
     "execution_count": 34,
     "metadata": {},
     "output_type": "execute_result"
    }
   ],
   "source": [
    "m_B.optimize_restarts(num_restarts = 2)"
   ]
  },
  {
   "cell_type": "code",
   "execution_count": 35,
   "metadata": {},
   "outputs": [
    {
     "name": "stdout",
     "output_type": "stream",
     "text": [
      "\n",
      "Name : GP regression\n",
      "Objective : -2.978848199215463\n",
      "Number of Parameters : 5\n",
      "Number of Optimization Parameters : 5\n",
      "Updates : True\n",
      "Parameters:\n",
      "  \u001b[1mGP_regression.         \u001b[0;0m  |                 value  |  constraints  |  priors\n",
      "  \u001b[1mmul.MFCosine.variance  \u001b[0;0m  |    1.3705962725346108  |               |        \n",
      "  \u001b[1mmul.MFCosine.lengtscale\u001b[0;0m  |     2.594192293939367  |               |        \n",
      "  \u001b[1mmul.rbf.variance       \u001b[0;0m  |    4.0532786379305925  |      +ve      |        \n",
      "  \u001b[1mmul.rbf.lengthscale    \u001b[0;0m  |      82.0069455874777  |      +ve      |        \n",
      "  \u001b[1mGaussian_noise.variance\u001b[0;0m  |  0.007153342462743115  |      +ve      |        \n"
     ]
    }
   ],
   "source": [
    "print(m_B)"
   ]
  },
  {
   "cell_type": "code",
   "execution_count": 36,
   "metadata": {},
   "outputs": [],
   "source": [
    "sb1=m_B.kern.rbf.variance[0]\n",
    "lb1=m_B.kern.rbf.lengthscale[0]\n",
    "sb2=m_B.kern.MFCosine.variance[0]\n",
    "lb2=m_B.kern.MFCosine.lengthscale[0]\n",
    "\n",
    "#sb2 = m_B.MFRBF.variance[0]\n",
    "#lb2 = m_B.MFRBF.lengthscale[0]"
   ]
  },
  {
   "cell_type": "code",
   "execution_count": 37,
   "metadata": {},
   "outputs": [
    {
     "data": {
      "text/plain": [
       "(4.0532786379305925, 82.0069455874777, 1.3705962725346108, 2.594192293939367)"
      ]
     },
     "execution_count": 37,
     "metadata": {},
     "output_type": "execute_result"
    }
   ],
   "source": [
    "sb1, lb1, sb2, lb2\n",
    "#sb2, lb2"
   ]
  },
  {
   "cell_type": "markdown",
   "metadata": {},
   "source": [
    "## Final stage: prediction the high-level "
   ]
  },
  {
   "cell_type": "code",
   "execution_count": 38,
   "metadata": {},
   "outputs": [
    {
     "data": {
      "text/plain": [
       "(1000, 3)"
      ]
     },
     "execution_count": 38,
     "metadata": {},
     "output_type": "execute_result"
    }
   ],
   "source": [
    "X_test = x_test[:,0:3]\n",
    "X_test.shape\n",
    "#Y_test=[]\n",
    "#Y_test_std = []\n",
    "#Y_test_up=[]\n",
    "#Y_test_down=[]\n",
    "\n",
    "#for i in range(X_test.shape[0]):\n",
    "#    xx = X_test[i].reshape(1,2)\n",
    "#    Xnew = np.vstack((xx,X_currin_expensive))\n",
    "#    mu1, v1 = m4.predict(Xnew, full_cov = True)\n",
    "#    kernMF = MFRBF(input_dim=2,variance = s2, lengthscale = l2, mu = mu1, v=v1)\n",
    "#    kernRBF = GPy.kern.RBF(input_dim = 2, variance = s1, lengthscale = l1)\n",
    "#    M1 = kernMF.K(Xnew)\n",
    "#    M2 = kernRBF.K(Xnew)\n",
    "#    GG = np.multiply(M1, M2)\n",
    "    \n",
    "#    pred_mu, pred_std = predict_eff(GG, y_currin_expensive)\n",
    "    \n",
    "#    Y_test.append(pred_mu)\n",
    "#    Y_test_std.append(pred_std)\n",
    "#    Y_test_up.append(pred_mu+1.96*pred_std)\n",
    "#    Y_test_down.append(pred_mu-1.96*pred_std)"
   ]
  },
  {
   "cell_type": "code",
   "execution_count": 39,
   "metadata": {},
   "outputs": [
    {
     "data": {
      "text/plain": [
       "(1060, 3)"
      ]
     },
     "execution_count": 39,
     "metadata": {},
     "output_type": "execute_result"
    }
   ],
   "source": [
    "Xnew1 = np.vstack((X_test,X_branin_high,X_branin_expensive))\n",
    "Xnew1.shape"
   ]
  },
  {
   "cell_type": "code",
   "execution_count": 40,
   "metadata": {},
   "outputs": [],
   "source": [
    "mu12_1, cov12_1 = m2.predict(Xnew1,full_cov=True)"
   ]
  },
  {
   "cell_type": "code",
   "execution_count": 41,
   "metadata": {},
   "outputs": [
    {
     "data": {
      "text/plain": [
       "((1060, 1), (1060, 1060))"
      ]
     },
     "execution_count": 41,
     "metadata": {},
     "output_type": "execute_result"
    }
   ],
   "source": [
    "mu12_1.shape, cov12_1.shape"
   ]
  },
  {
   "cell_type": "code",
   "execution_count": 42,
   "metadata": {},
   "outputs": [],
   "source": [
    "kernMF12_1 = MFCosine(input_dim=2,variance = s2, lengthscale = l2, mu = mu12_1, v=cov12_1)\n",
    "kernRBF12_1 = GPy.kern.RBF(input_dim = 2, variance = s1, lengthscale = l1)\n",
    "\n",
    "M1_12_1 = kernMF12_1.K(Xnew1)\n",
    "M2_12_1 = kernRBF12_1.K(Xnew1)\n",
    "GG12_1 = np.multiply(M1_12_1, M2_12_1)\n",
    "#GG12_1 = M1_12_1 \n",
    "    \n",
    "mu12_2, cov12_2 = predict_eff(GG12_1, y_branin_expensive)"
   ]
  },
  {
   "cell_type": "code",
   "execution_count": 43,
   "metadata": {},
   "outputs": [
    {
     "data": {
      "text/plain": [
       "((1020, 1), (1020, 1020))"
      ]
     },
     "execution_count": 43,
     "metadata": {},
     "output_type": "execute_result"
    }
   ],
   "source": [
    "mu12_2.shape, cov12_2.shape"
   ]
  },
  {
   "cell_type": "code",
   "execution_count": 44,
   "metadata": {},
   "outputs": [],
   "source": [
    "Xnew2 = np.vstack((X_test,X_branin_high))\n",
    "\n",
    "kernMF12_2 = MFCosine(input_dim=2,variance = sb2, lengthscale = lb2, mu = mu12_2, v=cov12_2)\n",
    "kernRBF12_2 = GPy.kern.RBF(input_dim = 2, variance = sb1, lengthscale = lb1)\n",
    "\n",
    "M1_12_2 = kernMF12_2.K(Xnew2)\n",
    "M2_12_2 = kernRBF12_2.K(Xnew2)\n",
    "GG12_2 = np.multiply(M1_12_2, M2_12_2)\n",
    " \n",
    "#GG12_2 = M1_12_2\n",
    "    \n",
    "mu12_3, cov12_3 = predict_eff(GG12_2, y_branin_high)"
   ]
  },
  {
   "cell_type": "code",
   "execution_count": 45,
   "metadata": {},
   "outputs": [
    {
     "data": {
      "text/plain": [
       "((1000, 1), (1000, 1000))"
      ]
     },
     "execution_count": 45,
     "metadata": {},
     "output_type": "execute_result"
    }
   ],
   "source": [
    "mu12_3.shape, cov12_3.shape"
   ]
  },
  {
   "cell_type": "code",
   "execution_count": 46,
   "metadata": {},
   "outputs": [
    {
     "data": {
      "text/plain": [
       "(1020, 1020)"
      ]
     },
     "execution_count": 46,
     "metadata": {},
     "output_type": "execute_result"
    }
   ],
   "source": [
    "GG12_2.shape"
   ]
  },
  {
   "cell_type": "code",
   "execution_count": 47,
   "metadata": {},
   "outputs": [
    {
     "data": {
      "image/png": "[encoded data removed]",
      "text/plain": [
       "<Figure size 432x288 with 1 Axes>"
      ]
     },
     "metadata": {
      "needs_background": "light"
     },
     "output_type": "display_data"
    }
   ],
   "source": [
    "plt.scatter(mu12_3,100*y_test)\n",
    "plt.plot([0, 1], [0, 1], '--k', transform=plt.gca().transAxes)\n",
    "plt.show()"
   ]
  },
  {
   "cell_type": "code",
   "execution_count": 48,
   "metadata": {},
   "outputs": [],
   "source": [
    "var12_3 = np.diagonal(cov12_3)"
   ]
  },
  {
   "cell_type": "code",
   "execution_count": 49,
   "metadata": {},
   "outputs": [
    {
     "data": {
      "text/plain": [
       "(1000, 1)"
      ]
     },
     "execution_count": 49,
     "metadata": {},
     "output_type": "execute_result"
    }
   ],
   "source": [
    "mu12_3.shape"
   ]
  },
  {
   "cell_type": "code",
   "execution_count": 50,
   "metadata": {},
   "outputs": [
    {
     "data": {
      "text/plain": [
       "(1000,)"
      ]
     },
     "execution_count": 50,
     "metadata": {},
     "output_type": "execute_result"
    }
   ],
   "source": [
    "var12_3.shape"
   ]
  },
  {
   "cell_type": "code",
   "execution_count": 51,
   "metadata": {},
   "outputs": [],
   "source": [
    "var12_3=np.array(var12_3).reshape(-1,1)"
   ]
  },
  {
   "cell_type": "code",
   "execution_count": 52,
   "metadata": {},
   "outputs": [
    {
     "name": "stdout",
     "output_type": "stream",
     "text": [
      "{'r2': 0.969268927013187, 'rmse': 0.1647596456382165, 'mnll': -0.31422873683857516}\n"
     ]
    }
   ],
   "source": [
    "print(calculate_metrics(y_test, mu12_3, var12_3))"
   ]
  },
  {
   "cell_type": "code",
   "execution_count": null,
   "metadata": {},
   "outputs": [],
   "source": []
  }
 ],
 "metadata": {
  "kernelspec": {
   "display_name": "Python 3",
   "language": "python",
   "name": "python3"
  },
  "language_info": {
   "codemirror_mode": {
    "name": "ipython",
    "version": 3
   },
   "file_extension": ".py",
   "mimetype": "text/x-python",
   "name": "python",
   "nbconvert_exporter": "python",
   "pygments_lexer": "ipython3",
   "version": "3.7.6"
  }
 },
 "nbformat": 4,
 "nbformat_minor": 4
}
